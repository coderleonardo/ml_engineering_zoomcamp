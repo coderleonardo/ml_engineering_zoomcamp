{
 "cells": [
  {
   "cell_type": "code",
   "execution_count": 1,
   "metadata": {},
   "outputs": [],
   "source": [
    "import pandas as pd\n",
    "import numpy as np\n",
    "\n",
    "from sklearn.model_selection import train_test_split\n",
    "from sklearn.feature_extraction import DictVectorizer\n",
    "\n",
    "from sklearn.metrics import mean_squared_error\n",
    "\n",
    "from sklearn.linear_model import Ridge\n"
   ]
  },
  {
   "cell_type": "code",
   "execution_count": 2,
   "metadata": {},
   "outputs": [],
   "source": [
    "car_prices_df = pd.read_csv(\"data.csv\")\n",
    "\n",
    "# Features used \n",
    "cols = ['Make', 'Model', 'Year', 'Engine HP', 'Engine Cylinders', 'Transmission Type', 'Vehicle Style',\n",
    "        'highway MPG', 'city mpg']\n",
    "\n",
    "target = ['MSRP']\n",
    "\n",
    "car_prices_df2 = car_prices_df.copy()\n",
    "car_prices_df2 = car_prices_df2[cols + target]\n",
    "\n",
    "# Data preparation\n",
    "car_prices_df2.columns = car_prices_df2.columns.str.replace(\" \", \"_\").str.lower()\n",
    "cols = ['make', 'model', 'year', 'engine_hp', 'engine_cylinders',\n",
    "       'transmission_type', 'vehicle_style', 'highway_mpg', 'city_mpg']\n",
    "\n",
    "car_prices_df2[cols] = car_prices_df2[cols].fillna(0)"
   ]
  },
  {
   "cell_type": "code",
   "execution_count": 3,
   "metadata": {},
   "outputs": [],
   "source": [
    "full_train_df, test_df = train_test_split(car_prices_df2, test_size=0.2, random_state=42)\n",
    "\n",
    "train_df, val_df = train_test_split(full_train_df, test_size=0.25, random_state=42)"
   ]
  },
  {
   "cell_type": "code",
   "execution_count": 4,
   "metadata": {},
   "outputs": [],
   "source": [
    "y_train = train_df[\"msrp\"]\n",
    "y_val = val_df[\"msrp\"]\n",
    "\n",
    "del train_df[\"msrp\"]\n",
    "del val_df[\"msrp\"]\n",
    "\n",
    "categorical_cols = [\"make\", \"model\", \"transmission_type\", \"vehicle_style\"]\n",
    "numerical_cols = [\"year\", \"engine_hp\", \"engine_cylinders\", \"highway_mpg\", \"city_mpg\"]\n",
    "\n",
    "# One-hot enconding\n",
    "train_dict = train_df[categorical_cols + numerical_cols].to_dict(orient='records')\n",
    "dv = DictVectorizer(sparse=False)\n",
    "dv.fit(train_dict)\n",
    "\n",
    "X_train = dv.transform(train_dict)\n",
    "\n",
    "val_dict = val_df[categorical_cols + numerical_cols].to_dict(orient='records')\n",
    "X_val = dv.transform(val_dict)\n",
    "\n",
    "# Applying the log1p\n",
    "y_train_log = np.log1p(y_train)\n",
    "y_val_log = np.log1p(y_val)"
   ]
  },
  {
   "cell_type": "code",
   "execution_count": 5,
   "metadata": {},
   "outputs": [],
   "source": [
    "# Training a Logistic Regression\n",
    "for alpha in [0, 0.01, 0.1, 1, 10]:\n",
    "    model = Ridge(alpha=alpha, solver=\"sag\", random_state=42)\n",
    "    model.fit(X_train, y_train_log)\n",
    "    \n",
    "    # Predicting on the val set\n",
    "    y_pred = model.predict(X_val)\n",
    "\n",
    "    rmse = np.sqrt(mean_squared_error(y_val_log, y_pred))\n",
    "\n",
    "    print(f\"{alpha}: rmse = {rmse}\")\n",
    "    print()\n",
    "\n",
    "    "
   ]
  },
  {
   "cell_type": "code",
   "execution_count": null,
   "metadata": {},
   "outputs": [],
   "source": []
  }
 ],
 "metadata": {
  "kernelspec": {
   "display_name": "base",
   "language": "python",
   "name": "python3"
  },
  "language_info": {
   "codemirror_mode": {
    "name": "ipython",
    "version": 3
   },
   "file_extension": ".py",
   "mimetype": "text/x-python",
   "name": "python",
   "nbconvert_exporter": "python",
   "pygments_lexer": "ipython3",
   "version": "3.9.13"
  },
  "orig_nbformat": 4,
  "vscode": {
   "interpreter": {
    "hash": "665a2f09064594faae91b84bbcbd4142b9b211470009df8037a31a65de987fa8"
   }
  }
 },
 "nbformat": 4,
 "nbformat_minor": 2
}
