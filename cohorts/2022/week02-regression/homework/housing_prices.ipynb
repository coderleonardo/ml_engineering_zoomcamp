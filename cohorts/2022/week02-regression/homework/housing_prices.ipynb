{
 "cells": [
  {
   "cell_type": "markdown",
   "id": "b0c9ea8e-75a1-484c-a8eb-51c1cd572c25",
   "metadata": {},
   "source": [
    "## Loading the data + EDA"
   ]
  },
  {
   "cell_type": "code",
   "execution_count": 3,
   "id": "80b36351-28c7-4e9f-a7c8-089c8c6df553",
   "metadata": {},
   "outputs": [],
   "source": [
    "import pandas as pd\n",
    "import numpy as np\n",
    "\n",
    "import seaborn as sns"
   ]
  },
  {
   "cell_type": "code",
   "execution_count": 4,
   "id": "8fb69d8d-e52b-49e1-ac22-f14ea45ce9ec",
   "metadata": {},
   "outputs": [],
   "source": [
    "housing_df = pd.read_csv('housing.csv')"
   ]
  },
  {
   "cell_type": "code",
   "execution_count": 5,
   "id": "c51c4099-6d6b-404f-811d-a429716e8b06",
   "metadata": {},
   "outputs": [
    {
     "data": {
      "text/html": [
       "<div>\n",
       "<style scoped>\n",
       "    .dataframe tbody tr th:only-of-type {\n",
       "        vertical-align: middle;\n",
       "    }\n",
       "\n",
       "    .dataframe tbody tr th {\n",
       "        vertical-align: top;\n",
       "    }\n",
       "\n",
       "    .dataframe thead th {\n",
       "        text-align: right;\n",
       "    }\n",
       "</style>\n",
       "<table border=\"1\" class=\"dataframe\">\n",
       "  <thead>\n",
       "    <tr style=\"text-align: right;\">\n",
       "      <th></th>\n",
       "      <th>longitude</th>\n",
       "      <th>latitude</th>\n",
       "      <th>housing_median_age</th>\n",
       "      <th>total_rooms</th>\n",
       "      <th>total_bedrooms</th>\n",
       "      <th>population</th>\n",
       "      <th>households</th>\n",
       "      <th>median_income</th>\n",
       "      <th>median_house_value</th>\n",
       "      <th>ocean_proximity</th>\n",
       "    </tr>\n",
       "  </thead>\n",
       "  <tbody>\n",
       "    <tr>\n",
       "      <th>0</th>\n",
       "      <td>-122.23</td>\n",
       "      <td>37.88</td>\n",
       "      <td>41.0</td>\n",
       "      <td>880.0</td>\n",
       "      <td>129.0</td>\n",
       "      <td>322.0</td>\n",
       "      <td>126.0</td>\n",
       "      <td>8.3252</td>\n",
       "      <td>452600.0</td>\n",
       "      <td>NEAR BAY</td>\n",
       "    </tr>\n",
       "    <tr>\n",
       "      <th>1</th>\n",
       "      <td>-122.22</td>\n",
       "      <td>37.86</td>\n",
       "      <td>21.0</td>\n",
       "      <td>7099.0</td>\n",
       "      <td>1106.0</td>\n",
       "      <td>2401.0</td>\n",
       "      <td>1138.0</td>\n",
       "      <td>8.3014</td>\n",
       "      <td>358500.0</td>\n",
       "      <td>NEAR BAY</td>\n",
       "    </tr>\n",
       "    <tr>\n",
       "      <th>2</th>\n",
       "      <td>-122.24</td>\n",
       "      <td>37.85</td>\n",
       "      <td>52.0</td>\n",
       "      <td>1467.0</td>\n",
       "      <td>190.0</td>\n",
       "      <td>496.0</td>\n",
       "      <td>177.0</td>\n",
       "      <td>7.2574</td>\n",
       "      <td>352100.0</td>\n",
       "      <td>NEAR BAY</td>\n",
       "    </tr>\n",
       "    <tr>\n",
       "      <th>3</th>\n",
       "      <td>-122.25</td>\n",
       "      <td>37.85</td>\n",
       "      <td>52.0</td>\n",
       "      <td>1274.0</td>\n",
       "      <td>235.0</td>\n",
       "      <td>558.0</td>\n",
       "      <td>219.0</td>\n",
       "      <td>5.6431</td>\n",
       "      <td>341300.0</td>\n",
       "      <td>NEAR BAY</td>\n",
       "    </tr>\n",
       "    <tr>\n",
       "      <th>4</th>\n",
       "      <td>-122.25</td>\n",
       "      <td>37.85</td>\n",
       "      <td>52.0</td>\n",
       "      <td>1627.0</td>\n",
       "      <td>280.0</td>\n",
       "      <td>565.0</td>\n",
       "      <td>259.0</td>\n",
       "      <td>3.8462</td>\n",
       "      <td>342200.0</td>\n",
       "      <td>NEAR BAY</td>\n",
       "    </tr>\n",
       "  </tbody>\n",
       "</table>\n",
       "</div>"
      ],
      "text/plain": [
       "   longitude  latitude  housing_median_age  total_rooms  total_bedrooms  \\\n",
       "0    -122.23     37.88                41.0        880.0           129.0   \n",
       "1    -122.22     37.86                21.0       7099.0          1106.0   \n",
       "2    -122.24     37.85                52.0       1467.0           190.0   \n",
       "3    -122.25     37.85                52.0       1274.0           235.0   \n",
       "4    -122.25     37.85                52.0       1627.0           280.0   \n",
       "\n",
       "   population  households  median_income  median_house_value ocean_proximity  \n",
       "0       322.0       126.0         8.3252            452600.0        NEAR BAY  \n",
       "1      2401.0      1138.0         8.3014            358500.0        NEAR BAY  \n",
       "2       496.0       177.0         7.2574            352100.0        NEAR BAY  \n",
       "3       558.0       219.0         5.6431            341300.0        NEAR BAY  \n",
       "4       565.0       259.0         3.8462            342200.0        NEAR BAY  "
      ]
     },
     "execution_count": 5,
     "metadata": {},
     "output_type": "execute_result"
    }
   ],
   "source": [
    "housing_df.head()"
   ]
  },
  {
   "cell_type": "code",
   "execution_count": 7,
   "id": "ff7aa78c-eac4-4d07-9a36-d975be32a185",
   "metadata": {},
   "outputs": [
    {
     "name": "stdout",
     "output_type": "stream",
     "text": [
      "<class 'pandas.core.frame.DataFrame'>\n",
      "RangeIndex: 20640 entries, 0 to 20639\n",
      "Data columns (total 10 columns):\n",
      " #   Column              Non-Null Count  Dtype  \n",
      "---  ------              --------------  -----  \n",
      " 0   longitude           20640 non-null  float64\n",
      " 1   latitude            20640 non-null  float64\n",
      " 2   housing_median_age  20640 non-null  float64\n",
      " 3   total_rooms         20640 non-null  float64\n",
      " 4   total_bedrooms      20433 non-null  float64\n",
      " 5   population          20640 non-null  float64\n",
      " 6   households          20640 non-null  float64\n",
      " 7   median_income       20640 non-null  float64\n",
      " 8   median_house_value  20640 non-null  float64\n",
      " 9   ocean_proximity     20640 non-null  object \n",
      "dtypes: float64(9), object(1)\n",
      "memory usage: 1.6+ MB\n"
     ]
    }
   ],
   "source": [
    "housing_df.info()"
   ]
  },
  {
   "cell_type": "code",
   "execution_count": 13,
   "id": "f61979de-43f6-4345-8d68-2f8d6f12e194",
   "metadata": {},
   "outputs": [
    {
     "data": {
      "text/plain": [
       "<AxesSubplot:xlabel='median_house_value', ylabel='Count'>"
      ]
     },
     "execution_count": 13,
     "metadata": {},
     "output_type": "execute_result"
    },
    {
     "data": {
      "image/png": "[encoded data removed]",
      "text/plain": [
       "<Figure size 432x288 with 1 Axes>"
      ]
     },
     "metadata": {
      "needs_background": "light"
     },
     "output_type": "display_data"
    }
   ],
   "source": [
    "# target: median_house_value\n",
    "# Does it have a long tail?\n",
    "median_house_value_series = housing_df['median_house_value']\n",
    "sns.histplot(median_house_value_series, bins=50)"
   ]
  },
  {
   "cell_type": "code",
   "execution_count": 14,
   "id": "64abf8e5-fe7d-40e8-94e9-991cfbd7b16b",
   "metadata": {},
   "outputs": [
    {
     "data": {
      "text/plain": [
       "<AxesSubplot:xlabel='median_house_value', ylabel='Count'>"
      ]
     },
     "execution_count": 14,
     "metadata": {},
     "output_type": "execute_result"
    },
    {
     "data": {
      "image/png": "[encoded data removed]",
      "text/plain": [
       "<Figure size 432x288 with 1 Axes>"
      ]
     },
     "metadata": {
      "needs_background": "light"
     },
     "output_type": "display_data"
    }
   ],
   "source": [
    "log_median_house_value_series = np.log1p(median_house_value_series)\n",
    "sns.histplot(log_median_house_value_series, bins=50)"
   ]
  },
  {
   "cell_type": "code",
   "execution_count": 15,
   "id": "7e16b836-af36-4c3f-9d54-93a4482b0ee7",
   "metadata": {},
   "outputs": [
    {
     "data": {
      "text/plain": [
       "Index(['longitude', 'latitude', 'housing_median_age', 'total_rooms',\n",
       "       'total_bedrooms', 'population', 'households', 'median_income',\n",
       "       'median_house_value', 'ocean_proximity'],\n",
       "      dtype='object')"
      ]
     },
     "execution_count": 15,
     "metadata": {},
     "output_type": "execute_result"
    }
   ],
   "source": [
    "# features that we will use\n",
    "housing_df.columns"
   ]
  },
  {
   "cell_type": "code",
   "execution_count": 16,
   "id": "9faf795d-2c1e-4279-83bb-8b50031773da",
   "metadata": {},
   "outputs": [],
   "source": [
    "columns_lst = ['longitude', 'latitude', 'housing_median_age', 'total_rooms',\n",
    "           'total_bedrooms', 'population', 'households', 'median_income',\n",
    "           'median_house_value']\n",
    "\n",
    "housing_df2 = housing_df.copy()\n",
    "housing_df2 = housing_df2[columns_lst]"
   ]
  },
  {
   "cell_type": "code",
   "execution_count": 17,
   "id": "12d14b75-d4d7-4e4f-a446-eb33f50a3794",
   "metadata": {},
   "outputs": [
    {
     "data": {
      "text/plain": [
       "(20640, 9)"
      ]
     },
     "execution_count": 17,
     "metadata": {},
     "output_type": "execute_result"
    }
   ],
   "source": [
    "housing_df2.shape"
   ]
  },
  {
   "cell_type": "markdown",
   "id": "45729cee-f481-4da2-b023-12d7350b5219",
   "metadata": {},
   "source": [
    "### Question 1\n",
    "Find a feature with missing values. How many missing values does it have?"
   ]
  },
  {
   "cell_type": "code",
   "execution_count": 18,
   "id": "cf17710a-f2bb-4aeb-a7c4-df4f25ec0ff0",
   "metadata": {},
   "outputs": [
    {
     "data": {
      "text/plain": [
       "longitude               0\n",
       "latitude                0\n",
       "housing_median_age      0\n",
       "total_rooms             0\n",
       "total_bedrooms        207\n",
       "population              0\n",
       "households              0\n",
       "median_income           0\n",
       "median_house_value      0\n",
       "dtype: int64"
      ]
     },
     "execution_count": 18,
     "metadata": {},
     "output_type": "execute_result"
    }
   ],
   "source": [
    "housing_df2.isnull().sum()\n",
    "# total_bedrooms have 207 missing values"
   ]
  },
  {
   "cell_type": "code",
   "execution_count": 23,
   "id": "c36c5454-71d9-4b8c-a9d9-a5466a7ba3d1",
   "metadata": {},
   "outputs": [
    {
     "name": "stdout",
     "output_type": "stream",
     "text": [
      "total_bedrooms have 207 missing values\n"
     ]
    }
   ],
   "source": [
    "print('total_bedrooms have 207 missing values')"
   ]
  },
  {
   "cell_type": "markdown",
   "id": "25d2a2f5-6709-4aca-b55d-1237cb61e7fb",
   "metadata": {},
   "source": [
    "### Question 2\n",
    "What's the median (50% percentile) for variable 'population'?"
   ]
  },
  {
   "cell_type": "code",
   "execution_count": 19,
   "id": "70290e09-b7fe-477a-ac15-41f8da171d29",
   "metadata": {},
   "outputs": [
    {
     "name": "stdout",
     "output_type": "stream",
     "text": [
      "<class 'pandas.core.frame.DataFrame'>\n",
      "RangeIndex: 20640 entries, 0 to 20639\n",
      "Data columns (total 9 columns):\n",
      " #   Column              Non-Null Count  Dtype  \n",
      "---  ------              --------------  -----  \n",
      " 0   longitude           20640 non-null  float64\n",
      " 1   latitude            20640 non-null  float64\n",
      " 2   housing_median_age  20640 non-null  float64\n",
      " 3   total_rooms         20640 non-null  float64\n",
      " 4   total_bedrooms      20433 non-null  float64\n",
      " 5   population          20640 non-null  float64\n",
      " 6   households          20640 non-null  float64\n",
      " 7   median_income       20640 non-null  float64\n",
      " 8   median_house_value  20640 non-null  float64\n",
      "dtypes: float64(9)\n",
      "memory usage: 1.4 MB\n"
     ]
    }
   ],
   "source": [
    "housing_df2.info()"
   ]
  },
  {
   "cell_type": "code",
   "execution_count": 20,
   "id": "bac6ff0e-e449-41b9-acf5-9235fc66f05f",
   "metadata": {},
   "outputs": [
    {
     "data": {
      "text/html": [
       "<div>\n",
       "<style scoped>\n",
       "    .dataframe tbody tr th:only-of-type {\n",
       "        vertical-align: middle;\n",
       "    }\n",
       "\n",
       "    .dataframe tbody tr th {\n",
       "        vertical-align: top;\n",
       "    }\n",
       "\n",
       "    .dataframe thead th {\n",
       "        text-align: right;\n",
       "    }\n",
       "</style>\n",
       "<table border=\"1\" class=\"dataframe\">\n",
       "  <thead>\n",
       "    <tr style=\"text-align: right;\">\n",
       "      <th></th>\n",
       "      <th>longitude</th>\n",
       "      <th>latitude</th>\n",
       "      <th>housing_median_age</th>\n",
       "      <th>total_rooms</th>\n",
       "      <th>total_bedrooms</th>\n",
       "      <th>population</th>\n",
       "      <th>households</th>\n",
       "      <th>median_income</th>\n",
       "      <th>median_house_value</th>\n",
       "    </tr>\n",
       "  </thead>\n",
       "  <tbody>\n",
       "    <tr>\n",
       "      <th>count</th>\n",
       "      <td>20640.000000</td>\n",
       "      <td>20640.000000</td>\n",
       "      <td>20640.000000</td>\n",
       "      <td>20640.000000</td>\n",
       "      <td>20433.000000</td>\n",
       "      <td>20640.000000</td>\n",
       "      <td>20640.000000</td>\n",
       "      <td>20640.000000</td>\n",
       "      <td>20640.000000</td>\n",
       "    </tr>\n",
       "    <tr>\n",
       "      <th>mean</th>\n",
       "      <td>-119.569704</td>\n",
       "      <td>35.631861</td>\n",
       "      <td>28.639486</td>\n",
       "      <td>2635.763081</td>\n",
       "      <td>537.870553</td>\n",
       "      <td>1425.476744</td>\n",
       "      <td>499.539680</td>\n",
       "      <td>3.870671</td>\n",
       "      <td>206855.816909</td>\n",
       "    </tr>\n",
       "    <tr>\n",
       "      <th>std</th>\n",
       "      <td>2.003532</td>\n",
       "      <td>2.135952</td>\n",
       "      <td>12.585558</td>\n",
       "      <td>2181.615252</td>\n",
       "      <td>421.385070</td>\n",
       "      <td>1132.462122</td>\n",
       "      <td>382.329753</td>\n",
       "      <td>1.899822</td>\n",
       "      <td>115395.615874</td>\n",
       "    </tr>\n",
       "    <tr>\n",
       "      <th>min</th>\n",
       "      <td>-124.350000</td>\n",
       "      <td>32.540000</td>\n",
       "      <td>1.000000</td>\n",
       "      <td>2.000000</td>\n",
       "      <td>1.000000</td>\n",
       "      <td>3.000000</td>\n",
       "      <td>1.000000</td>\n",
       "      <td>0.499900</td>\n",
       "      <td>14999.000000</td>\n",
       "    </tr>\n",
       "    <tr>\n",
       "      <th>25%</th>\n",
       "      <td>-121.800000</td>\n",
       "      <td>33.930000</td>\n",
       "      <td>18.000000</td>\n",
       "      <td>1447.750000</td>\n",
       "      <td>296.000000</td>\n",
       "      <td>787.000000</td>\n",
       "      <td>280.000000</td>\n",
       "      <td>2.563400</td>\n",
       "      <td>119600.000000</td>\n",
       "    </tr>\n",
       "    <tr>\n",
       "      <th>50%</th>\n",
       "      <td>-118.490000</td>\n",
       "      <td>34.260000</td>\n",
       "      <td>29.000000</td>\n",
       "      <td>2127.000000</td>\n",
       "      <td>435.000000</td>\n",
       "      <td>1166.000000</td>\n",
       "      <td>409.000000</td>\n",
       "      <td>3.534800</td>\n",
       "      <td>179700.000000</td>\n",
       "    </tr>\n",
       "    <tr>\n",
       "      <th>75%</th>\n",
       "      <td>-118.010000</td>\n",
       "      <td>37.710000</td>\n",
       "      <td>37.000000</td>\n",
       "      <td>3148.000000</td>\n",
       "      <td>647.000000</td>\n",
       "      <td>1725.000000</td>\n",
       "      <td>605.000000</td>\n",
       "      <td>4.743250</td>\n",
       "      <td>264725.000000</td>\n",
       "    </tr>\n",
       "    <tr>\n",
       "      <th>max</th>\n",
       "      <td>-114.310000</td>\n",
       "      <td>41.950000</td>\n",
       "      <td>52.000000</td>\n",
       "      <td>39320.000000</td>\n",
       "      <td>6445.000000</td>\n",
       "      <td>35682.000000</td>\n",
       "      <td>6082.000000</td>\n",
       "      <td>15.000100</td>\n",
       "      <td>500001.000000</td>\n",
       "    </tr>\n",
       "  </tbody>\n",
       "</table>\n",
       "</div>"
      ],
      "text/plain": [
       "          longitude      latitude  housing_median_age   total_rooms  \\\n",
       "count  20640.000000  20640.000000        20640.000000  20640.000000   \n",
       "mean    -119.569704     35.631861           28.639486   2635.763081   \n",
       "std        2.003532      2.135952           12.585558   2181.615252   \n",
       "min     -124.350000     32.540000            1.000000      2.000000   \n",
       "25%     -121.800000     33.930000           18.000000   1447.750000   \n",
       "50%     -118.490000     34.260000           29.000000   2127.000000   \n",
       "75%     -118.010000     37.710000           37.000000   3148.000000   \n",
       "max     -114.310000     41.950000           52.000000  39320.000000   \n",
       "\n",
       "       total_bedrooms    population    households  median_income  \\\n",
       "count    20433.000000  20640.000000  20640.000000   20640.000000   \n",
       "mean       537.870553   1425.476744    499.539680       3.870671   \n",
       "std        421.385070   1132.462122    382.329753       1.899822   \n",
       "min          1.000000      3.000000      1.000000       0.499900   \n",
       "25%        296.000000    787.000000    280.000000       2.563400   \n",
       "50%        435.000000   1166.000000    409.000000       3.534800   \n",
       "75%        647.000000   1725.000000    605.000000       4.743250   \n",
       "max       6445.000000  35682.000000   6082.000000      15.000100   \n",
       "\n",
       "       median_house_value  \n",
       "count        20640.000000  \n",
       "mean        206855.816909  \n",
       "std         115395.615874  \n",
       "min          14999.000000  \n",
       "25%         119600.000000  \n",
       "50%         179700.000000  \n",
       "75%         264725.000000  \n",
       "max         500001.000000  "
      ]
     },
     "execution_count": 20,
     "metadata": {},
     "output_type": "execute_result"
    }
   ],
   "source": [
    "housing_df2.describe()"
   ]
  },
  {
   "cell_type": "code",
   "execution_count": 21,
   "id": "7cd1158a-2cc5-4bf8-97da-9276daaf0138",
   "metadata": {},
   "outputs": [
    {
     "data": {
      "text/plain": [
       "count    20640.000000\n",
       "mean      1425.476744\n",
       "std       1132.462122\n",
       "min          3.000000\n",
       "25%        787.000000\n",
       "50%       1166.000000\n",
       "75%       1725.000000\n",
       "max      35682.000000\n",
       "Name: population, dtype: float64"
      ]
     },
     "execution_count": 21,
     "metadata": {},
     "output_type": "execute_result"
    }
   ],
   "source": [
    "housing_df2.describe()['population']"
   ]
  },
  {
   "cell_type": "code",
   "execution_count": 22,
   "id": "03d69540-d7b0-440c-9bfb-8bdbafdc3dc6",
   "metadata": {},
   "outputs": [
    {
     "name": "stdout",
     "output_type": "stream",
     "text": [
      "The median for population variable is 1166\n"
     ]
    }
   ],
   "source": [
    "print('The median for population variable is 1166')"
   ]
  },
  {
   "cell_type": "markdown",
   "id": "ae310ab5-2277-46f0-8d8e-00a63320b660",
   "metadata": {},
   "source": [
    "## Spliting the data"
   ]
  },
  {
   "cell_type": "code",
   "execution_count": 24,
   "id": "ca6e26f0-ba70-48e5-ad79-b66181ac0a2f",
   "metadata": {},
   "outputs": [],
   "source": [
    "n = len(housing_df2)\n",
    "\n",
    "n_val = int(n * 0.2)\n",
    "n_test = int(n * 0.2)\n",
    "n_train = n - n_val - n_test"
   ]
  },
  {
   "cell_type": "code",
   "execution_count": 25,
   "id": "d515a306-ccb4-42a2-a38e-7ec835d293ec",
   "metadata": {},
   "outputs": [
    {
     "data": {
      "text/plain": [
       "(20640, 20640)"
      ]
     },
     "execution_count": 25,
     "metadata": {},
     "output_type": "execute_result"
    }
   ],
   "source": [
    "n, n_val + n_test + n_train"
   ]
  },
  {
   "cell_type": "code",
   "execution_count": 26,
   "id": "d1110bec-62b4-4f71-b198-b0ed53027e13",
   "metadata": {},
   "outputs": [
    {
     "data": {
      "text/plain": [
       "(12384, 4128, 4128)"
      ]
     },
     "execution_count": 26,
     "metadata": {},
     "output_type": "execute_result"
    }
   ],
   "source": [
    "n_train, n_val, n_test"
   ]
  },
  {
   "cell_type": "code",
   "execution_count": 28,
   "id": "4a7ab886-793f-479e-bc0b-4d0eb22953b6",
   "metadata": {},
   "outputs": [],
   "source": [
    "idx = np.arange(n)\n",
    "\n",
    "np.random.seed(42)\n",
    "np.random.shuffle(idx)"
   ]
  },
  {
   "cell_type": "code",
   "execution_count": 29,
   "id": "5e2b605a-c74b-4834-93de-6d5d1935417d",
   "metadata": {},
   "outputs": [
    {
     "data": {
      "text/plain": [
       "array([20046,  3024, 15663, ...,  5390,   860, 15795])"
      ]
     },
     "execution_count": 29,
     "metadata": {},
     "output_type": "execute_result"
    }
   ],
   "source": [
    "idx"
   ]
  },
  {
   "cell_type": "code",
   "execution_count": 30,
   "id": "2f9efdf4-caea-455d-bf4c-8c8d97c1d385",
   "metadata": {},
   "outputs": [
    {
     "data": {
      "text/plain": [
       "array([20046,  3024, 15663, ..., 11730,  5993, 15993])"
      ]
     },
     "execution_count": 30,
     "metadata": {},
     "output_type": "execute_result"
    }
   ],
   "source": [
    "idx[: n_train]"
   ]
  },
  {
   "cell_type": "code",
   "execution_count": 31,
   "id": "8c22fe69-2ec9-49c2-995e-79cd7ffb4791",
   "metadata": {},
   "outputs": [],
   "source": [
    "train_data = housing_df2.iloc[idx[: n_train]]\n",
    "val_data = housing_df2.iloc[idx[n_train: n_train+n_val]]\n",
    "test_data = housing_df2.iloc[idx[n_train+n_val: ]]"
   ]
  },
  {
   "cell_type": "code",
   "execution_count": 32,
   "id": "b602dddd-164a-45b8-b67a-5283871e7d77",
   "metadata": {},
   "outputs": [
    {
     "data": {
      "text/plain": [
       "((12384, 9), (4128, 9), (4128, 9))"
      ]
     },
     "execution_count": 32,
     "metadata": {},
     "output_type": "execute_result"
    }
   ],
   "source": [
    "train_data.shape, val_data.shape, test_data.shape"
   ]
  },
  {
   "cell_type": "code",
   "execution_count": 34,
   "id": "3ad00b37-c22a-4f82-8980-b841182e7f30",
   "metadata": {},
   "outputs": [
    {
     "data": {
      "text/html": [
       "<div>\n",
       "<style scoped>\n",
       "    .dataframe tbody tr th:only-of-type {\n",
       "        vertical-align: middle;\n",
       "    }\n",
       "\n",
       "    .dataframe tbody tr th {\n",
       "        vertical-align: top;\n",
       "    }\n",
       "\n",
       "    .dataframe thead th {\n",
       "        text-align: right;\n",
       "    }\n",
       "</style>\n",
       "<table border=\"1\" class=\"dataframe\">\n",
       "  <thead>\n",
       "    <tr style=\"text-align: right;\">\n",
       "      <th></th>\n",
       "      <th>longitude</th>\n",
       "      <th>latitude</th>\n",
       "      <th>housing_median_age</th>\n",
       "      <th>total_rooms</th>\n",
       "      <th>total_bedrooms</th>\n",
       "      <th>population</th>\n",
       "      <th>households</th>\n",
       "      <th>median_income</th>\n",
       "      <th>median_house_value</th>\n",
       "    </tr>\n",
       "  </thead>\n",
       "  <tbody>\n",
       "    <tr>\n",
       "      <th>20046</th>\n",
       "      <td>-119.01</td>\n",
       "      <td>36.06</td>\n",
       "      <td>25.0</td>\n",
       "      <td>1505.0</td>\n",
       "      <td>NaN</td>\n",
       "      <td>1392.0</td>\n",
       "      <td>359.0</td>\n",
       "      <td>1.6812</td>\n",
       "      <td>47700.0</td>\n",
       "    </tr>\n",
       "    <tr>\n",
       "      <th>3024</th>\n",
       "      <td>-119.46</td>\n",
       "      <td>35.14</td>\n",
       "      <td>30.0</td>\n",
       "      <td>2943.0</td>\n",
       "      <td>NaN</td>\n",
       "      <td>1565.0</td>\n",
       "      <td>584.0</td>\n",
       "      <td>2.5313</td>\n",
       "      <td>45800.0</td>\n",
       "    </tr>\n",
       "    <tr>\n",
       "      <th>15663</th>\n",
       "      <td>-122.44</td>\n",
       "      <td>37.80</td>\n",
       "      <td>52.0</td>\n",
       "      <td>3830.0</td>\n",
       "      <td>NaN</td>\n",
       "      <td>1310.0</td>\n",
       "      <td>963.0</td>\n",
       "      <td>3.4801</td>\n",
       "      <td>500001.0</td>\n",
       "    </tr>\n",
       "    <tr>\n",
       "      <th>20484</th>\n",
       "      <td>-118.72</td>\n",
       "      <td>34.28</td>\n",
       "      <td>17.0</td>\n",
       "      <td>3051.0</td>\n",
       "      <td>NaN</td>\n",
       "      <td>1705.0</td>\n",
       "      <td>495.0</td>\n",
       "      <td>5.7376</td>\n",
       "      <td>218600.0</td>\n",
       "    </tr>\n",
       "    <tr>\n",
       "      <th>9814</th>\n",
       "      <td>-121.93</td>\n",
       "      <td>36.62</td>\n",
       "      <td>34.0</td>\n",
       "      <td>2351.0</td>\n",
       "      <td>NaN</td>\n",
       "      <td>1063.0</td>\n",
       "      <td>428.0</td>\n",
       "      <td>3.7250</td>\n",
       "      <td>278000.0</td>\n",
       "    </tr>\n",
       "  </tbody>\n",
       "</table>\n",
       "</div>"
      ],
      "text/plain": [
       "       longitude  latitude  housing_median_age  total_rooms  total_bedrooms  \\\n",
       "20046    -119.01     36.06                25.0       1505.0             NaN   \n",
       "3024     -119.46     35.14                30.0       2943.0             NaN   \n",
       "15663    -122.44     37.80                52.0       3830.0             NaN   \n",
       "20484    -118.72     34.28                17.0       3051.0             NaN   \n",
       "9814     -121.93     36.62                34.0       2351.0             NaN   \n",
       "\n",
       "       population  households  median_income  median_house_value  \n",
       "20046      1392.0       359.0         1.6812             47700.0  \n",
       "3024       1565.0       584.0         2.5313             45800.0  \n",
       "15663      1310.0       963.0         3.4801            500001.0  \n",
       "20484      1705.0       495.0         5.7376            218600.0  \n",
       "9814       1063.0       428.0         3.7250            278000.0  "
      ]
     },
     "execution_count": 34,
     "metadata": {},
     "output_type": "execute_result"
    }
   ],
   "source": [
    "train_data.head()"
   ]
  },
  {
   "cell_type": "code",
   "execution_count": 36,
   "id": "f304cff7-838e-45ec-bee9-81153b1be8ec",
   "metadata": {},
   "outputs": [],
   "source": [
    "y_train = train_data.median_house_value.values\n",
    "y_val = val_data.median_house_value.values\n",
    "y_test = test_data.median_house_value.values"
   ]
  },
  {
   "cell_type": "code",
   "execution_count": 37,
   "id": "7f4b39ab-ea11-43bd-b9ff-b3b5d5824c9d",
   "metadata": {},
   "outputs": [],
   "source": [
    "del train_data['median_house_value']\n",
    "del val_data['median_house_value']\n",
    "del test_data['median_house_value']"
   ]
  },
  {
   "cell_type": "code",
   "execution_count": 39,
   "id": "eef0711a-1396-40ba-8786-60b56352dcac",
   "metadata": {},
   "outputs": [
    {
     "data": {
      "text/plain": [
       "Index(['longitude', 'latitude', 'housing_median_age', 'total_rooms',\n",
       "       'total_bedrooms', 'population', 'households', 'median_income'],\n",
       "      dtype='object')"
      ]
     },
     "execution_count": 39,
     "metadata": {},
     "output_type": "execute_result"
    }
   ],
   "source": [
    "train_data.columns"
   ]
  },
  {
   "cell_type": "code",
   "execution_count": 40,
   "id": "b8045ca7-ba9e-4821-b29c-3c0692ae380a",
   "metadata": {},
   "outputs": [],
   "source": [
    "train_data = train_data.reset_index()\n",
    "val_data = val_data.reset_index()\n",
    "test_data = test_data.reset_index()"
   ]
  },
  {
   "cell_type": "code",
   "execution_count": 41,
   "id": "e69661d5-8175-4b90-b1c2-1b59b148d6d7",
   "metadata": {},
   "outputs": [
    {
     "data": {
      "text/html": [
       "<div>\n",
       "<style scoped>\n",
       "    .dataframe tbody tr th:only-of-type {\n",
       "        vertical-align: middle;\n",
       "    }\n",
       "\n",
       "    .dataframe tbody tr th {\n",
       "        vertical-align: top;\n",
       "    }\n",
       "\n",
       "    .dataframe thead th {\n",
       "        text-align: right;\n",
       "    }\n",
       "</style>\n",
       "<table border=\"1\" class=\"dataframe\">\n",
       "  <thead>\n",
       "    <tr style=\"text-align: right;\">\n",
       "      <th></th>\n",
       "      <th>index</th>\n",
       "      <th>longitude</th>\n",
       "      <th>latitude</th>\n",
       "      <th>housing_median_age</th>\n",
       "      <th>total_rooms</th>\n",
       "      <th>total_bedrooms</th>\n",
       "      <th>population</th>\n",
       "      <th>households</th>\n",
       "      <th>median_income</th>\n",
       "    </tr>\n",
       "  </thead>\n",
       "  <tbody>\n",
       "    <tr>\n",
       "      <th>0</th>\n",
       "      <td>20046</td>\n",
       "      <td>-119.01</td>\n",
       "      <td>36.06</td>\n",
       "      <td>25.0</td>\n",
       "      <td>1505.0</td>\n",
       "      <td>NaN</td>\n",
       "      <td>1392.0</td>\n",
       "      <td>359.0</td>\n",
       "      <td>1.6812</td>\n",
       "    </tr>\n",
       "    <tr>\n",
       "      <th>1</th>\n",
       "      <td>3024</td>\n",
       "      <td>-119.46</td>\n",
       "      <td>35.14</td>\n",
       "      <td>30.0</td>\n",
       "      <td>2943.0</td>\n",
       "      <td>NaN</td>\n",
       "      <td>1565.0</td>\n",
       "      <td>584.0</td>\n",
       "      <td>2.5313</td>\n",
       "    </tr>\n",
       "    <tr>\n",
       "      <th>2</th>\n",
       "      <td>15663</td>\n",
       "      <td>-122.44</td>\n",
       "      <td>37.80</td>\n",
       "      <td>52.0</td>\n",
       "      <td>3830.0</td>\n",
       "      <td>NaN</td>\n",
       "      <td>1310.0</td>\n",
       "      <td>963.0</td>\n",
       "      <td>3.4801</td>\n",
       "    </tr>\n",
       "    <tr>\n",
       "      <th>3</th>\n",
       "      <td>20484</td>\n",
       "      <td>-118.72</td>\n",
       "      <td>34.28</td>\n",
       "      <td>17.0</td>\n",
       "      <td>3051.0</td>\n",
       "      <td>NaN</td>\n",
       "      <td>1705.0</td>\n",
       "      <td>495.0</td>\n",
       "      <td>5.7376</td>\n",
       "    </tr>\n",
       "    <tr>\n",
       "      <th>4</th>\n",
       "      <td>9814</td>\n",
       "      <td>-121.93</td>\n",
       "      <td>36.62</td>\n",
       "      <td>34.0</td>\n",
       "      <td>2351.0</td>\n",
       "      <td>NaN</td>\n",
       "      <td>1063.0</td>\n",
       "      <td>428.0</td>\n",
       "      <td>3.7250</td>\n",
       "    </tr>\n",
       "  </tbody>\n",
       "</table>\n",
       "</div>"
      ],
      "text/plain": [
       "   index  longitude  latitude  housing_median_age  total_rooms  \\\n",
       "0  20046    -119.01     36.06                25.0       1505.0   \n",
       "1   3024    -119.46     35.14                30.0       2943.0   \n",
       "2  15663    -122.44     37.80                52.0       3830.0   \n",
       "3  20484    -118.72     34.28                17.0       3051.0   \n",
       "4   9814    -121.93     36.62                34.0       2351.0   \n",
       "\n",
       "   total_bedrooms  population  households  median_income  \n",
       "0             NaN      1392.0       359.0         1.6812  \n",
       "1             NaN      1565.0       584.0         2.5313  \n",
       "2             NaN      1310.0       963.0         3.4801  \n",
       "3             NaN      1705.0       495.0         5.7376  \n",
       "4             NaN      1063.0       428.0         3.7250  "
      ]
     },
     "execution_count": 41,
     "metadata": {},
     "output_type": "execute_result"
    }
   ],
   "source": [
    "train_data.head()"
   ]
  },
  {
   "cell_type": "code",
   "execution_count": 42,
   "id": "9937affa-2137-4039-9391-249b19ef9979",
   "metadata": {},
   "outputs": [],
   "source": [
    "y_train = np.log1p(y_train)\n",
    "y_val = np.log1p(y_val)\n",
    "y_test = np.log1p(y_test)"
   ]
  },
  {
   "cell_type": "code",
   "execution_count": 43,
   "id": "13462966-488a-46c6-b56b-51c947b7434b",
   "metadata": {},
   "outputs": [
    {
     "data": {
      "text/plain": [
       "<AxesSubplot:ylabel='Count'>"
      ]
     },
     "execution_count": 43,
     "metadata": {},
     "output_type": "execute_result"
    },
    {
     "data": {
      "image/png": "[encoded data removed]",
      "text/plain": [
       "<Figure size 432x288 with 1 Axes>"
      ]
     },
     "metadata": {
      "needs_background": "light"
     },
     "output_type": "display_data"
    }
   ],
   "source": [
    "sns.histplot(y_train, bins=50)"
   ]
  },
  {
   "cell_type": "markdown",
   "id": "e7c63a90-5902-42fc-8a91-d9a6d14ab6c9",
   "metadata": {},
   "source": [
    "### Question 3\n",
    "* We need to deal with missing values for the column from Q1.\n",
    "* We have two options: fill it with 0 or with the mean of this variable.\n",
    "* Try both options. For each, train a linear regression model without regularization using the code from the lessons.\n",
    "* For computing the mean, use the training only!\n",
    "* Use the validation dataset to evaluate the models and compare the RMSE of each option.\n",
    "* Round the RMSE scores to 2 decimal digits using round(score, 2)\n",
    "* Which option gives better RMSE?"
   ]
  },
  {
   "cell_type": "code",
   "execution_count": 44,
   "id": "2162754a-c194-4485-8b20-495c8a4d3188",
   "metadata": {},
   "outputs": [],
   "source": [
    "def train_linear_regression(X, y):\n",
    "    ones = np.ones(len(X))\n",
    "    X = np.column_stack([ones, X])\n",
    "    \n",
    "    XTX = X.T.dot(X)\n",
    "    XTX_inv = np.linalg.inv(XTX)\n",
    "    w_full = XTX_inv.dot(X.T).dot(y)\n",
    "    \n",
    "    return (w_full[0], w_full[1:])"
   ]
  },
  {
   "cell_type": "code",
   "execution_count": 46,
   "id": "152fac58-4a37-4539-9242-54bcfc135b78",
   "metadata": {},
   "outputs": [
    {
     "data": {
      "text/html": [
       "<div>\n",
       "<style scoped>\n",
       "    .dataframe tbody tr th:only-of-type {\n",
       "        vertical-align: middle;\n",
       "    }\n",
       "\n",
       "    .dataframe tbody tr th {\n",
       "        vertical-align: top;\n",
       "    }\n",
       "\n",
       "    .dataframe thead th {\n",
       "        text-align: right;\n",
       "    }\n",
       "</style>\n",
       "<table border=\"1\" class=\"dataframe\">\n",
       "  <thead>\n",
       "    <tr style=\"text-align: right;\">\n",
       "      <th></th>\n",
       "      <th>index</th>\n",
       "      <th>longitude</th>\n",
       "      <th>latitude</th>\n",
       "      <th>housing_median_age</th>\n",
       "      <th>total_rooms</th>\n",
       "      <th>total_bedrooms</th>\n",
       "      <th>population</th>\n",
       "      <th>households</th>\n",
       "      <th>median_income</th>\n",
       "    </tr>\n",
       "  </thead>\n",
       "  <tbody>\n",
       "    <tr>\n",
       "      <th>0</th>\n",
       "      <td>20046</td>\n",
       "      <td>-119.01</td>\n",
       "      <td>36.06</td>\n",
       "      <td>25.0</td>\n",
       "      <td>1505.0</td>\n",
       "      <td>NaN</td>\n",
       "      <td>1392.0</td>\n",
       "      <td>359.0</td>\n",
       "      <td>1.6812</td>\n",
       "    </tr>\n",
       "    <tr>\n",
       "      <th>1</th>\n",
       "      <td>3024</td>\n",
       "      <td>-119.46</td>\n",
       "      <td>35.14</td>\n",
       "      <td>30.0</td>\n",
       "      <td>2943.0</td>\n",
       "      <td>NaN</td>\n",
       "      <td>1565.0</td>\n",
       "      <td>584.0</td>\n",
       "      <td>2.5313</td>\n",
       "    </tr>\n",
       "    <tr>\n",
       "      <th>2</th>\n",
       "      <td>15663</td>\n",
       "      <td>-122.44</td>\n",
       "      <td>37.80</td>\n",
       "      <td>52.0</td>\n",
       "      <td>3830.0</td>\n",
       "      <td>NaN</td>\n",
       "      <td>1310.0</td>\n",
       "      <td>963.0</td>\n",
       "      <td>3.4801</td>\n",
       "    </tr>\n",
       "    <tr>\n",
       "      <th>3</th>\n",
       "      <td>20484</td>\n",
       "      <td>-118.72</td>\n",
       "      <td>34.28</td>\n",
       "      <td>17.0</td>\n",
       "      <td>3051.0</td>\n",
       "      <td>NaN</td>\n",
       "      <td>1705.0</td>\n",
       "      <td>495.0</td>\n",
       "      <td>5.7376</td>\n",
       "    </tr>\n",
       "    <tr>\n",
       "      <th>4</th>\n",
       "      <td>9814</td>\n",
       "      <td>-121.93</td>\n",
       "      <td>36.62</td>\n",
       "      <td>34.0</td>\n",
       "      <td>2351.0</td>\n",
       "      <td>NaN</td>\n",
       "      <td>1063.0</td>\n",
       "      <td>428.0</td>\n",
       "      <td>3.7250</td>\n",
       "    </tr>\n",
       "  </tbody>\n",
       "</table>\n",
       "</div>"
      ],
      "text/plain": [
       "   index  longitude  latitude  housing_median_age  total_rooms  \\\n",
       "0  20046    -119.01     36.06                25.0       1505.0   \n",
       "1   3024    -119.46     35.14                30.0       2943.0   \n",
       "2  15663    -122.44     37.80                52.0       3830.0   \n",
       "3  20484    -118.72     34.28                17.0       3051.0   \n",
       "4   9814    -121.93     36.62                34.0       2351.0   \n",
       "\n",
       "   total_bedrooms  population  households  median_income  \n",
       "0             NaN      1392.0       359.0         1.6812  \n",
       "1             NaN      1565.0       584.0         2.5313  \n",
       "2             NaN      1310.0       963.0         3.4801  \n",
       "3             NaN      1705.0       495.0         5.7376  \n",
       "4             NaN      1063.0       428.0         3.7250  "
      ]
     },
     "execution_count": 46,
     "metadata": {},
     "output_type": "execute_result"
    }
   ],
   "source": [
    "train_data.head()"
   ]
  },
  {
   "cell_type": "code",
   "execution_count": 62,
   "id": "b9c20193-3472-4727-82b6-0f8ba6277386",
   "metadata": {},
   "outputs": [
    {
     "data": {
      "text/plain": [
       "533.4803317730147"
      ]
     },
     "execution_count": 62,
     "metadata": {},
     "output_type": "execute_result"
    }
   ],
   "source": [
    "total_bedrooms_train_mean = train_data['total_bedrooms'].mean()\n",
    "total_bedrooms_train_mean"
   ]
  },
  {
   "cell_type": "code",
   "execution_count": 50,
   "id": "e475d62a-4349-4fcc-90ba-2c495d874bdd",
   "metadata": {},
   "outputs": [
    {
     "data": {
      "text/plain": [
       "0         533.480332\n",
       "1         533.480332\n",
       "2         533.480332\n",
       "3         533.480332\n",
       "4         533.480332\n",
       "            ...     \n",
       "12379     283.000000\n",
       "12380     525.000000\n",
       "12381    1415.000000\n",
       "12382     328.000000\n",
       "12383     487.000000\n",
       "Name: total_bedrooms, Length: 12384, dtype: float64"
      ]
     },
     "execution_count": 50,
     "metadata": {},
     "output_type": "execute_result"
    }
   ],
   "source": [
    "train_data['total_bedrooms'].fillna(total_bedrooms_train_mean)"
   ]
  },
  {
   "cell_type": "code",
   "execution_count": 51,
   "id": "bdecb8e9-e8d4-40f4-9d0b-7fcca78b9144",
   "metadata": {},
   "outputs": [
    {
     "data": {
      "text/plain": [
       "array([[ 2.0046e+04, -1.1901e+02,  3.6060e+01,  2.5000e+01,  1.5050e+03,\n",
       "                nan,  1.3920e+03,  3.5900e+02,  1.6812e+00],\n",
       "       [ 3.0240e+03, -1.1946e+02,  3.5140e+01,  3.0000e+01,  2.9430e+03,\n",
       "                nan,  1.5650e+03,  5.8400e+02,  2.5313e+00],\n",
       "       [ 1.5663e+04, -1.2244e+02,  3.7800e+01,  5.2000e+01,  3.8300e+03,\n",
       "                nan,  1.3100e+03,  9.6300e+02,  3.4801e+00],\n",
       "       [ 2.0484e+04, -1.1872e+02,  3.4280e+01,  1.7000e+01,  3.0510e+03,\n",
       "                nan,  1.7050e+03,  4.9500e+02,  5.7376e+00],\n",
       "       [ 9.8140e+03, -1.2193e+02,  3.6620e+01,  3.4000e+01,  2.3510e+03,\n",
       "                nan,  1.0630e+03,  4.2800e+02,  3.7250e+00]])"
      ]
     },
     "execution_count": 51,
     "metadata": {},
     "output_type": "execute_result"
    }
   ],
   "source": [
    "train_data.values[: 5]"
   ]
  },
  {
   "cell_type": "code",
   "execution_count": 63,
   "id": "b5036c27-a22f-4998-b01e-20e973187b75",
   "metadata": {},
   "outputs": [],
   "source": [
    "def prepare_X(dataframe, fill_values=total_bedrooms_train_mean):\n",
    "    df = dataframe.copy()\n",
    "    df['total_bedrooms'] = df['total_bedrooms'].fillna(fill_values)\n",
    "    \n",
    "    X = df.values\n",
    "    \n",
    "    return X"
   ]
  },
  {
   "cell_type": "code",
   "execution_count": 66,
   "id": "73a0d55b-1749-4f02-94d2-36034800eaee",
   "metadata": {},
   "outputs": [],
   "source": [
    "def prediction(X, w0, w):\n",
    "    return w0 + X.dot(w)"
   ]
  },
  {
   "cell_type": "code",
   "execution_count": 61,
   "id": "7ec72040-7bc6-477f-9a3d-532bf7a872e0",
   "metadata": {},
   "outputs": [],
   "source": [
    "def rmse(y, y_pred):\n",
    "    se = (y - y_pred) ** 2\n",
    "    mse = se.mean()\n",
    "    return np.sqrt(mse)"
   ]
  },
  {
   "cell_type": "code",
   "execution_count": 69,
   "id": "d6b235fa-2677-42d8-8747-0d5160adec60",
   "metadata": {},
   "outputs": [
    {
     "data": {
      "text/plain": [
       "0.34080807275611597"
      ]
     },
     "execution_count": 69,
     "metadata": {},
     "output_type": "execute_result"
    }
   ],
   "source": [
    "# Fill the missing values with the mean\n",
    "X_train = prepare_X(train_data, fill_values=total_bedrooms_train_mean)\n",
    "\n",
    "w0, w = train_linear_regression(X_train, y_train)\n",
    "\n",
    "y_pred = prediction(X_train, w0, w)\n",
    "\n",
    "rmse(y_train, y_pred)"
   ]
  },
  {
   "cell_type": "code",
   "execution_count": 70,
   "id": "13b10861-728c-4158-8704-3c2115b99285",
   "metadata": {},
   "outputs": [
    {
     "data": {
      "text/plain": [
       "0.32868334343567557"
      ]
     },
     "execution_count": 70,
     "metadata": {},
     "output_type": "execute_result"
    }
   ],
   "source": [
    "# Evaluating the model with the mean\n",
    "X_val = prepare_X(val_data, fill_values=total_bedrooms_train_mean)\n",
    "\n",
    "y_pred = prediction(X_val, w0, w)\n",
    "\n",
    "rmse(y_val, y_pred)"
   ]
  },
  {
   "cell_type": "code",
   "execution_count": 74,
   "id": "4ef8a14f-a7f8-46db-bc10-6bb308021837",
   "metadata": {},
   "outputs": [
    {
     "data": {
      "text/plain": [
       "0.01"
      ]
     },
     "execution_count": 74,
     "metadata": {},
     "output_type": "execute_result"
    }
   ],
   "source": [
    "round(0.34080807275611597 - 0.32868334343567557, 2)"
   ]
  },
  {
   "cell_type": "code",
   "execution_count": 71,
   "id": "93f9e7c9-2a7d-4940-89de-b4ba41045b02",
   "metadata": {},
   "outputs": [
    {
     "data": {
      "text/plain": [
       "0.3410772998866343"
      ]
     },
     "execution_count": 71,
     "metadata": {},
     "output_type": "execute_result"
    }
   ],
   "source": [
    "# Fill the missing values with 0\n",
    "X_train = prepare_X(train_data, fill_values=0)\n",
    "\n",
    "w0, w = train_linear_regression(X_train, y_train)\n",
    "\n",
    "y_pred = prediction(X_train, w0, w)\n",
    "\n",
    "rmse(y_train, y_pred)"
   ]
  },
  {
   "cell_type": "code",
   "execution_count": 72,
   "id": "74ccbad2-9182-4850-8c3c-8503d0efc717",
   "metadata": {},
   "outputs": [
    {
     "data": {
      "text/plain": [
       "0.32919260369094805"
      ]
     },
     "execution_count": 72,
     "metadata": {},
     "output_type": "execute_result"
    }
   ],
   "source": [
    "# Evaluating the model with 0\n",
    "X_val = prepare_X(val_data, fill_values=0)\n",
    "\n",
    "y_pred = prediction(X_val, w0, w)\n",
    "\n",
    "rmse(y_val, y_pred)"
   ]
  },
  {
   "cell_type": "code",
   "execution_count": 75,
   "id": "8763f775-113b-42c8-bb42-5a23b11ff43c",
   "metadata": {},
   "outputs": [
    {
     "data": {
      "text/plain": [
       "0.0"
      ]
     },
     "execution_count": 75,
     "metadata": {},
     "output_type": "execute_result"
    }
   ],
   "source": [
    "round(0.3410772998866343 - 0.32919260369094805, 0)"
   ]
  },
  {
   "cell_type": "code",
   "execution_count": 76,
   "id": "dde19baa-0f7f-4479-a030-4582781f845d",
   "metadata": {},
   "outputs": [
    {
     "name": "stdout",
     "output_type": "stream",
     "text": [
      "rmse for training: 0.34082620873847047\n",
      "rmse for validation: 0.328712538289829\n"
     ]
    }
   ],
   "source": [
    "# Fill the missing values with the median\n",
    "train_median = train_data['total_bedrooms'].median()\n",
    "\n",
    "X_train = prepare_X(train_data, fill_values=train_median)\n",
    "w0, w = train_linear_regression(X_train, y_train)\n",
    "y_pred = prediction(X_train, w0, w)\n",
    "\n",
    "print(f'rmse for training: {rmse(y_train, y_pred)}')\n",
    "\n",
    "# Evaluating the model with the median\n",
    "X_val = prepare_X(val_data, fill_values=train_median)\n",
    "y_pred = prediction(X_val, w0, w)\n",
    "\n",
    "print(f'rmse for validation: {rmse(y_val, y_pred)}')"
   ]
  },
  {
   "cell_type": "code",
   "execution_count": 77,
   "id": "7ff5076e-6116-4fa9-b224-3cb8518247ad",
   "metadata": {},
   "outputs": [
    {
     "data": {
      "text/plain": [
       "0.01"
      ]
     },
     "execution_count": 77,
     "metadata": {},
     "output_type": "execute_result"
    }
   ],
   "source": [
    "round(0.34082620873847047 - 0.328712538289829, 2)"
   ]
  },
  {
   "cell_type": "code",
   "execution_count": 78,
   "id": "abed79ca-f2ca-436e-9607-dac2cee6266a",
   "metadata": {},
   "outputs": [
    {
     "name": "stdout",
     "output_type": "stream",
     "text": [
      "We have a better result using the mean or the median of the total_bedrooms column\n"
     ]
    }
   ],
   "source": [
    "print('We have a better result using the mean or the median of the total_bedrooms column')"
   ]
  },
  {
   "cell_type": "markdown",
   "id": "0e4a4cd2-cfe1-4786-8389-08e1693bb737",
   "metadata": {},
   "source": [
    "## Regularization + Tuning the model"
   ]
  },
  {
   "cell_type": "markdown",
   "id": "6e21da9e-7cce-42cb-b05d-22c3e1888890",
   "metadata": {},
   "source": [
    "### Question 4\n",
    "Which r gives the best RMSE?"
   ]
  },
  {
   "cell_type": "code",
   "execution_count": 79,
   "id": "a339851e-93c4-4a2c-94f8-e75d27f79669",
   "metadata": {},
   "outputs": [],
   "source": [
    "def train_linear_regression_reg(X, y, r=0.001):\n",
    "    ones = np.ones(len(X))\n",
    "    X = np.column_stack([ones, X])\n",
    "    \n",
    "    XTX = X.T.dot(X)\n",
    "    XTX = XTX + r * np.eye(len(XTX)) # regularization\n",
    "    \n",
    "    XTX_inv = np.linalg.inv(XTX)\n",
    "    w_full = XTX_inv.dot(X.T).dot(y)\n",
    "    \n",
    "    return (w_full[0], w_full[1:])"
   ]
  },
  {
   "cell_type": "code",
   "execution_count": 84,
   "id": "35a9134e-ad5a-4f0f-a45c-a6843c8884bc",
   "metadata": {},
   "outputs": [
    {
     "name": "stdout",
     "output_type": "stream",
     "text": [
      "r = 0, rmse = 0.33\n",
      "r = 1e-06, rmse = 0.33\n",
      "r = 0.0001, rmse = 0.33\n",
      "r = 0.001, rmse = 0.33\n",
      "r = 0.01, rmse = 0.33\n",
      "r = 0.1, rmse = 0.33\n",
      "r = 1, rmse = 0.33\n",
      "r = 5, rmse = 0.34\n",
      "r = 10, rmse = 0.34\n"
     ]
    }
   ],
   "source": [
    "for r in [0, 0.000001, 0.0001, 0.001, 0.01, 0.1, 1, 5, 10]:\n",
    "    X_train = prepare_X(train_data, fill_values=0)\n",
    "    w0, w = train_linear_regression_reg(X_train, y_train, r=r)\n",
    "\n",
    "    X_val = prepare_X(val_data, fill_values=0)\n",
    "\n",
    "    y_pred = w0 + X_val.dot(w)\n",
    "\n",
    "    print(f'r = {r}, rmse = {round(rmse(y_val, y_pred), 2)}')"
   ]
  },
  {
   "cell_type": "code",
   "execution_count": 85,
   "id": "fde7facf-a410-40e9-8129-12e9adfd3c1e",
   "metadata": {},
   "outputs": [
    {
     "name": "stdout",
     "output_type": "stream",
     "text": [
      "r = 0, rmse = 0.33\n"
     ]
    }
   ],
   "source": [
    "print('r = 0, rmse = 0.33')"
   ]
  },
  {
   "cell_type": "markdown",
   "id": "77c3a02a-95a5-4551-9b69-48ca0a55e0fa",
   "metadata": {},
   "source": [
    "### Question 5"
   ]
  },
  {
   "cell_type": "code",
   "execution_count": 94,
   "id": "ef96d923-a761-4f13-a928-fcfe342978de",
   "metadata": {},
   "outputs": [
    {
     "name": "stdout",
     "output_type": "stream",
     "text": [
      "seed = 0, rmse = 0.33893607416257704\n",
      "seed = 1, rmse = 0.3357153155552983\n",
      "seed = 2, rmse = 0.3318903102547737\n",
      "seed = 3, rmse = 0.3402876446196656\n",
      "seed = 4, rmse = 0.33857716021034356\n",
      "seed = 5, rmse = 0.34320554775425516\n",
      "seed = 6, rmse = 0.34525645593354753\n",
      "seed = 7, rmse = 0.33926700954477496\n",
      "seed = 8, rmse = 0.34649036274997064\n",
      "seed = 9, rmse = 0.3364387962289037\n"
     ]
    }
   ],
   "source": [
    "scores_dic = {}\n",
    "\n",
    "for seed in [0, 1, 2, 3, 4, 5, 6, 7, 8, 9]:\n",
    "    idx = np.arange(n)\n",
    "\n",
    "    np.random.seed(seed)\n",
    "    np.random.shuffle(idx)\n",
    "\n",
    "    train_data = housing_df2.iloc[idx[: n_train]]\n",
    "    val_data = housing_df2.iloc[idx[n_train: n_train+n_val]]\n",
    "    test_data = housing_df2.iloc[idx[n_train+n_val: ]]\n",
    "\n",
    "    y_train = train_data.median_house_value.values\n",
    "    y_val = val_data.median_house_value.values\n",
    "    y_test = test_data.median_house_value.values\n",
    "\n",
    "    del train_data['median_house_value']\n",
    "    del val_data['median_house_value']\n",
    "    del test_data['median_house_value']\n",
    "\n",
    "    train_data = train_data.reset_index()\n",
    "    val_data = val_data.reset_index()\n",
    "    test_data = test_data.reset_index()\n",
    "\n",
    "    y_train = np.log1p(y_train)\n",
    "    y_val = np.log1p(y_val)\n",
    "    y_test = np.log1p(y_test)\n",
    "\n",
    "    X_train = prepare_X(train_data, fill_values=0)\n",
    "    w0, w = train_linear_regression_reg(X_train, y_train, r=0)\n",
    "\n",
    "    X_val = prepare_X(val_data, fill_values=0)\n",
    "\n",
    "    y_pred = w0 + X_val.dot(w)\n",
    "\n",
    "    print(f'seed = {seed}, rmse = {rmse(y_val, y_pred)}')\n",
    "    \n",
    "    scores_dic.update({str(seed): rmse(y_val, y_pred)})"
   ]
  },
  {
   "cell_type": "code",
   "execution_count": 95,
   "id": "1da3a09c-9d98-4704-b71f-540b504856dc",
   "metadata": {},
   "outputs": [
    {
     "data": {
      "text/plain": [
       "0.004"
      ]
     },
     "execution_count": 95,
     "metadata": {},
     "output_type": "execute_result"
    }
   ],
   "source": [
    "scores_std = round(np.std(np.array(list(scores_dic.values()))), 3)\n",
    "scores_std"
   ]
  },
  {
   "cell_type": "code",
   "execution_count": 96,
   "id": "414e16b7-608e-4d03-ab44-bb70295ac5f7",
   "metadata": {},
   "outputs": [
    {
     "name": "stdout",
     "output_type": "stream",
     "text": [
      "0.004 ~ 0.005\n"
     ]
    }
   ],
   "source": [
    "print(f'{scores_std} ~ 0.005')"
   ]
  },
  {
   "cell_type": "markdown",
   "id": "ab57fae5-6293-4fbc-85de-14da22d58e16",
   "metadata": {},
   "source": [
    "## Training the model with the best parameters"
   ]
  },
  {
   "cell_type": "code",
   "execution_count": 97,
   "id": "a91aa830-b82a-420c-8700-21ada5d0e8b6",
   "metadata": {},
   "outputs": [],
   "source": [
    "idx = np.arange(n)\n",
    "\n",
    "np.random.seed(9)\n",
    "np.random.shuffle(idx)\n",
    "\n",
    "train_data = housing_df2.iloc[idx[: n_train]]\n",
    "val_data = housing_df2.iloc[idx[n_train: n_train+n_val]]\n",
    "test_data = housing_df2.iloc[idx[n_train+n_val: ]]\n",
    "\n",
    "y_train = train_data.median_house_value.values\n",
    "y_val = val_data.median_house_value.values\n",
    "y_test = test_data.median_house_value.values\n",
    "\n",
    "del train_data['median_house_value']\n",
    "del val_data['median_house_value']\n",
    "del test_data['median_house_value']\n",
    "\n",
    "train_data = train_data.reset_index()\n",
    "val_data = val_data.reset_index()\n",
    "test_data = test_data.reset_index()\n",
    "\n",
    "y_train = np.log1p(y_train)\n",
    "y_val = np.log1p(y_val)\n",
    "y_test = np.log1p(y_test)"
   ]
  },
  {
   "cell_type": "code",
   "execution_count": 98,
   "id": "9c5f5fc8-ed75-4077-8c25-5680860e89e7",
   "metadata": {},
   "outputs": [],
   "source": [
    "full_train_data = pd.concat([train_data, val_data])"
   ]
  },
  {
   "cell_type": "code",
   "execution_count": 99,
   "id": "bdf80f71-b6d9-4195-a9d1-8243e6fb58c7",
   "metadata": {},
   "outputs": [
    {
     "data": {
      "text/plain": [
       "(16512, 9)"
      ]
     },
     "execution_count": 99,
     "metadata": {},
     "output_type": "execute_result"
    }
   ],
   "source": [
    "full_train_data.shape"
   ]
  },
  {
   "cell_type": "code",
   "execution_count": 100,
   "id": "46704623-10b2-463b-9d0f-c0fc6836a31f",
   "metadata": {},
   "outputs": [
    {
     "data": {
      "text/html": [
       "<div>\n",
       "<style scoped>\n",
       "    .dataframe tbody tr th:only-of-type {\n",
       "        vertical-align: middle;\n",
       "    }\n",
       "\n",
       "    .dataframe tbody tr th {\n",
       "        vertical-align: top;\n",
       "    }\n",
       "\n",
       "    .dataframe thead th {\n",
       "        text-align: right;\n",
       "    }\n",
       "</style>\n",
       "<table border=\"1\" class=\"dataframe\">\n",
       "  <thead>\n",
       "    <tr style=\"text-align: right;\">\n",
       "      <th></th>\n",
       "      <th>index</th>\n",
       "      <th>longitude</th>\n",
       "      <th>latitude</th>\n",
       "      <th>housing_median_age</th>\n",
       "      <th>total_rooms</th>\n",
       "      <th>total_bedrooms</th>\n",
       "      <th>population</th>\n",
       "      <th>households</th>\n",
       "      <th>median_income</th>\n",
       "    </tr>\n",
       "  </thead>\n",
       "  <tbody>\n",
       "    <tr>\n",
       "      <th>0</th>\n",
       "      <td>20558</td>\n",
       "      <td>-121.80</td>\n",
       "      <td>38.67</td>\n",
       "      <td>10.0</td>\n",
       "      <td>2086.0</td>\n",
       "      <td>380.0</td>\n",
       "      <td>1073.0</td>\n",
       "      <td>378.0</td>\n",
       "      <td>4.5526</td>\n",
       "    </tr>\n",
       "    <tr>\n",
       "      <th>1</th>\n",
       "      <td>11430</td>\n",
       "      <td>-117.97</td>\n",
       "      <td>33.66</td>\n",
       "      <td>22.0</td>\n",
       "      <td>3914.0</td>\n",
       "      <td>600.0</td>\n",
       "      <td>1871.0</td>\n",
       "      <td>607.0</td>\n",
       "      <td>5.8541</td>\n",
       "    </tr>\n",
       "    <tr>\n",
       "      <th>2</th>\n",
       "      <td>2656</td>\n",
       "      <td>-124.25</td>\n",
       "      <td>40.28</td>\n",
       "      <td>32.0</td>\n",
       "      <td>1430.0</td>\n",
       "      <td>419.0</td>\n",
       "      <td>434.0</td>\n",
       "      <td>187.0</td>\n",
       "      <td>1.9417</td>\n",
       "    </tr>\n",
       "    <tr>\n",
       "      <th>3</th>\n",
       "      <td>14267</td>\n",
       "      <td>-117.11</td>\n",
       "      <td>32.69</td>\n",
       "      <td>37.0</td>\n",
       "      <td>2395.0</td>\n",
       "      <td>627.0</td>\n",
       "      <td>2489.0</td>\n",
       "      <td>599.0</td>\n",
       "      <td>1.5933</td>\n",
       "    </tr>\n",
       "    <tr>\n",
       "      <th>4</th>\n",
       "      <td>3684</td>\n",
       "      <td>-118.37</td>\n",
       "      <td>34.21</td>\n",
       "      <td>36.0</td>\n",
       "      <td>1392.0</td>\n",
       "      <td>326.0</td>\n",
       "      <td>1181.0</td>\n",
       "      <td>303.0</td>\n",
       "      <td>3.1563</td>\n",
       "    </tr>\n",
       "  </tbody>\n",
       "</table>\n",
       "</div>"
      ],
      "text/plain": [
       "   index  longitude  latitude  housing_median_age  total_rooms  \\\n",
       "0  20558    -121.80     38.67                10.0       2086.0   \n",
       "1  11430    -117.97     33.66                22.0       3914.0   \n",
       "2   2656    -124.25     40.28                32.0       1430.0   \n",
       "3  14267    -117.11     32.69                37.0       2395.0   \n",
       "4   3684    -118.37     34.21                36.0       1392.0   \n",
       "\n",
       "   total_bedrooms  population  households  median_income  \n",
       "0           380.0      1073.0       378.0         4.5526  \n",
       "1           600.0      1871.0       607.0         5.8541  \n",
       "2           419.0       434.0       187.0         1.9417  \n",
       "3           627.0      2489.0       599.0         1.5933  \n",
       "4           326.0      1181.0       303.0         3.1563  "
      ]
     },
     "execution_count": 100,
     "metadata": {},
     "output_type": "execute_result"
    }
   ],
   "source": [
    "full_train_data.head()"
   ]
  },
  {
   "cell_type": "code",
   "execution_count": 101,
   "id": "919886b3-6617-4abe-a195-9928f86aefaf",
   "metadata": {},
   "outputs": [],
   "source": [
    "full_train_data = full_train_data.reset_index(drop=True)"
   ]
  },
  {
   "cell_type": "code",
   "execution_count": 102,
   "id": "c6c1518b-2908-4e5f-be59-d58373ff444a",
   "metadata": {},
   "outputs": [],
   "source": [
    "full_y_train = np.concatenate([y_train, y_val])"
   ]
  },
  {
   "cell_type": "markdown",
   "id": "bc33ff2d-2090-4e4b-bb27-54f0e0136ace",
   "metadata": {},
   "source": [
    "### Question 6"
   ]
  },
  {
   "cell_type": "code",
   "execution_count": 105,
   "id": "c9e3bf66-7b51-49ee-9b74-5dcde8c8f0e0",
   "metadata": {},
   "outputs": [
    {
     "name": "stdout",
     "output_type": "stream",
     "text": [
      "rmse = 0.35\n"
     ]
    }
   ],
   "source": [
    "full_X_train = prepare_X(full_train_data, fill_values=0)\n",
    "w0, w = train_linear_regression_reg(full_X_train, full_y_train, r=0.001)\n",
    "\n",
    "X_test = prepare_X(test_data, fill_values=0)\n",
    "\n",
    "y_pred = w0 + X_test.dot(w)\n",
    "\n",
    "print(f'rmse = {rmse(y_test, y_pred).round(2)}')"
   ]
  },
  {
   "cell_type": "code",
   "execution_count": null,
   "id": "dc379b05-391b-4894-b7ad-e14359691c90",
   "metadata": {},
   "outputs": [],
   "source": []
  }
 ],
 "metadata": {
  "kernelspec": {
   "display_name": "Python 3 (ipykernel)",
   "language": "python",
   "name": "python3"
  },
  "language_info": {
   "codemirror_mode": {
    "name": "ipython",
    "version": 3
   },
   "file_extension": ".py",
   "mimetype": "text/x-python",
   "name": "python",
   "nbconvert_exporter": "python",
   "pygments_lexer": "ipython3",
   "version": "3.9.7"
  }
 },
 "nbformat": 4,
 "nbformat_minor": 5
}
