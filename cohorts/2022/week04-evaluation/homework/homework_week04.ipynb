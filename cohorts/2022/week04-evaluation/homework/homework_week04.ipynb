{
 "cells": [
  {
   "cell_type": "code",
   "execution_count": 1,
   "id": "1bcbfb41-dc5c-4745-b53e-74f0b753cbb9",
   "metadata": {},
   "outputs": [
    {
     "name": "stdout",
     "output_type": "stream",
     "text": [
      "--2022-10-25 22:10:31--  https://raw.githubusercontent.com/alexeygrigorev/datasets/master/AER_credit_card_data.csv\n",
      "Resolving raw.githubusercontent.com (raw.githubusercontent.com)... 2606:50c0:8002::154, 2606:50c0:8001::154, 2606:50c0:8000::154, ...\n",
      "Connecting to raw.githubusercontent.com (raw.githubusercontent.com)|2606:50c0:8002::154|:443... connected.\n",
      "HTTP request sent, awaiting response... 200 OK\n",
      "Length: 73250 (72K) [text/plain]\n",
      "Saving to: ‘AER_credit_card_data.csv’\n",
      "\n",
      "AER_credit_card_dat 100%[===================>]  71,53K  --.-KB/s    in 0,02s   \n",
      "\n",
      "2022-10-25 22:10:31 (4,35 MB/s) - ‘AER_credit_card_data.csv’ saved [73250/73250]\n",
      "\n"
     ]
    }
   ],
   "source": [
    "!wget https://raw.githubusercontent.com/alexeygrigorev/datasets/master/AER_credit_card_data.csv"
   ]
  },
  {
   "cell_type": "markdown",
   "id": "1892651f-98b8-4fde-8943-89aba368f200",
   "metadata": {},
   "source": [
    "## Data preparation"
   ]
  },
  {
   "cell_type": "code",
   "execution_count": 2,
   "id": "f7a411ff-47c2-44ed-af55-829936aaad4f",
   "metadata": {},
   "outputs": [],
   "source": [
    "import pandas as pd"
   ]
  },
  {
   "cell_type": "code",
   "execution_count": 3,
   "id": "7d139167-ddf4-49b9-933b-1c0e23e7d66b",
   "metadata": {},
   "outputs": [],
   "source": [
    "credit_card_df = pd.read_csv(\"AER_credit_card_data.csv\")"
   ]
  },
  {
   "cell_type": "code",
   "execution_count": 4,
   "id": "064d34fb-a983-4a49-8973-2f1e6fb72925",
   "metadata": {},
   "outputs": [
    {
     "data": {
      "text/html": [
       "<div>\n",
       "<style scoped>\n",
       "    .dataframe tbody tr th:only-of-type {\n",
       "        vertical-align: middle;\n",
       "    }\n",
       "\n",
       "    .dataframe tbody tr th {\n",
       "        vertical-align: top;\n",
       "    }\n",
       "\n",
       "    .dataframe thead th {\n",
       "        text-align: right;\n",
       "    }\n",
       "</style>\n",
       "<table border=\"1\" class=\"dataframe\">\n",
       "  <thead>\n",
       "    <tr style=\"text-align: right;\">\n",
       "      <th></th>\n",
       "      <th>card</th>\n",
       "      <th>reports</th>\n",
       "      <th>age</th>\n",
       "      <th>income</th>\n",
       "      <th>share</th>\n",
       "      <th>expenditure</th>\n",
       "      <th>owner</th>\n",
       "      <th>selfemp</th>\n",
       "      <th>dependents</th>\n",
       "      <th>months</th>\n",
       "      <th>majorcards</th>\n",
       "      <th>active</th>\n",
       "    </tr>\n",
       "  </thead>\n",
       "  <tbody>\n",
       "    <tr>\n",
       "      <th>0</th>\n",
       "      <td>yes</td>\n",
       "      <td>0</td>\n",
       "      <td>37.66667</td>\n",
       "      <td>4.5200</td>\n",
       "      <td>0.033270</td>\n",
       "      <td>124.983300</td>\n",
       "      <td>yes</td>\n",
       "      <td>no</td>\n",
       "      <td>3</td>\n",
       "      <td>54</td>\n",
       "      <td>1</td>\n",
       "      <td>12</td>\n",
       "    </tr>\n",
       "    <tr>\n",
       "      <th>1</th>\n",
       "      <td>yes</td>\n",
       "      <td>0</td>\n",
       "      <td>33.25000</td>\n",
       "      <td>2.4200</td>\n",
       "      <td>0.005217</td>\n",
       "      <td>9.854167</td>\n",
       "      <td>no</td>\n",
       "      <td>no</td>\n",
       "      <td>3</td>\n",
       "      <td>34</td>\n",
       "      <td>1</td>\n",
       "      <td>13</td>\n",
       "    </tr>\n",
       "    <tr>\n",
       "      <th>2</th>\n",
       "      <td>yes</td>\n",
       "      <td>0</td>\n",
       "      <td>33.66667</td>\n",
       "      <td>4.5000</td>\n",
       "      <td>0.004156</td>\n",
       "      <td>15.000000</td>\n",
       "      <td>yes</td>\n",
       "      <td>no</td>\n",
       "      <td>4</td>\n",
       "      <td>58</td>\n",
       "      <td>1</td>\n",
       "      <td>5</td>\n",
       "    </tr>\n",
       "    <tr>\n",
       "      <th>3</th>\n",
       "      <td>yes</td>\n",
       "      <td>0</td>\n",
       "      <td>30.50000</td>\n",
       "      <td>2.5400</td>\n",
       "      <td>0.065214</td>\n",
       "      <td>137.869200</td>\n",
       "      <td>no</td>\n",
       "      <td>no</td>\n",
       "      <td>0</td>\n",
       "      <td>25</td>\n",
       "      <td>1</td>\n",
       "      <td>7</td>\n",
       "    </tr>\n",
       "    <tr>\n",
       "      <th>4</th>\n",
       "      <td>yes</td>\n",
       "      <td>0</td>\n",
       "      <td>32.16667</td>\n",
       "      <td>9.7867</td>\n",
       "      <td>0.067051</td>\n",
       "      <td>546.503300</td>\n",
       "      <td>yes</td>\n",
       "      <td>no</td>\n",
       "      <td>2</td>\n",
       "      <td>64</td>\n",
       "      <td>1</td>\n",
       "      <td>5</td>\n",
       "    </tr>\n",
       "  </tbody>\n",
       "</table>\n",
       "</div>"
      ],
      "text/plain": [
       "  card  reports       age  income     share  expenditure owner selfemp  \\\n",
       "0  yes        0  37.66667  4.5200  0.033270   124.983300   yes      no   \n",
       "1  yes        0  33.25000  2.4200  0.005217     9.854167    no      no   \n",
       "2  yes        0  33.66667  4.5000  0.004156    15.000000   yes      no   \n",
       "3  yes        0  30.50000  2.5400  0.065214   137.869200    no      no   \n",
       "4  yes        0  32.16667  9.7867  0.067051   546.503300   yes      no   \n",
       "\n",
       "   dependents  months  majorcards  active  \n",
       "0           3      54           1      12  \n",
       "1           3      34           1      13  \n",
       "2           4      58           1       5  \n",
       "3           0      25           1       7  \n",
       "4           2      64           1       5  "
      ]
     },
     "execution_count": 4,
     "metadata": {},
     "output_type": "execute_result"
    }
   ],
   "source": [
    "credit_card_df.head()"
   ]
  },
  {
   "cell_type": "code",
   "execution_count": 6,
   "id": "1d213015-f019-49a1-ac5f-59c0b8169f4d",
   "metadata": {},
   "outputs": [
    {
     "name": "stdout",
     "output_type": "stream",
     "text": [
      "card:\n",
      "\n",
      "yes    1023\n",
      "no      296\n",
      "Name: card, dtype: int64\n",
      "---\n",
      "reports:\n",
      "\n",
      "0     1060\n",
      "1      137\n",
      "2       50\n",
      "3       24\n",
      "4       17\n",
      "5       11\n",
      "7        6\n",
      "6        5\n",
      "11       4\n",
      "9        2\n",
      "12       1\n",
      "14       1\n",
      "10       1\n",
      "Name: reports, dtype: int64\n",
      "---\n",
      "age:\n",
      "\n",
      "28.16667    13\n",
      "25.16667    11\n",
      "23.83333    11\n",
      "25.33333    10\n",
      "25.41667    10\n",
      "            ..\n",
      "43.41667     1\n",
      "42.25000     1\n",
      "51.83333     1\n",
      "45.50000     1\n",
      "58.08333     1\n",
      "Name: age, Length: 418, dtype: int64\n",
      "---\n",
      "income:\n",
      "\n",
      "3.0000     61\n",
      "2.5000     46\n",
      "2.0000     44\n",
      "3.5000     41\n",
      "4.0000     32\n",
      "           ..\n",
      "1.6380      1\n",
      "4.3500      1\n",
      "2.2750      1\n",
      "12.4999     1\n",
      "3.1920      1\n",
      "Name: income, Length: 431, dtype: int64\n",
      "---\n",
      "share:\n",
      "\n",
      "0.000480    12\n",
      "0.000600    11\n",
      "0.000667    11\n",
      "0.000400    11\n",
      "0.000462    10\n",
      "            ..\n",
      "0.024458     1\n",
      "0.008602     1\n",
      "0.090640     1\n",
      "0.003312     1\n",
      "0.111619     1\n",
      "Name: share, Length: 1162, dtype: int64\n",
      "---\n",
      "expenditure:\n",
      "\n",
      "0.000000      317\n",
      "4.583333        9\n",
      "8.333333        8\n",
      "7.083333        5\n",
      "37.583330       2\n",
      "             ... \n",
      "22.462500       1\n",
      "294.580000      1\n",
      "10.290830       1\n",
      "632.080800      1\n",
      "344.157500      1\n",
      "Name: expenditure, Length: 981, dtype: int64\n",
      "---\n",
      "owner:\n",
      "\n",
      "no     738\n",
      "yes    581\n",
      "Name: owner, dtype: int64\n",
      "---\n",
      "selfemp:\n",
      "\n",
      "no     1228\n",
      "yes      91\n",
      "Name: selfemp, dtype: int64\n",
      "---\n",
      "dependents:\n",
      "\n",
      "0    659\n",
      "1    267\n",
      "2    218\n",
      "3    115\n",
      "4     44\n",
      "5      9\n",
      "6      7\n",
      "Name: dependents, dtype: int64\n",
      "---\n",
      "months:\n",
      "\n",
      "12     101\n",
      "24      71\n",
      "6       58\n",
      "36      48\n",
      "18      44\n",
      "      ... \n",
      "186      1\n",
      "95       1\n",
      "55       1\n",
      "160      1\n",
      "123      1\n",
      "Name: months, Length: 193, dtype: int64\n",
      "---\n",
      "majorcards:\n",
      "\n",
      "1    1078\n",
      "0     241\n",
      "Name: majorcards, dtype: int64\n",
      "---\n",
      "active:\n",
      "\n",
      "0     219\n",
      "2      92\n",
      "3      91\n",
      "5      86\n",
      "4      84\n",
      "7      82\n",
      "1      73\n",
      "6      72\n",
      "9      71\n",
      "11     63\n",
      "8      62\n",
      "10     44\n",
      "13     42\n",
      "12     38\n",
      "14     30\n",
      "16     30\n",
      "15     27\n",
      "17     23\n",
      "19     21\n",
      "18     20\n",
      "22      9\n",
      "20      9\n",
      "21      7\n",
      "23      5\n",
      "25      4\n",
      "27      3\n",
      "29      2\n",
      "31      2\n",
      "28      2\n",
      "26      1\n",
      "46      1\n",
      "24      1\n",
      "33      1\n",
      "32      1\n",
      "44      1\n",
      "Name: active, dtype: int64\n",
      "---\n"
     ]
    }
   ],
   "source": [
    "for col in credit_card_df.columns:\n",
    "    print(f\"{col}:\\n\")\n",
    "    print(credit_card_df[col].value_counts())\n",
    "    print(\"---\")"
   ]
  },
  {
   "cell_type": "code",
   "execution_count": 7,
   "id": "f72f30fc-c5f5-4583-9a34-a91de8a2ab4a",
   "metadata": {},
   "outputs": [],
   "source": [
    "mapper = {\"yes\": 1, \n",
    "          \"no\": 0}\n",
    "\n",
    "credit_card_df[\"card\"] = credit_card_df[\"card\"].map(mapper)\n",
    "credit_card_df[\"owner\"] = credit_card_df[\"owner\"].map(mapper)\n",
    "credit_card_df[\"selfemp\"] = credit_card_df[\"selfemp\"].map(mapper)"
   ]
  },
  {
   "cell_type": "code",
   "execution_count": 8,
   "id": "eb9e2297-c4fe-4710-ab97-0dcf15160a5f",
   "metadata": {},
   "outputs": [
    {
     "data": {
      "text/html": [
       "<div>\n",
       "<style scoped>\n",
       "    .dataframe tbody tr th:only-of-type {\n",
       "        vertical-align: middle;\n",
       "    }\n",
       "\n",
       "    .dataframe tbody tr th {\n",
       "        vertical-align: top;\n",
       "    }\n",
       "\n",
       "    .dataframe thead th {\n",
       "        text-align: right;\n",
       "    }\n",
       "</style>\n",
       "<table border=\"1\" class=\"dataframe\">\n",
       "  <thead>\n",
       "    <tr style=\"text-align: right;\">\n",
       "      <th></th>\n",
       "      <th>card</th>\n",
       "      <th>reports</th>\n",
       "      <th>age</th>\n",
       "      <th>income</th>\n",
       "      <th>share</th>\n",
       "      <th>expenditure</th>\n",
       "      <th>owner</th>\n",
       "      <th>selfemp</th>\n",
       "      <th>dependents</th>\n",
       "      <th>months</th>\n",
       "      <th>majorcards</th>\n",
       "      <th>active</th>\n",
       "    </tr>\n",
       "  </thead>\n",
       "  <tbody>\n",
       "    <tr>\n",
       "      <th>0</th>\n",
       "      <td>1</td>\n",
       "      <td>0</td>\n",
       "      <td>37.66667</td>\n",
       "      <td>4.5200</td>\n",
       "      <td>0.033270</td>\n",
       "      <td>124.983300</td>\n",
       "      <td>1</td>\n",
       "      <td>0</td>\n",
       "      <td>3</td>\n",
       "      <td>54</td>\n",
       "      <td>1</td>\n",
       "      <td>12</td>\n",
       "    </tr>\n",
       "    <tr>\n",
       "      <th>1</th>\n",
       "      <td>1</td>\n",
       "      <td>0</td>\n",
       "      <td>33.25000</td>\n",
       "      <td>2.4200</td>\n",
       "      <td>0.005217</td>\n",
       "      <td>9.854167</td>\n",
       "      <td>0</td>\n",
       "      <td>0</td>\n",
       "      <td>3</td>\n",
       "      <td>34</td>\n",
       "      <td>1</td>\n",
       "      <td>13</td>\n",
       "    </tr>\n",
       "    <tr>\n",
       "      <th>2</th>\n",
       "      <td>1</td>\n",
       "      <td>0</td>\n",
       "      <td>33.66667</td>\n",
       "      <td>4.5000</td>\n",
       "      <td>0.004156</td>\n",
       "      <td>15.000000</td>\n",
       "      <td>1</td>\n",
       "      <td>0</td>\n",
       "      <td>4</td>\n",
       "      <td>58</td>\n",
       "      <td>1</td>\n",
       "      <td>5</td>\n",
       "    </tr>\n",
       "    <tr>\n",
       "      <th>3</th>\n",
       "      <td>1</td>\n",
       "      <td>0</td>\n",
       "      <td>30.50000</td>\n",
       "      <td>2.5400</td>\n",
       "      <td>0.065214</td>\n",
       "      <td>137.869200</td>\n",
       "      <td>0</td>\n",
       "      <td>0</td>\n",
       "      <td>0</td>\n",
       "      <td>25</td>\n",
       "      <td>1</td>\n",
       "      <td>7</td>\n",
       "    </tr>\n",
       "    <tr>\n",
       "      <th>4</th>\n",
       "      <td>1</td>\n",
       "      <td>0</td>\n",
       "      <td>32.16667</td>\n",
       "      <td>9.7867</td>\n",
       "      <td>0.067051</td>\n",
       "      <td>546.503300</td>\n",
       "      <td>1</td>\n",
       "      <td>0</td>\n",
       "      <td>2</td>\n",
       "      <td>64</td>\n",
       "      <td>1</td>\n",
       "      <td>5</td>\n",
       "    </tr>\n",
       "  </tbody>\n",
       "</table>\n",
       "</div>"
      ],
      "text/plain": [
       "   card  reports       age  income     share  expenditure  owner  selfemp  \\\n",
       "0     1        0  37.66667  4.5200  0.033270   124.983300      1        0   \n",
       "1     1        0  33.25000  2.4200  0.005217     9.854167      0        0   \n",
       "2     1        0  33.66667  4.5000  0.004156    15.000000      1        0   \n",
       "3     1        0  30.50000  2.5400  0.065214   137.869200      0        0   \n",
       "4     1        0  32.16667  9.7867  0.067051   546.503300      1        0   \n",
       "\n",
       "   dependents  months  majorcards  active  \n",
       "0           3      54           1      12  \n",
       "1           3      34           1      13  \n",
       "2           4      58           1       5  \n",
       "3           0      25           1       7  \n",
       "4           2      64           1       5  "
      ]
     },
     "execution_count": 8,
     "metadata": {},
     "output_type": "execute_result"
    }
   ],
   "source": [
    "credit_card_df.head()"
   ]
  },
  {
   "cell_type": "markdown",
   "id": "50b3925f-a623-46f9-858e-8a6e6b8f868e",
   "metadata": {},
   "source": [
    "## Spliting the data into train, val and test"
   ]
  },
  {
   "cell_type": "code",
   "execution_count": 9,
   "id": "ff5e99f0-a81a-4400-b0ff-6edd7b5424a5",
   "metadata": {},
   "outputs": [],
   "source": [
    "from sklearn.model_selection import train_test_split"
   ]
  },
  {
   "cell_type": "code",
   "execution_count": 10,
   "id": "275b08c4-7ec5-4b9f-9f74-45735d0125ea",
   "metadata": {},
   "outputs": [],
   "source": [
    "full_train_df, test_df = train_test_split(credit_card_df, test_size=0.2,\n",
    "                                         random_state=1)"
   ]
  },
  {
   "cell_type": "code",
   "execution_count": 12,
   "id": "5ad52a4d-8e36-4706-a675-122c58c0bf2d",
   "metadata": {},
   "outputs": [
    {
     "data": {
      "text/plain": [
       "((1055, 12), (264, 12))"
      ]
     },
     "execution_count": 12,
     "metadata": {},
     "output_type": "execute_result"
    }
   ],
   "source": [
    "full_train_df.shape, test_df.shape"
   ]
  },
  {
   "cell_type": "code",
   "execution_count": 13,
   "id": "6b70a153-60a0-4a2c-9606-c4a09bf08a08",
   "metadata": {},
   "outputs": [
    {
     "data": {
      "text/plain": [
       "0.25"
      ]
     },
     "execution_count": 13,
     "metadata": {},
     "output_type": "execute_result"
    }
   ],
   "source": [
    "0.2 / 0.8"
   ]
  },
  {
   "cell_type": "code",
   "execution_count": 14,
   "id": "15a3da3a-c6a0-49f9-96c0-42ca925b09ce",
   "metadata": {},
   "outputs": [],
   "source": [
    "train_df, val_df = train_test_split(full_train_df, test_size=0.25,\n",
    "                                         random_state=1)"
   ]
  },
  {
   "cell_type": "code",
   "execution_count": 15,
   "id": "51e46596-abd0-4fa1-b9f8-02361de86ca3",
   "metadata": {},
   "outputs": [
    {
     "data": {
      "text/plain": [
       "((791, 12), (264, 12))"
      ]
     },
     "execution_count": 15,
     "metadata": {},
     "output_type": "execute_result"
    }
   ],
   "source": [
    "train_df.shape, val_df.shape"
   ]
  },
  {
   "cell_type": "code",
   "execution_count": 16,
   "id": "e58bb188-4390-4990-9568-cb685e6a9b43",
   "metadata": {},
   "outputs": [],
   "source": [
    "y_full_train = full_train_df.card\n",
    "\n",
    "del full_train_df[\"card\"]\n",
    "\n",
    "y_train = train_df.card\n",
    "y_val = val_df.card\n",
    "y_test = test_df.card\n",
    "\n",
    "del train_df[\"card\"]\n",
    "del val_df[\"card\"]\n",
    "del test_df[\"card\"]"
   ]
  },
  {
   "cell_type": "markdown",
   "id": "664c2571-8f37-4142-bdc6-439d3fbc381a",
   "metadata": {},
   "source": [
    "## ROC AUC used to evaluate feature importance of numerical variables"
   ]
  },
  {
   "cell_type": "code",
   "execution_count": 17,
   "id": "b4cd7295-abe4-4333-9a3e-65ba87b56566",
   "metadata": {},
   "outputs": [],
   "source": [
    "from sklearn.metrics import roc_auc_score"
   ]
  },
  {
   "cell_type": "code",
   "execution_count": 19,
   "id": "5c32720d-bdd6-48a7-ad75-d66ff3ba3980",
   "metadata": {},
   "outputs": [
    {
     "data": {
      "text/html": [
       "<div>\n",
       "<style scoped>\n",
       "    .dataframe tbody tr th:only-of-type {\n",
       "        vertical-align: middle;\n",
       "    }\n",
       "\n",
       "    .dataframe tbody tr th {\n",
       "        vertical-align: top;\n",
       "    }\n",
       "\n",
       "    .dataframe thead th {\n",
       "        text-align: right;\n",
       "    }\n",
       "</style>\n",
       "<table border=\"1\" class=\"dataframe\">\n",
       "  <thead>\n",
       "    <tr style=\"text-align: right;\">\n",
       "      <th></th>\n",
       "      <th>reports</th>\n",
       "      <th>age</th>\n",
       "      <th>income</th>\n",
       "      <th>share</th>\n",
       "      <th>expenditure</th>\n",
       "      <th>owner</th>\n",
       "      <th>selfemp</th>\n",
       "      <th>dependents</th>\n",
       "      <th>months</th>\n",
       "      <th>majorcards</th>\n",
       "      <th>active</th>\n",
       "    </tr>\n",
       "  </thead>\n",
       "  <tbody>\n",
       "    <tr>\n",
       "      <th>1105</th>\n",
       "      <td>3</td>\n",
       "      <td>40.50000</td>\n",
       "      <td>4.0128</td>\n",
       "      <td>0.000299</td>\n",
       "      <td>0.00000</td>\n",
       "      <td>0</td>\n",
       "      <td>0</td>\n",
       "      <td>1</td>\n",
       "      <td>12</td>\n",
       "      <td>1</td>\n",
       "      <td>17</td>\n",
       "    </tr>\n",
       "    <tr>\n",
       "      <th>431</th>\n",
       "      <td>1</td>\n",
       "      <td>32.33333</td>\n",
       "      <td>6.0000</td>\n",
       "      <td>0.000200</td>\n",
       "      <td>0.00000</td>\n",
       "      <td>1</td>\n",
       "      <td>0</td>\n",
       "      <td>4</td>\n",
       "      <td>18</td>\n",
       "      <td>1</td>\n",
       "      <td>4</td>\n",
       "    </tr>\n",
       "    <tr>\n",
       "      <th>407</th>\n",
       "      <td>1</td>\n",
       "      <td>29.16667</td>\n",
       "      <td>2.2000</td>\n",
       "      <td>0.038205</td>\n",
       "      <td>69.79333</td>\n",
       "      <td>0</td>\n",
       "      <td>0</td>\n",
       "      <td>0</td>\n",
       "      <td>49</td>\n",
       "      <td>1</td>\n",
       "      <td>7</td>\n",
       "    </tr>\n",
       "    <tr>\n",
       "      <th>1217</th>\n",
       "      <td>1</td>\n",
       "      <td>54.66667</td>\n",
       "      <td>7.2900</td>\n",
       "      <td>0.106536</td>\n",
       "      <td>647.20670</td>\n",
       "      <td>1</td>\n",
       "      <td>0</td>\n",
       "      <td>2</td>\n",
       "      <td>78</td>\n",
       "      <td>1</td>\n",
       "      <td>9</td>\n",
       "    </tr>\n",
       "    <tr>\n",
       "      <th>1133</th>\n",
       "      <td>0</td>\n",
       "      <td>25.00000</td>\n",
       "      <td>3.3984</td>\n",
       "      <td>0.000353</td>\n",
       "      <td>0.00000</td>\n",
       "      <td>1</td>\n",
       "      <td>0</td>\n",
       "      <td>2</td>\n",
       "      <td>29</td>\n",
       "      <td>0</td>\n",
       "      <td>4</td>\n",
       "    </tr>\n",
       "  </tbody>\n",
       "</table>\n",
       "</div>"
      ],
      "text/plain": [
       "      reports       age  income     share  expenditure  owner  selfemp  \\\n",
       "1105        3  40.50000  4.0128  0.000299      0.00000      0        0   \n",
       "431         1  32.33333  6.0000  0.000200      0.00000      1        0   \n",
       "407         1  29.16667  2.2000  0.038205     69.79333      0        0   \n",
       "1217        1  54.66667  7.2900  0.106536    647.20670      1        0   \n",
       "1133        0  25.00000  3.3984  0.000353      0.00000      1        0   \n",
       "\n",
       "      dependents  months  majorcards  active  \n",
       "1105           1      12           1      17  \n",
       "431            4      18           1       4  \n",
       "407            0      49           1       7  \n",
       "1217           2      78           1       9  \n",
       "1133           2      29           0       4  "
      ]
     },
     "execution_count": 19,
     "metadata": {},
     "output_type": "execute_result"
    }
   ],
   "source": [
    "train_df.head()"
   ]
  },
  {
   "cell_type": "code",
   "execution_count": 22,
   "id": "a08a5337-dbdb-4323-bc27-d98a42a9c1b3",
   "metadata": {},
   "outputs": [
    {
     "data": {
      "text/plain": [
       "reports          int64\n",
       "age            float64\n",
       "income         float64\n",
       "share          float64\n",
       "expenditure    float64\n",
       "owner            int64\n",
       "selfemp          int64\n",
       "dependents       int64\n",
       "months           int64\n",
       "majorcards       int64\n",
       "active           int64\n",
       "dtype: object"
      ]
     },
     "execution_count": 22,
     "metadata": {},
     "output_type": "execute_result"
    }
   ],
   "source": [
    "train_df.dtypes"
   ]
  },
  {
   "cell_type": "code",
   "execution_count": 20,
   "id": "ef388a37-50a6-4797-b59d-ddb69308f041",
   "metadata": {},
   "outputs": [
    {
     "data": {
      "text/plain": [
       "Index(['reports', 'age', 'income', 'share', 'expenditure', 'owner', 'selfemp',\n",
       "       'dependents', 'months', 'majorcards', 'active'],\n",
       "      dtype='object')"
      ]
     },
     "execution_count": 20,
     "metadata": {},
     "output_type": "execute_result"
    }
   ],
   "source": [
    "train_df.columns"
   ]
  },
  {
   "cell_type": "code",
   "execution_count": 23,
   "id": "57e03ccf-367e-4e3d-b036-2646d1f53d51",
   "metadata": {},
   "outputs": [],
   "source": [
    "numerical_features_lst = ['reports', 'age', 'income', 'share', 'expenditure',\n",
    "                          'dependents', 'months', 'majorcards', 'active']\n",
    "\n",
    "categorical_features_lst = ['owner', 'selfemp']"
   ]
  },
  {
   "cell_type": "markdown",
   "id": "537eb677-1075-44a8-a74e-675ed117518a",
   "metadata": {},
   "source": [
    "#### Question 1"
   ]
  },
  {
   "cell_type": "code",
   "execution_count": 24,
   "id": "e6f813ad-f53c-4a6f-9fa0-cf57f12a870c",
   "metadata": {},
   "outputs": [
    {
     "name": "stdout",
     "output_type": "stream",
     "text": [
      "  reports, 0.717\n",
      "      age, 0.524\n",
      "   income, 0.591\n",
      "    share, 0.989\n",
      "expenditure, 0.991\n",
      "dependents, 0.533\n",
      "   months, 0.529\n",
      "majorcards, 0.534\n",
      "   active, 0.604\n"
     ]
    }
   ],
   "source": [
    "for feature in numerical_features_lst:\n",
    "    auc = roc_auc_score(y_train, train_df[feature])\n",
    "    if auc < 0.5:\n",
    "        auc = roc_auc_score(y_train, -train_df[feature])\n",
    "    print('%9s, %.3f' % (feature, auc))\n",
    "\n"
   ]
  },
  {
   "cell_type": "markdown",
   "id": "770fa16a-b8f7-4e71-8475-768f09419a73",
   "metadata": {},
   "source": [
    "## Training the model"
   ]
  },
  {
   "cell_type": "markdown",
   "id": "c653d244-a977-40e1-adc2-7ff0cb7ddf0c",
   "metadata": {},
   "source": [
    "### Applying DictVectorizer"
   ]
  },
  {
   "cell_type": "code",
   "execution_count": 25,
   "id": "5d0cd478-a2b2-47bc-8517-f57bf2590883",
   "metadata": {},
   "outputs": [],
   "source": [
    "features_lst = [\"reports\", \"age\", \"income\", \"share\", \"expenditure\", \n",
    "                \"dependents\", \"months\", \"majorcards\", \"active\", \"owner\", \"selfemp\"]"
   ]
  },
  {
   "cell_type": "code",
   "execution_count": 27,
   "id": "dfa424f2-4f75-403d-af08-1a2e742a04d6",
   "metadata": {},
   "outputs": [],
   "source": [
    "train_dict = train_df[features_lst].to_dict(orient=\"records\")"
   ]
  },
  {
   "cell_type": "code",
   "execution_count": 28,
   "id": "59c5c660-c202-482f-a1b1-f8d01959871f",
   "metadata": {},
   "outputs": [],
   "source": [
    "from sklearn.feature_extraction import DictVectorizer"
   ]
  },
  {
   "cell_type": "code",
   "execution_count": 29,
   "id": "7d3fd87a-28b8-4554-b640-51d4de10716c",
   "metadata": {},
   "outputs": [],
   "source": [
    "dv = DictVectorizer(sparse=False)\n",
    "\n",
    "X_train = dv.fit_transform(train_dict)"
   ]
  },
  {
   "cell_type": "code",
   "execution_count": 30,
   "id": "404bd064-1c34-4d94-9cca-bc5181ff458c",
   "metadata": {},
   "outputs": [],
   "source": [
    "def X_transformations(dataframe):\n",
    "    features_lst = [\"reports\", \"age\", \"income\", \"share\", \"expenditure\", \n",
    "                    \"dependents\", \"months\", \"majorcards\", \"active\", \"owner\", \"selfemp\"]\n",
    "    X_dict = dataframe[features_lst].to_dict(orient=\"records\")\n",
    "    X = dv.transform(X_dict)\n",
    "    \n",
    "    return X\n",
    "\n",
    "X_val = X_transformations(val_df)\n",
    "X_test = X_transformations(test_df)"
   ]
  },
  {
   "cell_type": "markdown",
   "id": "1d5f8b39-e433-4a17-941b-60cc04018a1a",
   "metadata": {},
   "source": [
    "### Training Logistic Regression"
   ]
  },
  {
   "cell_type": "code",
   "execution_count": 31,
   "id": "381a8c3e-cf4c-4110-b381-6befb9e99e06",
   "metadata": {},
   "outputs": [],
   "source": [
    "from sklearn.linear_model import LogisticRegression"
   ]
  },
  {
   "cell_type": "code",
   "execution_count": 34,
   "id": "120815e2-f6d5-4190-a25a-4acbcbcd7dc5",
   "metadata": {},
   "outputs": [
    {
     "data": {
      "text/plain": [
       "LogisticRegression(max_iter=1000, solver='liblinear')"
      ]
     },
     "execution_count": 34,
     "metadata": {},
     "output_type": "execute_result"
    }
   ],
   "source": [
    "lr = LogisticRegression(solver='liblinear', C=1.0, max_iter=1000)\n",
    "\n",
    "lr.fit(X_train, y_train)"
   ]
  },
  {
   "cell_type": "code",
   "execution_count": 46,
   "id": "2294077e-a480-4d21-8fc9-f16d09f7b179",
   "metadata": {},
   "outputs": [],
   "source": [
    "# prob for 0 and 1\n",
    "y_pred = lr.predict_proba(X_val)[:, 1]\n",
    "\n",
    "y_pred = (y_pred >= 0.5).astype('int')"
   ]
  },
  {
   "cell_type": "markdown",
   "id": "4dde2c3e-efda-4913-949b-750e773462ea",
   "metadata": {},
   "source": [
    "#### Question 2"
   ]
  },
  {
   "cell_type": "code",
   "execution_count": 48,
   "id": "06b7a0b1-5c3d-4287-9c01-96c68e87c413",
   "metadata": {},
   "outputs": [
    {
     "data": {
      "text/plain": [
       "0.974"
      ]
     },
     "execution_count": 48,
     "metadata": {},
     "output_type": "execute_result"
    }
   ],
   "source": [
    "auc = roc_auc_score(y_val, y_pred).round(3)\n",
    "auc"
   ]
  },
  {
   "cell_type": "code",
   "execution_count": 68,
   "id": "e212a405-86a3-4b9b-bb5b-111289a158bd",
   "metadata": {},
   "outputs": [],
   "source": [
    "import numpy as np\n",
    "\n",
    "def score_df(y_val, y_pred):\n",
    "    scores = []\n",
    "    \n",
    "    thresholds = np.linspace(0, 1, 101)\n",
    "    \n",
    "    for t in thresholds:\n",
    "        \n",
    "        actual_positive = (y_val == 1)\n",
    "        actual_negative = (y_val == 0)\n",
    "        \n",
    "        predict_pos = (y_pred >= t)\n",
    "        predict_neg = (y_pred < t)\n",
    "        \n",
    "        tp = (actual_positive & predict_pos).sum()\n",
    "        tn = (actual_negative & predict_neg).sum()\n",
    "        \n",
    "        fp = (predict_pos & actual_negative).sum()\n",
    "        fn = (predict_neg & actual_positive).sum()\n",
    "        \n",
    "        scores.append((t, tp, tn, fp, fn))\n",
    "        \n",
    "    scores_df = pd.DataFrame(scores, columns=[\"t\", \"tp\", \"tn\", \"fp\", \"fn\"])\n",
    "    \n",
    "    # used when having false positives is worse\n",
    "    scores_df[\"precision\"] = scores_df[\"tp\"] / (scores_df[\"tp\"] + scores_df[\"fp\"])\n",
    "    \n",
    "    # used when having false negatives is worse\n",
    "    scores_df[\"recall\"] = scores_df[\"tp\"] / (scores_df[\"tp\"] + scores_df[\"fn\"])\n",
    "    \n",
    "    return scores_df"
   ]
  },
  {
   "cell_type": "code",
   "execution_count": 69,
   "id": "56c1c95f-5ece-474d-a7d6-36df24dd8c65",
   "metadata": {},
   "outputs": [],
   "source": [
    "scores_df = score_df(y_val, y_pred)"
   ]
  },
  {
   "cell_type": "code",
   "execution_count": 72,
   "id": "6f843b9b-bb1e-4630-9f5d-c75118e9c80f",
   "metadata": {},
   "outputs": [
    {
     "data": {
      "text/html": [
       "<div>\n",
       "<style scoped>\n",
       "    .dataframe tbody tr th:only-of-type {\n",
       "        vertical-align: middle;\n",
       "    }\n",
       "\n",
       "    .dataframe tbody tr th {\n",
       "        vertical-align: top;\n",
       "    }\n",
       "\n",
       "    .dataframe thead th {\n",
       "        text-align: right;\n",
       "    }\n",
       "</style>\n",
       "<table border=\"1\" class=\"dataframe\">\n",
       "  <thead>\n",
       "    <tr style=\"text-align: right;\">\n",
       "      <th></th>\n",
       "      <th>t</th>\n",
       "      <th>tp</th>\n",
       "      <th>tn</th>\n",
       "      <th>fp</th>\n",
       "      <th>fn</th>\n",
       "      <th>precision</th>\n",
       "      <th>recall</th>\n",
       "    </tr>\n",
       "  </thead>\n",
       "  <tbody>\n",
       "    <tr>\n",
       "      <th>0</th>\n",
       "      <td>0.0</td>\n",
       "      <td>211</td>\n",
       "      <td>0</td>\n",
       "      <td>53</td>\n",
       "      <td>0</td>\n",
       "      <td>0.799242</td>\n",
       "      <td>1.000000</td>\n",
       "    </tr>\n",
       "    <tr>\n",
       "      <th>10</th>\n",
       "      <td>0.1</td>\n",
       "      <td>204</td>\n",
       "      <td>52</td>\n",
       "      <td>1</td>\n",
       "      <td>7</td>\n",
       "      <td>0.995122</td>\n",
       "      <td>0.966825</td>\n",
       "    </tr>\n",
       "    <tr>\n",
       "      <th>20</th>\n",
       "      <td>0.2</td>\n",
       "      <td>204</td>\n",
       "      <td>52</td>\n",
       "      <td>1</td>\n",
       "      <td>7</td>\n",
       "      <td>0.995122</td>\n",
       "      <td>0.966825</td>\n",
       "    </tr>\n",
       "    <tr>\n",
       "      <th>30</th>\n",
       "      <td>0.3</td>\n",
       "      <td>204</td>\n",
       "      <td>52</td>\n",
       "      <td>1</td>\n",
       "      <td>7</td>\n",
       "      <td>0.995122</td>\n",
       "      <td>0.966825</td>\n",
       "    </tr>\n",
       "    <tr>\n",
       "      <th>40</th>\n",
       "      <td>0.4</td>\n",
       "      <td>204</td>\n",
       "      <td>52</td>\n",
       "      <td>1</td>\n",
       "      <td>7</td>\n",
       "      <td>0.995122</td>\n",
       "      <td>0.966825</td>\n",
       "    </tr>\n",
       "    <tr>\n",
       "      <th>50</th>\n",
       "      <td>0.5</td>\n",
       "      <td>204</td>\n",
       "      <td>52</td>\n",
       "      <td>1</td>\n",
       "      <td>7</td>\n",
       "      <td>0.995122</td>\n",
       "      <td>0.966825</td>\n",
       "    </tr>\n",
       "    <tr>\n",
       "      <th>60</th>\n",
       "      <td>0.6</td>\n",
       "      <td>204</td>\n",
       "      <td>52</td>\n",
       "      <td>1</td>\n",
       "      <td>7</td>\n",
       "      <td>0.995122</td>\n",
       "      <td>0.966825</td>\n",
       "    </tr>\n",
       "    <tr>\n",
       "      <th>70</th>\n",
       "      <td>0.7</td>\n",
       "      <td>204</td>\n",
       "      <td>52</td>\n",
       "      <td>1</td>\n",
       "      <td>7</td>\n",
       "      <td>0.995122</td>\n",
       "      <td>0.966825</td>\n",
       "    </tr>\n",
       "    <tr>\n",
       "      <th>80</th>\n",
       "      <td>0.8</td>\n",
       "      <td>204</td>\n",
       "      <td>52</td>\n",
       "      <td>1</td>\n",
       "      <td>7</td>\n",
       "      <td>0.995122</td>\n",
       "      <td>0.966825</td>\n",
       "    </tr>\n",
       "    <tr>\n",
       "      <th>90</th>\n",
       "      <td>0.9</td>\n",
       "      <td>204</td>\n",
       "      <td>52</td>\n",
       "      <td>1</td>\n",
       "      <td>7</td>\n",
       "      <td>0.995122</td>\n",
       "      <td>0.966825</td>\n",
       "    </tr>\n",
       "    <tr>\n",
       "      <th>100</th>\n",
       "      <td>1.0</td>\n",
       "      <td>204</td>\n",
       "      <td>52</td>\n",
       "      <td>1</td>\n",
       "      <td>7</td>\n",
       "      <td>0.995122</td>\n",
       "      <td>0.966825</td>\n",
       "    </tr>\n",
       "  </tbody>\n",
       "</table>\n",
       "</div>"
      ],
      "text/plain": [
       "       t   tp  tn  fp  fn  precision    recall\n",
       "0    0.0  211   0  53   0   0.799242  1.000000\n",
       "10   0.1  204  52   1   7   0.995122  0.966825\n",
       "20   0.2  204  52   1   7   0.995122  0.966825\n",
       "30   0.3  204  52   1   7   0.995122  0.966825\n",
       "40   0.4  204  52   1   7   0.995122  0.966825\n",
       "50   0.5  204  52   1   7   0.995122  0.966825\n",
       "60   0.6  204  52   1   7   0.995122  0.966825\n",
       "70   0.7  204  52   1   7   0.995122  0.966825\n",
       "80   0.8  204  52   1   7   0.995122  0.966825\n",
       "90   0.9  204  52   1   7   0.995122  0.966825\n",
       "100  1.0  204  52   1   7   0.995122  0.966825"
      ]
     },
     "execution_count": 72,
     "metadata": {},
     "output_type": "execute_result"
    }
   ],
   "source": [
    "scores_df[::10]"
   ]
  },
  {
   "cell_type": "code",
   "execution_count": 66,
   "id": "aba8ad33-4a7d-474c-8e20-237087f08254",
   "metadata": {},
   "outputs": [],
   "source": [
    "import matplotlib.pyplot as plt"
   ]
  },
  {
   "cell_type": "code",
   "execution_count": 71,
   "id": "bd5fcfc7-8005-42a5-bece-ff55f8ea584c",
   "metadata": {},
   "outputs": [
    {
     "data": {
      "image/png": "[encoded data removed]",
      "text/plain": [
       "<Figure size 640x480 with 1 Axes>"
      ]
     },
     "metadata": {},
     "output_type": "display_data"
    }
   ],
   "source": [
    "plt.plot(scores_df.t, scores_df.precision, label='precision')\n",
    "plt.plot(scores_df.t, scores_df.recall, label='recall')\n",
    "\n",
    "plt.legend()\n",
    "plt.show()"
   ]
  },
  {
   "cell_type": "code",
   "execution_count": null,
   "id": "37b6a07b-a563-430e-9c90-4fb2b1bfe016",
   "metadata": {},
   "outputs": [],
   "source": []
  }
 ],
 "metadata": {
  "kernelspec": {
   "display_name": "Python 3 (ipykernel)",
   "language": "python",
   "name": "python3"
  },
  "language_info": {
   "codemirror_mode": {
    "name": "ipython",
    "version": 3
   },
   "file_extension": ".py",
   "mimetype": "text/x-python",
   "name": "python",
   "nbconvert_exporter": "python",
   "pygments_lexer": "ipython3",
   "version": "3.9.13"
  }
 },
 "nbformat": 4,
 "nbformat_minor": 5
}
