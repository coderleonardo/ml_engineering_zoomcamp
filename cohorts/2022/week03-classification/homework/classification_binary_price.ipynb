{
 "cells": [
  {
   "cell_type": "markdown",
   "id": "984d480e-c017-4f42-a7ce-3fddc5be12c6",
   "metadata": {},
   "source": [
    "## Reading the data"
   ]
  },
  {
   "cell_type": "code",
   "execution_count": null,
   "id": "32eec9c6-6c20-4b2a-99f7-7f57e8013c96",
   "metadata": {},
   "outputs": [],
   "source": [
    "# link for download the data\n",
    "# wget https://raw.githubusercontent.com/alexeygrigorev/datasets/master/housing.csv"
   ]
  },
  {
   "cell_type": "code",
   "execution_count": 1,
   "id": "cf65b3cb-1797-444f-8ec0-e25da6cd8b56",
   "metadata": {},
   "outputs": [],
   "source": [
    "import pandas as pd\n",
    "import numpy as np"
   ]
  },
  {
   "cell_type": "code",
   "execution_count": 2,
   "id": "f319fc0f-2d60-4cc2-ad22-02d5ab04c153",
   "metadata": {},
   "outputs": [],
   "source": [
    "housing_df = pd.read_csv('housing.csv')"
   ]
  },
  {
   "cell_type": "code",
   "execution_count": 3,
   "id": "5444fbf5-3172-4d99-b616-d9e2558bf0e8",
   "metadata": {},
   "outputs": [
    {
     "data": {
      "text/plain": [
       "Index(['longitude', 'latitude', 'housing_median_age', 'total_rooms',\n",
       "       'total_bedrooms', 'population', 'households', 'median_income',\n",
       "       'median_house_value', 'ocean_proximity'],\n",
       "      dtype='object')"
      ]
     },
     "execution_count": 3,
     "metadata": {},
     "output_type": "execute_result"
    }
   ],
   "source": [
    "housing_df.columns"
   ]
  },
  {
   "cell_type": "markdown",
   "id": "d02d4c11-345a-4d56-8354-11d65c2957bc",
   "metadata": {},
   "source": [
    "### Features\n",
    "For the rest of the homework, you'll need to use only these columns:\n",
    "\n",
    "        'latitude',\n",
    "        'longitude',\n",
    "        'housing_median_age',\n",
    "        'total_rooms',\n",
    "        'total_bedrooms',\n",
    "        'population',\n",
    "        'households',\n",
    "        'median_income',\n",
    "        'median_house_value',\n",
    "        'ocean_proximity',"
   ]
  },
  {
   "cell_type": "code",
   "execution_count": 4,
   "id": "cad23170-707f-4c87-92d1-9eae297180d5",
   "metadata": {},
   "outputs": [],
   "source": [
    "housing_df = housing_df[['latitude',\n",
    "                        'longitude',\n",
    "                        'housing_median_age',\n",
    "                        'total_rooms',\n",
    "                        'total_bedrooms',\n",
    "                        'population',\n",
    "                        'households',\n",
    "                        'median_income',\n",
    "                        'median_house_value',\n",
    "                        'ocean_proximity']]"
   ]
  },
  {
   "cell_type": "code",
   "execution_count": 5,
   "id": "1624043e-7278-4e43-99ef-5a1ada43852e",
   "metadata": {},
   "outputs": [
    {
     "data": {
      "text/html": [
       "<div>\n",
       "<style scoped>\n",
       "    .dataframe tbody tr th:only-of-type {\n",
       "        vertical-align: middle;\n",
       "    }\n",
       "\n",
       "    .dataframe tbody tr th {\n",
       "        vertical-align: top;\n",
       "    }\n",
       "\n",
       "    .dataframe thead th {\n",
       "        text-align: right;\n",
       "    }\n",
       "</style>\n",
       "<table border=\"1\" class=\"dataframe\">\n",
       "  <thead>\n",
       "    <tr style=\"text-align: right;\">\n",
       "      <th></th>\n",
       "      <th>latitude</th>\n",
       "      <th>longitude</th>\n",
       "      <th>housing_median_age</th>\n",
       "      <th>total_rooms</th>\n",
       "      <th>total_bedrooms</th>\n",
       "      <th>population</th>\n",
       "      <th>households</th>\n",
       "      <th>median_income</th>\n",
       "      <th>median_house_value</th>\n",
       "      <th>ocean_proximity</th>\n",
       "    </tr>\n",
       "  </thead>\n",
       "  <tbody>\n",
       "    <tr>\n",
       "      <th>0</th>\n",
       "      <td>37.88</td>\n",
       "      <td>-122.23</td>\n",
       "      <td>41.0</td>\n",
       "      <td>880.0</td>\n",
       "      <td>129.0</td>\n",
       "      <td>322.0</td>\n",
       "      <td>126.0</td>\n",
       "      <td>8.3252</td>\n",
       "      <td>452600.0</td>\n",
       "      <td>NEAR BAY</td>\n",
       "    </tr>\n",
       "    <tr>\n",
       "      <th>1</th>\n",
       "      <td>37.86</td>\n",
       "      <td>-122.22</td>\n",
       "      <td>21.0</td>\n",
       "      <td>7099.0</td>\n",
       "      <td>1106.0</td>\n",
       "      <td>2401.0</td>\n",
       "      <td>1138.0</td>\n",
       "      <td>8.3014</td>\n",
       "      <td>358500.0</td>\n",
       "      <td>NEAR BAY</td>\n",
       "    </tr>\n",
       "    <tr>\n",
       "      <th>2</th>\n",
       "      <td>37.85</td>\n",
       "      <td>-122.24</td>\n",
       "      <td>52.0</td>\n",
       "      <td>1467.0</td>\n",
       "      <td>190.0</td>\n",
       "      <td>496.0</td>\n",
       "      <td>177.0</td>\n",
       "      <td>7.2574</td>\n",
       "      <td>352100.0</td>\n",
       "      <td>NEAR BAY</td>\n",
       "    </tr>\n",
       "    <tr>\n",
       "      <th>3</th>\n",
       "      <td>37.85</td>\n",
       "      <td>-122.25</td>\n",
       "      <td>52.0</td>\n",
       "      <td>1274.0</td>\n",
       "      <td>235.0</td>\n",
       "      <td>558.0</td>\n",
       "      <td>219.0</td>\n",
       "      <td>5.6431</td>\n",
       "      <td>341300.0</td>\n",
       "      <td>NEAR BAY</td>\n",
       "    </tr>\n",
       "    <tr>\n",
       "      <th>4</th>\n",
       "      <td>37.85</td>\n",
       "      <td>-122.25</td>\n",
       "      <td>52.0</td>\n",
       "      <td>1627.0</td>\n",
       "      <td>280.0</td>\n",
       "      <td>565.0</td>\n",
       "      <td>259.0</td>\n",
       "      <td>3.8462</td>\n",
       "      <td>342200.0</td>\n",
       "      <td>NEAR BAY</td>\n",
       "    </tr>\n",
       "  </tbody>\n",
       "</table>\n",
       "</div>"
      ],
      "text/plain": [
       "   latitude  longitude  housing_median_age  total_rooms  total_bedrooms  \\\n",
       "0     37.88    -122.23                41.0        880.0           129.0   \n",
       "1     37.86    -122.22                21.0       7099.0          1106.0   \n",
       "2     37.85    -122.24                52.0       1467.0           190.0   \n",
       "3     37.85    -122.25                52.0       1274.0           235.0   \n",
       "4     37.85    -122.25                52.0       1627.0           280.0   \n",
       "\n",
       "   population  households  median_income  median_house_value ocean_proximity  \n",
       "0       322.0       126.0         8.3252            452600.0        NEAR BAY  \n",
       "1      2401.0      1138.0         8.3014            358500.0        NEAR BAY  \n",
       "2       496.0       177.0         7.2574            352100.0        NEAR BAY  \n",
       "3       558.0       219.0         5.6431            341300.0        NEAR BAY  \n",
       "4       565.0       259.0         3.8462            342200.0        NEAR BAY  "
      ]
     },
     "execution_count": 5,
     "metadata": {},
     "output_type": "execute_result"
    }
   ],
   "source": [
    "housing_df.head()"
   ]
  },
  {
   "cell_type": "markdown",
   "id": "07d0b144-ce62-4c96-a609-5319927650c8",
   "metadata": {},
   "source": [
    "## Data preparation"
   ]
  },
  {
   "cell_type": "code",
   "execution_count": 7,
   "id": "69fc39eb-f686-47b8-a262-ae448798d3c2",
   "metadata": {},
   "outputs": [
    {
     "data": {
      "text/plain": [
       "latitude                0\n",
       "longitude               0\n",
       "housing_median_age      0\n",
       "total_rooms             0\n",
       "total_bedrooms        207\n",
       "population              0\n",
       "households              0\n",
       "median_income           0\n",
       "median_house_value      0\n",
       "ocean_proximity         0\n",
       "dtype: int64"
      ]
     },
     "execution_count": 7,
     "metadata": {},
     "output_type": "execute_result"
    }
   ],
   "source": [
    "housing_df.isna().sum()"
   ]
  },
  {
   "cell_type": "code",
   "execution_count": 8,
   "id": "97eb897e-10f3-4a27-94a7-c3e1728da105",
   "metadata": {},
   "outputs": [],
   "source": [
    "housing_df.fillna(value=0, inplace=True)"
   ]
  },
  {
   "cell_type": "code",
   "execution_count": 10,
   "id": "d937f0e2-3d9d-47bb-949d-773aa1c1ab29",
   "metadata": {},
   "outputs": [
    {
     "data": {
      "text/plain": [
       "latitude              0\n",
       "longitude             0\n",
       "housing_median_age    0\n",
       "total_rooms           0\n",
       "total_bedrooms        0\n",
       "population            0\n",
       "households            0\n",
       "median_income         0\n",
       "median_house_value    0\n",
       "ocean_proximity       0\n",
       "dtype: int64"
      ]
     },
     "execution_count": 10,
     "metadata": {},
     "output_type": "execute_result"
    }
   ],
   "source": [
    "housing_df.isna().sum()"
   ]
  },
  {
   "cell_type": "code",
   "execution_count": 12,
   "id": "8dc46ef3-19e8-4fd2-b8b5-cc3b243afd2c",
   "metadata": {},
   "outputs": [
    {
     "data": {
      "text/plain": [
       "latitude              float64\n",
       "longitude             float64\n",
       "housing_median_age    float64\n",
       "total_rooms           float64\n",
       "total_bedrooms        float64\n",
       "population            float64\n",
       "households            float64\n",
       "median_income         float64\n",
       "median_house_value    float64\n",
       "ocean_proximity        object\n",
       "dtype: object"
      ]
     },
     "execution_count": 12,
     "metadata": {},
     "output_type": "execute_result"
    }
   ],
   "source": [
    "housing_df.dtypes"
   ]
  },
  {
   "cell_type": "code",
   "execution_count": 13,
   "id": "bcf26028-46e7-4b8f-ad60-ed353b57776c",
   "metadata": {},
   "outputs": [],
   "source": [
    "housing_df['rooms_per_household'] = housing_df['total_rooms'] / housing_df['households']"
   ]
  },
  {
   "cell_type": "code",
   "execution_count": 14,
   "id": "47a19067-832f-43fb-90b3-649194937edb",
   "metadata": {},
   "outputs": [],
   "source": [
    "housing_df['bedrooms_per_room'] = housing_df['total_bedrooms'] / housing_df['total_rooms']"
   ]
  },
  {
   "cell_type": "code",
   "execution_count": 15,
   "id": "1a36f136-8b28-496c-a765-037cfdd16049",
   "metadata": {},
   "outputs": [],
   "source": [
    "housing_df['population_per_household'] = housing_df['population'] / housing_df['households']"
   ]
  },
  {
   "cell_type": "code",
   "execution_count": 16,
   "id": "fc0415e1-395e-4927-9dc8-f784a0886219",
   "metadata": {},
   "outputs": [
    {
     "data": {
      "text/html": [
       "<div>\n",
       "<style scoped>\n",
       "    .dataframe tbody tr th:only-of-type {\n",
       "        vertical-align: middle;\n",
       "    }\n",
       "\n",
       "    .dataframe tbody tr th {\n",
       "        vertical-align: top;\n",
       "    }\n",
       "\n",
       "    .dataframe thead th {\n",
       "        text-align: right;\n",
       "    }\n",
       "</style>\n",
       "<table border=\"1\" class=\"dataframe\">\n",
       "  <thead>\n",
       "    <tr style=\"text-align: right;\">\n",
       "      <th></th>\n",
       "      <th>latitude</th>\n",
       "      <th>longitude</th>\n",
       "      <th>housing_median_age</th>\n",
       "      <th>total_rooms</th>\n",
       "      <th>total_bedrooms</th>\n",
       "      <th>population</th>\n",
       "      <th>households</th>\n",
       "      <th>median_income</th>\n",
       "      <th>median_house_value</th>\n",
       "      <th>ocean_proximity</th>\n",
       "      <th>rooms_per_household</th>\n",
       "      <th>bedrooms_per_room</th>\n",
       "      <th>population_per_household</th>\n",
       "    </tr>\n",
       "  </thead>\n",
       "  <tbody>\n",
       "    <tr>\n",
       "      <th>0</th>\n",
       "      <td>37.88</td>\n",
       "      <td>-122.23</td>\n",
       "      <td>41.0</td>\n",
       "      <td>880.0</td>\n",
       "      <td>129.0</td>\n",
       "      <td>322.0</td>\n",
       "      <td>126.0</td>\n",
       "      <td>8.3252</td>\n",
       "      <td>452600.0</td>\n",
       "      <td>NEAR BAY</td>\n",
       "      <td>6.984127</td>\n",
       "      <td>0.146591</td>\n",
       "      <td>2.555556</td>\n",
       "    </tr>\n",
       "    <tr>\n",
       "      <th>1</th>\n",
       "      <td>37.86</td>\n",
       "      <td>-122.22</td>\n",
       "      <td>21.0</td>\n",
       "      <td>7099.0</td>\n",
       "      <td>1106.0</td>\n",
       "      <td>2401.0</td>\n",
       "      <td>1138.0</td>\n",
       "      <td>8.3014</td>\n",
       "      <td>358500.0</td>\n",
       "      <td>NEAR BAY</td>\n",
       "      <td>6.238137</td>\n",
       "      <td>0.155797</td>\n",
       "      <td>2.109842</td>\n",
       "    </tr>\n",
       "    <tr>\n",
       "      <th>2</th>\n",
       "      <td>37.85</td>\n",
       "      <td>-122.24</td>\n",
       "      <td>52.0</td>\n",
       "      <td>1467.0</td>\n",
       "      <td>190.0</td>\n",
       "      <td>496.0</td>\n",
       "      <td>177.0</td>\n",
       "      <td>7.2574</td>\n",
       "      <td>352100.0</td>\n",
       "      <td>NEAR BAY</td>\n",
       "      <td>8.288136</td>\n",
       "      <td>0.129516</td>\n",
       "      <td>2.802260</td>\n",
       "    </tr>\n",
       "    <tr>\n",
       "      <th>3</th>\n",
       "      <td>37.85</td>\n",
       "      <td>-122.25</td>\n",
       "      <td>52.0</td>\n",
       "      <td>1274.0</td>\n",
       "      <td>235.0</td>\n",
       "      <td>558.0</td>\n",
       "      <td>219.0</td>\n",
       "      <td>5.6431</td>\n",
       "      <td>341300.0</td>\n",
       "      <td>NEAR BAY</td>\n",
       "      <td>5.817352</td>\n",
       "      <td>0.184458</td>\n",
       "      <td>2.547945</td>\n",
       "    </tr>\n",
       "    <tr>\n",
       "      <th>4</th>\n",
       "      <td>37.85</td>\n",
       "      <td>-122.25</td>\n",
       "      <td>52.0</td>\n",
       "      <td>1627.0</td>\n",
       "      <td>280.0</td>\n",
       "      <td>565.0</td>\n",
       "      <td>259.0</td>\n",
       "      <td>3.8462</td>\n",
       "      <td>342200.0</td>\n",
       "      <td>NEAR BAY</td>\n",
       "      <td>6.281853</td>\n",
       "      <td>0.172096</td>\n",
       "      <td>2.181467</td>\n",
       "    </tr>\n",
       "  </tbody>\n",
       "</table>\n",
       "</div>"
      ],
      "text/plain": [
       "   latitude  longitude  housing_median_age  total_rooms  total_bedrooms  \\\n",
       "0     37.88    -122.23                41.0        880.0           129.0   \n",
       "1     37.86    -122.22                21.0       7099.0          1106.0   \n",
       "2     37.85    -122.24                52.0       1467.0           190.0   \n",
       "3     37.85    -122.25                52.0       1274.0           235.0   \n",
       "4     37.85    -122.25                52.0       1627.0           280.0   \n",
       "\n",
       "   population  households  median_income  median_house_value ocean_proximity  \\\n",
       "0       322.0       126.0         8.3252            452600.0        NEAR BAY   \n",
       "1      2401.0      1138.0         8.3014            358500.0        NEAR BAY   \n",
       "2       496.0       177.0         7.2574            352100.0        NEAR BAY   \n",
       "3       558.0       219.0         5.6431            341300.0        NEAR BAY   \n",
       "4       565.0       259.0         3.8462            342200.0        NEAR BAY   \n",
       "\n",
       "   rooms_per_household  bedrooms_per_room  population_per_household  \n",
       "0             6.984127           0.146591                  2.555556  \n",
       "1             6.238137           0.155797                  2.109842  \n",
       "2             8.288136           0.129516                  2.802260  \n",
       "3             5.817352           0.184458                  2.547945  \n",
       "4             6.281853           0.172096                  2.181467  "
      ]
     },
     "execution_count": 16,
     "metadata": {},
     "output_type": "execute_result"
    }
   ],
   "source": [
    "housing_df.head()"
   ]
  },
  {
   "cell_type": "markdown",
   "id": "68ddd640-ffbc-4435-8ab5-dde163a1fd7f",
   "metadata": {},
   "source": [
    "#### Question 1\n",
    "What is the most frequent observation (mode) for the column ocean_proximity?\n",
    "        \n",
    "    <1H OCEAN"
   ]
  },
  {
   "cell_type": "code",
   "execution_count": 18,
   "id": "56798f2b-02e3-4cb8-808a-c29a06611795",
   "metadata": {},
   "outputs": [
    {
     "data": {
      "text/plain": [
       "<1H OCEAN     9136\n",
       "INLAND        6551\n",
       "NEAR OCEAN    2658\n",
       "NEAR BAY      2290\n",
       "ISLAND           5\n",
       "Name: ocean_proximity, dtype: int64"
      ]
     },
     "execution_count": 18,
     "metadata": {},
     "output_type": "execute_result"
    }
   ],
   "source": [
    "housing_df['ocean_proximity'].value_counts()"
   ]
  },
  {
   "cell_type": "markdown",
   "id": "33f26e00-7659-4d64-8313-678761c10cee",
   "metadata": {},
   "source": [
    "## Spliting the data"
   ]
  },
  {
   "cell_type": "code",
   "execution_count": 19,
   "id": "ecf13d74-945b-45a0-90f8-c7753b3d835d",
   "metadata": {},
   "outputs": [],
   "source": [
    "from sklearn.model_selection import train_test_split"
   ]
  },
  {
   "cell_type": "code",
   "execution_count": 23,
   "id": "9ceaf421-0bf8-433e-9a31-489dea6c6fb6",
   "metadata": {},
   "outputs": [],
   "source": [
    "full_train_df, test_df = train_test_split(housing_df, test_size=0.2, random_state=42)"
   ]
  },
  {
   "cell_type": "code",
   "execution_count": 24,
   "id": "0594751a-4e34-4c26-a3f2-1b2c423328c9",
   "metadata": {},
   "outputs": [
    {
     "data": {
      "text/plain": [
       "((16512, 13), (4128, 13))"
      ]
     },
     "execution_count": 24,
     "metadata": {},
     "output_type": "execute_result"
    }
   ],
   "source": [
    "full_train_df.shape, test_df.shape"
   ]
  },
  {
   "cell_type": "code",
   "execution_count": 22,
   "id": "3bf96a71-1030-4b43-92ba-99e03f17f1b7",
   "metadata": {},
   "outputs": [
    {
     "data": {
      "text/plain": [
       "0.25"
      ]
     },
     "execution_count": 22,
     "metadata": {},
     "output_type": "execute_result"
    }
   ],
   "source": [
    "20 / 80"
   ]
  },
  {
   "cell_type": "code",
   "execution_count": 25,
   "id": "4b1fe0c8-4743-4214-b463-83e0628942e6",
   "metadata": {},
   "outputs": [],
   "source": [
    "train_df, val_df = train_test_split(full_train_df, test_size=0.25, random_state=42)"
   ]
  },
  {
   "cell_type": "code",
   "execution_count": 26,
   "id": "cc386f8e-931c-4acb-adec-28c9646dbd82",
   "metadata": {},
   "outputs": [
    {
     "data": {
      "text/plain": [
       "((12384, 13), (4128, 13))"
      ]
     },
     "execution_count": 26,
     "metadata": {},
     "output_type": "execute_result"
    }
   ],
   "source": [
    "train_df.shape, val_df.shape"
   ]
  },
  {
   "cell_type": "code",
   "execution_count": 29,
   "id": "a439e677-0a65-4bb9-b548-6b32eb44234f",
   "metadata": {},
   "outputs": [],
   "source": [
    "train_df = train_df.reset_index(drop=True)\n",
    "val_df = val_df.reset_index(drop=True)\n",
    "test_df = test_df.reset_index(drop=True)"
   ]
  },
  {
   "cell_type": "code",
   "execution_count": 30,
   "id": "7a846312-aa2d-4a9e-b849-2c48744eba5b",
   "metadata": {},
   "outputs": [],
   "source": [
    "# target variable: median_house_value\n",
    "y_train = train_df.median_house_value.values\n",
    "y_val = val_df.median_house_value.values\n",
    "y_test = test_df.median_house_value.values\n",
    "\n",
    "del train_df['median_house_value']\n",
    "del val_df['median_house_value']\n",
    "del test_df['median_house_value']"
   ]
  },
  {
   "cell_type": "code",
   "execution_count": 31,
   "id": "5ad56ffc-656d-4227-8964-9f3a9d9517bc",
   "metadata": {},
   "outputs": [
    {
     "data": {
      "text/plain": [
       "Index(['latitude', 'longitude', 'housing_median_age', 'total_rooms',\n",
       "       'total_bedrooms', 'population', 'households', 'median_income',\n",
       "       'ocean_proximity', 'rooms_per_household', 'bedrooms_per_room',\n",
       "       'population_per_household'],\n",
       "      dtype='object')"
      ]
     },
     "execution_count": 31,
     "metadata": {},
     "output_type": "execute_result"
    }
   ],
   "source": [
    "train_df.columns"
   ]
  },
  {
   "cell_type": "code",
   "execution_count": 32,
   "id": "85288ccd-62e5-4734-9cab-52f4fa4ae038",
   "metadata": {},
   "outputs": [],
   "source": [
    "# saving the y varable for the full train dataset\n",
    "y_full_train = full_train_df.median_house_value.values"
   ]
  },
  {
   "cell_type": "code",
   "execution_count": 33,
   "id": "aca19e7d-6e57-4c5f-ae67-801cc8b361cf",
   "metadata": {},
   "outputs": [],
   "source": [
    "X_full_train_df = full_train_df.copy()\n",
    "del X_full_train_df['median_house_value']"
   ]
  },
  {
   "cell_type": "code",
   "execution_count": 39,
   "id": "8577c15b-31ce-4f3d-bcc2-252f668ab5af",
   "metadata": {},
   "outputs": [
    {
     "data": {
      "text/plain": [
       "['latitude',\n",
       " 'longitude',\n",
       " 'housing_median_age',\n",
       " 'total_rooms',\n",
       " 'total_bedrooms',\n",
       " 'population',\n",
       " 'households',\n",
       " 'median_income',\n",
       " 'rooms_per_household',\n",
       " 'bedrooms_per_room',\n",
       " 'population_per_household']"
      ]
     },
     "execution_count": 39,
     "metadata": {},
     "output_type": "execute_result"
    }
   ],
   "source": [
    "numerical = list(train_df.dtypes[train_df.dtypes != 'object'].index)\n",
    "numerical"
   ]
  },
  {
   "cell_type": "code",
   "execution_count": 44,
   "id": "527a71d0-03e7-47f0-9b02-940450bed4a5",
   "metadata": {},
   "outputs": [
    {
     "data": {
      "text/html": [
       "<div>\n",
       "<style scoped>\n",
       "    .dataframe tbody tr th:only-of-type {\n",
       "        vertical-align: middle;\n",
       "    }\n",
       "\n",
       "    .dataframe tbody tr th {\n",
       "        vertical-align: top;\n",
       "    }\n",
       "\n",
       "    .dataframe thead th {\n",
       "        text-align: right;\n",
       "    }\n",
       "</style>\n",
       "<table border=\"1\" class=\"dataframe\">\n",
       "  <thead>\n",
       "    <tr style=\"text-align: right;\">\n",
       "      <th></th>\n",
       "      <th>latitude</th>\n",
       "      <th>longitude</th>\n",
       "      <th>housing_median_age</th>\n",
       "      <th>total_rooms</th>\n",
       "      <th>total_bedrooms</th>\n",
       "      <th>population</th>\n",
       "      <th>households</th>\n",
       "      <th>median_income</th>\n",
       "      <th>rooms_per_household</th>\n",
       "      <th>bedrooms_per_room</th>\n",
       "      <th>population_per_household</th>\n",
       "    </tr>\n",
       "  </thead>\n",
       "  <tbody>\n",
       "    <tr>\n",
       "      <th>latitude</th>\n",
       "      <td>1.000000</td>\n",
       "      <td>-0.925005</td>\n",
       "      <td>0.002477</td>\n",
       "      <td>-0.025914</td>\n",
       "      <td>-0.059730</td>\n",
       "      <td>-0.100272</td>\n",
       "      <td>-0.063529</td>\n",
       "      <td>-0.076805</td>\n",
       "      <td>0.119118</td>\n",
       "      <td>-0.124507</td>\n",
       "      <td>-0.002301</td>\n",
       "    </tr>\n",
       "    <tr>\n",
       "      <th>longitude</th>\n",
       "      <td>-0.925005</td>\n",
       "      <td>1.000000</td>\n",
       "      <td>-0.099812</td>\n",
       "      <td>0.036449</td>\n",
       "      <td>0.063840</td>\n",
       "      <td>0.091670</td>\n",
       "      <td>0.049762</td>\n",
       "      <td>-0.016426</td>\n",
       "      <td>-0.034814</td>\n",
       "      <td>0.102320</td>\n",
       "      <td>0.011022</td>\n",
       "    </tr>\n",
       "    <tr>\n",
       "      <th>housing_median_age</th>\n",
       "      <td>0.002477</td>\n",
       "      <td>-0.099812</td>\n",
       "      <td>1.000000</td>\n",
       "      <td>-0.363522</td>\n",
       "      <td>-0.324156</td>\n",
       "      <td>-0.292476</td>\n",
       "      <td>-0.306119</td>\n",
       "      <td>-0.119591</td>\n",
       "      <td>-0.181275</td>\n",
       "      <td>0.129456</td>\n",
       "      <td>0.012167</td>\n",
       "    </tr>\n",
       "    <tr>\n",
       "      <th>total_rooms</th>\n",
       "      <td>-0.025914</td>\n",
       "      <td>0.036449</td>\n",
       "      <td>-0.363522</td>\n",
       "      <td>1.000000</td>\n",
       "      <td>0.931546</td>\n",
       "      <td>0.853219</td>\n",
       "      <td>0.921441</td>\n",
       "      <td>0.198951</td>\n",
       "      <td>0.168926</td>\n",
       "      <td>-0.194185</td>\n",
       "      <td>-0.029452</td>\n",
       "    </tr>\n",
       "    <tr>\n",
       "      <th>total_bedrooms</th>\n",
       "      <td>-0.059730</td>\n",
       "      <td>0.063840</td>\n",
       "      <td>-0.324156</td>\n",
       "      <td>0.931546</td>\n",
       "      <td>1.000000</td>\n",
       "      <td>0.877340</td>\n",
       "      <td>0.979399</td>\n",
       "      <td>-0.009833</td>\n",
       "      <td>0.010381</td>\n",
       "      <td>0.078094</td>\n",
       "      <td>-0.034301</td>\n",
       "    </tr>\n",
       "    <tr>\n",
       "      <th>population</th>\n",
       "      <td>-0.100272</td>\n",
       "      <td>0.091670</td>\n",
       "      <td>-0.292476</td>\n",
       "      <td>0.853219</td>\n",
       "      <td>0.877340</td>\n",
       "      <td>1.000000</td>\n",
       "      <td>0.906841</td>\n",
       "      <td>-0.000849</td>\n",
       "      <td>-0.076210</td>\n",
       "      <td>0.031592</td>\n",
       "      <td>0.064998</td>\n",
       "    </tr>\n",
       "    <tr>\n",
       "      <th>households</th>\n",
       "      <td>-0.063529</td>\n",
       "      <td>0.049762</td>\n",
       "      <td>-0.306119</td>\n",
       "      <td>0.921441</td>\n",
       "      <td>0.979399</td>\n",
       "      <td>0.906841</td>\n",
       "      <td>1.000000</td>\n",
       "      <td>0.011925</td>\n",
       "      <td>-0.085832</td>\n",
       "      <td>0.058004</td>\n",
       "      <td>-0.032522</td>\n",
       "    </tr>\n",
       "    <tr>\n",
       "      <th>median_income</th>\n",
       "      <td>-0.076805</td>\n",
       "      <td>-0.016426</td>\n",
       "      <td>-0.119591</td>\n",
       "      <td>0.198951</td>\n",
       "      <td>-0.009833</td>\n",
       "      <td>-0.000849</td>\n",
       "      <td>0.011925</td>\n",
       "      <td>1.000000</td>\n",
       "      <td>0.394154</td>\n",
       "      <td>-0.616617</td>\n",
       "      <td>-0.000454</td>\n",
       "    </tr>\n",
       "    <tr>\n",
       "      <th>rooms_per_household</th>\n",
       "      <td>0.119118</td>\n",
       "      <td>-0.034814</td>\n",
       "      <td>-0.181275</td>\n",
       "      <td>0.168926</td>\n",
       "      <td>0.010381</td>\n",
       "      <td>-0.076210</td>\n",
       "      <td>-0.085832</td>\n",
       "      <td>0.394154</td>\n",
       "      <td>1.000000</td>\n",
       "      <td>-0.500589</td>\n",
       "      <td>0.001801</td>\n",
       "    </tr>\n",
       "    <tr>\n",
       "      <th>bedrooms_per_room</th>\n",
       "      <td>-0.124507</td>\n",
       "      <td>0.102320</td>\n",
       "      <td>0.129456</td>\n",
       "      <td>-0.194185</td>\n",
       "      <td>0.078094</td>\n",
       "      <td>0.031592</td>\n",
       "      <td>0.058004</td>\n",
       "      <td>-0.616617</td>\n",
       "      <td>-0.500589</td>\n",
       "      <td>1.000000</td>\n",
       "      <td>-0.002851</td>\n",
       "    </tr>\n",
       "    <tr>\n",
       "      <th>population_per_household</th>\n",
       "      <td>-0.002301</td>\n",
       "      <td>0.011022</td>\n",
       "      <td>0.012167</td>\n",
       "      <td>-0.029452</td>\n",
       "      <td>-0.034301</td>\n",
       "      <td>0.064998</td>\n",
       "      <td>-0.032522</td>\n",
       "      <td>-0.000454</td>\n",
       "      <td>0.001801</td>\n",
       "      <td>-0.002851</td>\n",
       "      <td>1.000000</td>\n",
       "    </tr>\n",
       "  </tbody>\n",
       "</table>\n",
       "</div>"
      ],
      "text/plain": [
       "                          latitude  longitude  housing_median_age  \\\n",
       "latitude                  1.000000  -0.925005            0.002477   \n",
       "longitude                -0.925005   1.000000           -0.099812   \n",
       "housing_median_age        0.002477  -0.099812            1.000000   \n",
       "total_rooms              -0.025914   0.036449           -0.363522   \n",
       "total_bedrooms           -0.059730   0.063840           -0.324156   \n",
       "population               -0.100272   0.091670           -0.292476   \n",
       "households               -0.063529   0.049762           -0.306119   \n",
       "median_income            -0.076805  -0.016426           -0.119591   \n",
       "rooms_per_household       0.119118  -0.034814           -0.181275   \n",
       "bedrooms_per_room        -0.124507   0.102320            0.129456   \n",
       "population_per_household -0.002301   0.011022            0.012167   \n",
       "\n",
       "                          total_rooms  total_bedrooms  population  households  \\\n",
       "latitude                    -0.025914       -0.059730   -0.100272   -0.063529   \n",
       "longitude                    0.036449        0.063840    0.091670    0.049762   \n",
       "housing_median_age          -0.363522       -0.324156   -0.292476   -0.306119   \n",
       "total_rooms                  1.000000        0.931546    0.853219    0.921441   \n",
       "total_bedrooms               0.931546        1.000000    0.877340    0.979399   \n",
       "population                   0.853219        0.877340    1.000000    0.906841   \n",
       "households                   0.921441        0.979399    0.906841    1.000000   \n",
       "median_income                0.198951       -0.009833   -0.000849    0.011925   \n",
       "rooms_per_household          0.168926        0.010381   -0.076210   -0.085832   \n",
       "bedrooms_per_room           -0.194185        0.078094    0.031592    0.058004   \n",
       "population_per_household    -0.029452       -0.034301    0.064998   -0.032522   \n",
       "\n",
       "                          median_income  rooms_per_household  \\\n",
       "latitude                      -0.076805             0.119118   \n",
       "longitude                     -0.016426            -0.034814   \n",
       "housing_median_age            -0.119591            -0.181275   \n",
       "total_rooms                    0.198951             0.168926   \n",
       "total_bedrooms                -0.009833             0.010381   \n",
       "population                    -0.000849            -0.076210   \n",
       "households                     0.011925            -0.085832   \n",
       "median_income                  1.000000             0.394154   \n",
       "rooms_per_household            0.394154             1.000000   \n",
       "bedrooms_per_room             -0.616617            -0.500589   \n",
       "population_per_household      -0.000454             0.001801   \n",
       "\n",
       "                          bedrooms_per_room  population_per_household  \n",
       "latitude                          -0.124507                 -0.002301  \n",
       "longitude                          0.102320                  0.011022  \n",
       "housing_median_age                 0.129456                  0.012167  \n",
       "total_rooms                       -0.194185                 -0.029452  \n",
       "total_bedrooms                     0.078094                 -0.034301  \n",
       "population                         0.031592                  0.064998  \n",
       "households                         0.058004                 -0.032522  \n",
       "median_income                     -0.616617                 -0.000454  \n",
       "rooms_per_household               -0.500589                  0.001801  \n",
       "bedrooms_per_room                  1.000000                 -0.002851  \n",
       "population_per_household          -0.002851                  1.000000  "
      ]
     },
     "execution_count": 44,
     "metadata": {},
     "output_type": "execute_result"
    }
   ],
   "source": [
    "# pearson correlation\n",
    "corr_mat = train_df[numerical].corr()\n",
    "corr_mat"
   ]
  },
  {
   "cell_type": "markdown",
   "id": "0455972c-a47a-41ad-baa7-69449811fc36",
   "metadata": {},
   "source": [
    "#### Question 2\n",
    "\n",
    "What are the two features that have the biggest correlation in this dataset?\n",
    "\n",
    "    total_bedrooms       households           0.979399"
   ]
  },
  {
   "cell_type": "code",
   "execution_count": 51,
   "id": "06753e22-4f31-4173-985d-66d5d7ddac99",
   "metadata": {},
   "outputs": [
    {
     "data": {
      "text/plain": [
       "total_bedrooms       households           0.979399\n",
       "households           total_bedrooms       0.979399\n",
       "total_bedrooms       total_rooms          0.931546\n",
       "total_rooms          total_bedrooms       0.931546\n",
       "households           total_rooms          0.921441\n",
       "                                            ...   \n",
       "rooms_per_household  bedrooms_per_room   -0.500589\n",
       "median_income        bedrooms_per_room   -0.616617\n",
       "bedrooms_per_room    median_income       -0.616617\n",
       "longitude            latitude            -0.925005\n",
       "latitude             longitude           -0.925005\n",
       "Length: 110, dtype: float64"
      ]
     },
     "execution_count": 51,
     "metadata": {},
     "output_type": "execute_result"
    }
   ],
   "source": [
    "# solution from https://www.geeksforgeeks.org/sort-correlation-matrix-in-python/\n",
    "\n",
    "# Convert correlation matrix to 1-D Series and sort\n",
    "sorted_mat = corr_mat.unstack().sort_values(ascending=False)\n",
    "sorted_mat[sorted_mat.values != 1.0]"
   ]
  },
  {
   "cell_type": "markdown",
   "id": "ce3ef544-e7c0-4077-95f7-bba910525c1b",
   "metadata": {},
   "source": [
    "## Make median_house_value binary"
   ]
  },
  {
   "cell_type": "code",
   "execution_count": 89,
   "id": "958fdb5d-b4d5-422e-b522-d838e66760fc",
   "metadata": {},
   "outputs": [
    {
     "data": {
      "text/plain": [
       "207194.6937378876"
      ]
     },
     "execution_count": 89,
     "metadata": {},
     "output_type": "execute_result"
    }
   ],
   "source": [
    "train_mean = y_full_train.mean()\n",
    "train_mean"
   ]
  },
  {
   "cell_type": "code",
   "execution_count": 97,
   "id": "20064508-f51d-496d-814b-3506b1993a1d",
   "metadata": {},
   "outputs": [
    {
     "data": {
      "text/plain": [
       "array([ True,  True, False, ...,  True, False, False])"
      ]
     },
     "execution_count": 97,
     "metadata": {},
     "output_type": "execute_result"
    }
   ],
   "source": [
    "y_train >= train_mean"
   ]
  },
  {
   "cell_type": "code",
   "execution_count": 98,
   "id": "bcb1cfaa-d52a-4f59-81d6-85fd3cc44255",
   "metadata": {},
   "outputs": [
    {
     "data": {
      "text/plain": [
       "array([1, 1, 0, ..., 1, 0, 0])"
      ]
     },
     "execution_count": 98,
     "metadata": {},
     "output_type": "execute_result"
    }
   ],
   "source": [
    "above_average = (y_train >= train_mean).astype('int')\n",
    "above_average"
   ]
  },
  {
   "cell_type": "markdown",
   "id": "386f3595-8bc8-4fbc-bfe1-95a243a05cda",
   "metadata": {},
   "source": [
    "#### Question 3\n",
    "What is the value of mutual information?\n",
    "    \n",
    "    0.1"
   ]
  },
  {
   "cell_type": "code",
   "execution_count": 92,
   "id": "61324161-8b4b-4219-9dac-7b276ef7e2df",
   "metadata": {},
   "outputs": [],
   "source": [
    "from sklearn.metrics import mutual_info_score"
   ]
  },
  {
   "cell_type": "code",
   "execution_count": 99,
   "id": "27ddba87-b75c-434c-9437-a9923b74c325",
   "metadata": {},
   "outputs": [
    {
     "data": {
      "text/plain": [
       "ocean_proximity    object\n",
       "dtype: object"
      ]
     },
     "execution_count": 99,
     "metadata": {},
     "output_type": "execute_result"
    }
   ],
   "source": [
    "train_df.dtypes[train_df.dtypes == 'object']"
   ]
  },
  {
   "cell_type": "code",
   "execution_count": 100,
   "id": "36644289-1c48-47c2-940b-b9e74b81617d",
   "metadata": {},
   "outputs": [
    {
     "data": {
      "text/plain": [
       "array(['<1H OCEAN', 'NEAR OCEAN', 'INLAND', '<1H OCEAN', 'NEAR OCEAN'],\n",
       "      dtype=object)"
      ]
     },
     "execution_count": 100,
     "metadata": {},
     "output_type": "execute_result"
    }
   ],
   "source": [
    "train_df.ocean_proximity.values[:5]"
   ]
  },
  {
   "cell_type": "code",
   "execution_count": 101,
   "id": "ff9e2de7-e99b-4373-a268-d4e7ab3e0595",
   "metadata": {},
   "outputs": [
    {
     "data": {
      "text/plain": [
       "0.1"
      ]
     },
     "execution_count": 101,
     "metadata": {},
     "output_type": "execute_result"
    }
   ],
   "source": [
    "mi_score = mutual_info_score(train_df.ocean_proximity.values, above_average)\n",
    "round(mi_score, 2)"
   ]
  },
  {
   "cell_type": "markdown",
   "id": "c272b266-6686-45fc-bc1c-7f4b3da1d652",
   "metadata": {},
   "source": [
    "## Training Losgistic Regression"
   ]
  },
  {
   "cell_type": "markdown",
   "id": "9f822dc2-dd35-4928-9bee-ec3745ca644c",
   "metadata": {},
   "source": [
    "### One-Hot Encoding the feature ocean_proximity"
   ]
  },
  {
   "cell_type": "code",
   "execution_count": 72,
   "id": "66e68133-fa14-45ce-a28b-24731562017b",
   "metadata": {},
   "outputs": [],
   "source": [
    "from sklearn.feature_extraction import DictVectorizer"
   ]
  },
  {
   "cell_type": "code",
   "execution_count": 80,
   "id": "58fce53f-e9cb-455c-b28a-07847563f487",
   "metadata": {},
   "outputs": [],
   "source": [
    "train_dicts = train_df[numerical + ['ocean_proximity']].to_dict(orient='records')"
   ]
  },
  {
   "cell_type": "code",
   "execution_count": 81,
   "id": "41385fb2-de9e-453a-8058-8ac9e48e33f5",
   "metadata": {},
   "outputs": [
    {
     "data": {
      "text/plain": [
       "[{'latitude': 34.43,\n",
       "  'longitude': -119.67,\n",
       "  'housing_median_age': 39.0,\n",
       "  'total_rooms': 1467.0,\n",
       "  'total_bedrooms': 381.0,\n",
       "  'population': 1404.0,\n",
       "  'households': 374.0,\n",
       "  'median_income': 2.3681,\n",
       "  'rooms_per_household': 3.9224598930481283,\n",
       "  'bedrooms_per_room': 0.25971370143149286,\n",
       "  'population_per_household': 3.7540106951871657,\n",
       "  'ocean_proximity': '<1H OCEAN'},\n",
       " {'latitude': 33.74,\n",
       "  'longitude': -118.32,\n",
       "  'housing_median_age': 24.0,\n",
       "  'total_rooms': 6097.0,\n",
       "  'total_bedrooms': 794.0,\n",
       "  'population': 2248.0,\n",
       "  'households': 806.0,\n",
       "  'median_income': 10.1357,\n",
       "  'rooms_per_household': 7.564516129032258,\n",
       "  'bedrooms_per_room': 0.13022798097424962,\n",
       "  'population_per_household': 2.7890818858560795,\n",
       "  'ocean_proximity': 'NEAR OCEAN'}]"
      ]
     },
     "execution_count": 81,
     "metadata": {},
     "output_type": "execute_result"
    }
   ],
   "source": [
    "train_dicts[:2]"
   ]
  },
  {
   "cell_type": "code",
   "execution_count": 86,
   "id": "6915aef5-0306-4e1b-8369-2e376846c354",
   "metadata": {},
   "outputs": [],
   "source": [
    "val_dicts = val_df[numerical + ['ocean_proximity']].to_dict(orient='records')"
   ]
  },
  {
   "cell_type": "code",
   "execution_count": 82,
   "id": "0648bdea-1732-453c-a215-9385b17c6fa7",
   "metadata": {},
   "outputs": [],
   "source": [
    "dv = DictVectorizer(sparse=False)\n",
    "X_train = dv.fit_transform(train_dicts)"
   ]
  },
  {
   "cell_type": "code",
   "execution_count": 84,
   "id": "93dac094-c0a3-4046-91b1-2b1e8a40059d",
   "metadata": {},
   "outputs": [
    {
     "data": {
      "text/plain": [
       "array([ 2.59713701e-01,  3.74000000e+02,  3.90000000e+01,  3.44300000e+01,\n",
       "       -1.19670000e+02,  2.36810000e+00,  1.00000000e+00,  0.00000000e+00,\n",
       "        0.00000000e+00,  0.00000000e+00,  0.00000000e+00,  1.40400000e+03,\n",
       "        3.75401070e+00,  3.92245989e+00,  3.81000000e+02,  1.46700000e+03])"
      ]
     },
     "execution_count": 84,
     "metadata": {},
     "output_type": "execute_result"
    }
   ],
   "source": [
    "X_train[0]"
   ]
  },
  {
   "cell_type": "code",
   "execution_count": 87,
   "id": "ad5b603b-a8f4-41b8-864a-b03bcaaf631c",
   "metadata": {},
   "outputs": [],
   "source": [
    "X_val = dv.transform(val_dicts)"
   ]
  },
  {
   "cell_type": "code",
   "execution_count": 85,
   "id": "8c2b012a-74bf-413d-aad3-3a42b738494e",
   "metadata": {},
   "outputs": [],
   "source": [
    "from sklearn.linear_model import LogisticRegression"
   ]
  },
  {
   "cell_type": "code",
   "execution_count": 88,
   "id": "bf201f18-9a1f-41a9-9772-c9cf83ba11c2",
   "metadata": {},
   "outputs": [
    {
     "data": {
      "text/html": [
       "<style>#sk-container-id-1 {color: black;background-color: white;}#sk-container-id-1 pre{padding: 0;}#sk-container-id-1 div.sk-toggleable {background-color: white;}#sk-container-id-1 label.sk-toggleable__label {cursor: pointer;display: block;width: 100%;margin-bottom: 0;padding: 0.3em;box-sizing: border-box;text-align: center;}#sk-container-id-1 label.sk-toggleable__label-arrow:before {content: \"▸\";float: left;margin-right: 0.25em;color: #696969;}#sk-container-id-1 label.sk-toggleable__label-arrow:hover:before {color: black;}#sk-container-id-1 div.sk-estimator:hover label.sk-toggleable__label-arrow:before {color: black;}#sk-container-id-1 div.sk-toggleable__content {max-height: 0;max-width: 0;overflow: hidden;text-align: left;background-color: #f0f8ff;}#sk-container-id-1 div.sk-toggleable__content pre {margin: 0.2em;color: black;border-radius: 0.25em;background-color: #f0f8ff;}#sk-container-id-1 input.sk-toggleable__control:checked~div.sk-toggleable__content {max-height: 200px;max-width: 100%;overflow: auto;}#sk-container-id-1 input.sk-toggleable__control:checked~label.sk-toggleable__label-arrow:before {content: \"▾\";}#sk-container-id-1 div.sk-estimator input.sk-toggleable__control:checked~label.sk-toggleable__label {background-color: #d4ebff;}#sk-container-id-1 div.sk-label input.sk-toggleable__control:checked~label.sk-toggleable__label {background-color: #d4ebff;}#sk-container-id-1 input.sk-hidden--visually {border: 0;clip: rect(1px 1px 1px 1px);clip: rect(1px, 1px, 1px, 1px);height: 1px;margin: -1px;overflow: hidden;padding: 0;position: absolute;width: 1px;}#sk-container-id-1 div.sk-estimator {font-family: monospace;background-color: #f0f8ff;border: 1px dotted black;border-radius: 0.25em;box-sizing: border-box;margin-bottom: 0.5em;}#sk-container-id-1 div.sk-estimator:hover {background-color: #d4ebff;}#sk-container-id-1 div.sk-parallel-item::after {content: \"\";width: 100%;border-bottom: 1px solid gray;flex-grow: 1;}#sk-container-id-1 div.sk-label:hover label.sk-toggleable__label {background-color: #d4ebff;}#sk-container-id-1 div.sk-serial::before {content: \"\";position: absolute;border-left: 1px solid gray;box-sizing: border-box;top: 0;bottom: 0;left: 50%;z-index: 0;}#sk-container-id-1 div.sk-serial {display: flex;flex-direction: column;align-items: center;background-color: white;padding-right: 0.2em;padding-left: 0.2em;position: relative;}#sk-container-id-1 div.sk-item {position: relative;z-index: 1;}#sk-container-id-1 div.sk-parallel {display: flex;align-items: stretch;justify-content: center;background-color: white;position: relative;}#sk-container-id-1 div.sk-item::before, #sk-container-id-1 div.sk-parallel-item::before {content: \"\";position: absolute;border-left: 1px solid gray;box-sizing: border-box;top: 0;bottom: 0;left: 50%;z-index: -1;}#sk-container-id-1 div.sk-parallel-item {display: flex;flex-direction: column;z-index: 1;position: relative;background-color: white;}#sk-container-id-1 div.sk-parallel-item:first-child::after {align-self: flex-end;width: 50%;}#sk-container-id-1 div.sk-parallel-item:last-child::after {align-self: flex-start;width: 50%;}#sk-container-id-1 div.sk-parallel-item:only-child::after {width: 0;}#sk-container-id-1 div.sk-dashed-wrapped {border: 1px dashed gray;margin: 0 0.4em 0.5em 0.4em;box-sizing: border-box;padding-bottom: 0.4em;background-color: white;}#sk-container-id-1 div.sk-label label {font-family: monospace;font-weight: bold;display: inline-block;line-height: 1.2em;}#sk-container-id-1 div.sk-label-container {text-align: center;}#sk-container-id-1 div.sk-container {/* jupyter's `normalize.less` sets `[hidden] { display: none; }` but bootstrap.min.css set `[hidden] { display: none !important; }` so we also need the `!important` here to be able to override the default hidden behavior on the sphinx rendered scikit-learn.org. See: https://github.com/scikit-learn/scikit-learn/issues/21755 */display: inline-block !important;position: relative;}#sk-container-id-1 div.sk-text-repr-fallback {display: none;}</style><div id=\"sk-container-id-1\" class=\"sk-top-container\"><div class=\"sk-text-repr-fallback\"><pre>LogisticRegression(max_iter=1000, random_state=42, solver=&#x27;liblinear&#x27;)</pre><b>In a Jupyter environment, please rerun this cell to show the HTML representation or trust the notebook. <br />On GitHub, the HTML representation is unable to render, please try loading this page with nbviewer.org.</b></div><div class=\"sk-container\" hidden><div class=\"sk-item\"><div class=\"sk-estimator sk-toggleable\"><input class=\"sk-toggleable__control sk-hidden--visually\" id=\"sk-estimator-id-1\" type=\"checkbox\" checked><label for=\"sk-estimator-id-1\" class=\"sk-toggleable__label sk-toggleable__label-arrow\">LogisticRegression</label><div class=\"sk-toggleable__content\"><pre>LogisticRegression(max_iter=1000, random_state=42, solver=&#x27;liblinear&#x27;)</pre></div></div></div></div></div>"
      ],
      "text/plain": [
       "LogisticRegression(max_iter=1000, random_state=42, solver='liblinear')"
      ]
     },
     "execution_count": 88,
     "metadata": {},
     "output_type": "execute_result"
    }
   ],
   "source": [
    "model = LogisticRegression(solver=\"liblinear\", C=1.0, max_iter=1000, random_state=42)\n",
    "model.fit(X_train, above_average)"
   ]
  },
  {
   "cell_type": "code",
   "execution_count": 110,
   "id": "b934221f-31d6-4571-ab27-011048b9bbd8",
   "metadata": {},
   "outputs": [],
   "source": [
    "val_above_average = (y_val >= train_mean).astype('int')"
   ]
  },
  {
   "cell_type": "code",
   "execution_count": 111,
   "id": "737f95fe-2974-4d3f-9b51-81e71b6de964",
   "metadata": {},
   "outputs": [
    {
     "data": {
      "text/plain": [
       "array([0, 0, 1, ..., 1, 1, 0])"
      ]
     },
     "execution_count": 111,
     "metadata": {},
     "output_type": "execute_result"
    }
   ],
   "source": [
    "val_above_average"
   ]
  },
  {
   "cell_type": "markdown",
   "id": "d6936be5-cb21-4e65-83d7-0908f5dbb66e",
   "metadata": {},
   "source": [
    "#### Question 4\n",
    "Accuracy on the validation dataset\n",
    "\n",
    "    0.84"
   ]
  },
  {
   "cell_type": "code",
   "execution_count": 104,
   "id": "0ede0e2c-c154-4bc5-8795-d03b86af5dc7",
   "metadata": {},
   "outputs": [],
   "source": [
    "from sklearn.metrics import accuracy_score"
   ]
  },
  {
   "cell_type": "code",
   "execution_count": 106,
   "id": "795d5e4d-130e-4865-914a-fe5163ebeab9",
   "metadata": {},
   "outputs": [
    {
     "data": {
      "text/plain": [
       "array([0.07847128, 0.16795741, 0.95304104, ..., 0.96103024, 0.85404741,\n",
       "       0.46588232])"
      ]
     },
     "execution_count": 106,
     "metadata": {},
     "output_type": "execute_result"
    }
   ],
   "source": [
    "# 0 | 1\n",
    "y_pred = model.predict_proba(X_val)[:, 1]\n",
    "y_pred"
   ]
  },
  {
   "cell_type": "code",
   "execution_count": 109,
   "id": "14688ed5-383d-466d-b20d-e57e4e855cb1",
   "metadata": {},
   "outputs": [
    {
     "data": {
      "text/plain": [
       "array([0, 0, 1, ..., 1, 1, 0])"
      ]
     },
     "execution_count": 109,
     "metadata": {},
     "output_type": "execute_result"
    }
   ],
   "source": [
    "price_decision = (y_pred >= 0.5).astype('int')\n",
    "price_decision"
   ]
  },
  {
   "cell_type": "code",
   "execution_count": 113,
   "id": "ec02ee77-fc17-4c9e-9d31-2a15027ec7b3",
   "metadata": {},
   "outputs": [
    {
     "data": {
      "text/plain": [
       "0.84"
      ]
     },
     "execution_count": 113,
     "metadata": {},
     "output_type": "execute_result"
    }
   ],
   "source": [
    "val_score = accuracy_score(val_above_average, price_decision)\n",
    "round(val_score, 2)"
   ]
  },
  {
   "cell_type": "markdown",
   "id": "4bdfdacc-5226-4f04-8ad8-e8813e20a4aa",
   "metadata": {},
   "source": [
    "## Finding the least useful feature using the feature elimination technique"
   ]
  },
  {
   "cell_type": "code",
   "execution_count": 115,
   "id": "7bbb50da-a287-41c8-9aeb-f403d53c1d4f",
   "metadata": {},
   "outputs": [],
   "source": [
    "dv = DictVectorizer(sparse=False)\n",
    "train_dicts = train_df[numerical + ['ocean_proximity']].to_dict(orient='records')\n",
    "X_train = dv.fit_transform(train_dicts)\n",
    "\n",
    "val_dicts = val_df[numerical + ['ocean_proximity']].to_dict(orient='records')\n",
    "X_val = dv.transform(val_dicts)"
   ]
  },
  {
   "cell_type": "code",
   "execution_count": 123,
   "id": "25f1c08c-c102-41fa-a26d-aebdb3a1a3d0",
   "metadata": {},
   "outputs": [
    {
     "data": {
      "text/plain": [
       "array(['bedrooms_per_room', 'households', 'housing_median_age',\n",
       "       'latitude', 'longitude', 'median_income',\n",
       "       'ocean_proximity=<1H OCEAN', 'ocean_proximity=INLAND',\n",
       "       'ocean_proximity=ISLAND', 'ocean_proximity=NEAR BAY',\n",
       "       'ocean_proximity=NEAR OCEAN', 'population',\n",
       "       'population_per_household', 'rooms_per_household',\n",
       "       'total_bedrooms', 'total_rooms'], dtype=object)"
      ]
     },
     "execution_count": 123,
     "metadata": {},
     "output_type": "execute_result"
    }
   ],
   "source": [
    "dv.get_feature_names_out()"
   ]
  },
  {
   "cell_type": "code",
   "execution_count": 119,
   "id": "1bf820d6-b66a-46b5-a15d-143a2a57d8b7",
   "metadata": {},
   "outputs": [
    {
     "data": {
      "text/plain": [
       "array([ 2.59713701e-01,  3.74000000e+02,  3.90000000e+01,  3.44300000e+01,\n",
       "       -1.19670000e+02,  2.36810000e+00,  1.00000000e+00,  0.00000000e+00,\n",
       "        0.00000000e+00,  0.00000000e+00,  0.00000000e+00,  1.40400000e+03,\n",
       "        3.75401070e+00,  3.92245989e+00,  3.81000000e+02,  1.46700000e+03])"
      ]
     },
     "execution_count": 119,
     "metadata": {},
     "output_type": "execute_result"
    }
   ],
   "source": [
    "X_train[0]"
   ]
  },
  {
   "cell_type": "code",
   "execution_count": 135,
   "id": "97d4987e-5e35-42e6-aa4a-2350af2edd4d",
   "metadata": {},
   "outputs": [
    {
     "name": "stdout",
     "output_type": "stream",
     "text": [
      "Validation accuracy score with all the features: 0.8357558139534884\n"
     ]
    }
   ],
   "source": [
    "model = LogisticRegression(solver=\"liblinear\", C=1.0, max_iter=1000, random_state=42)\n",
    "model.fit(X_train, above_average)\n",
    "\n",
    "val_score_base = accuracy_score(val_above_average, price_decision)\n",
    "print(f'Validation accuracy score with all the features: {val_score_base}')"
   ]
  },
  {
   "cell_type": "code",
   "execution_count": 141,
   "id": "a8479226-b9b7-4a24-be22-f6e133103234",
   "metadata": {},
   "outputs": [
    {
     "name": "stdout",
     "output_type": "stream",
     "text": [
      "['latitude', 'longitude', 'housing_median_age', 'total_rooms', 'total_bedrooms', 'population', 'households', 'median_income', 'ocean_proximity', 'rooms_per_household', 'bedrooms_per_room', 'population_per_household']\n",
      "\n",
      "12\n"
     ]
    }
   ],
   "source": [
    "features_lst = list(train_df.columns)\n",
    "num_features = len(features_lst)\n",
    "\n",
    "print(features_lst)\n",
    "print()\n",
    "print(num_features)"
   ]
  },
  {
   "cell_type": "markdown",
   "id": "c837f69f-49af-4592-9362-090c6e6b9b51",
   "metadata": {},
   "source": [
    "### Evaluating the model over the combination of some features"
   ]
  },
  {
   "cell_type": "code",
   "execution_count": 144,
   "id": "b16f871a-2841-469e-a43f-5c09faa45d44",
   "metadata": {},
   "outputs": [
    {
     "name": "stdout",
     "output_type": "stream",
     "text": [
      "['latitude', 'longitude', 'housing_median_age', 'total_rooms', 'total_bedrooms', 'population', 'households', 'median_income', 'ocean_proximity', 'rooms_per_household', 'bedrooms_per_room', 'population_per_household']\n",
      "\n",
      "Validation accuracy score with 12 features: 0.8359980620155039\n",
      "Validation DIFF accuracy score with 12 features: -0.0002422480620154488\n",
      "\n",
      "----------\n",
      "['latitude', 'longitude', 'housing_median_age', 'total_rooms', 'total_bedrooms', 'population', 'households', 'median_income', 'ocean_proximity', 'rooms_per_household', 'bedrooms_per_room']\n",
      "\n",
      "Validation accuracy score with 11 features: 0.8367248062015504\n",
      "Validation DIFF accuracy score with 11 features: -0.0009689922480620172\n",
      "\n",
      "----------\n",
      "['latitude', 'longitude', 'housing_median_age', 'total_rooms', 'total_bedrooms', 'population', 'households', 'median_income', 'ocean_proximity', 'rooms_per_household']\n",
      "\n",
      "Validation accuracy score with 10 features: 0.8355135658914729\n",
      "Validation DIFF accuracy score with 10 features: 0.00024224806201555982\n",
      "\n",
      "----------\n",
      "['latitude', 'longitude', 'housing_median_age', 'total_rooms', 'total_bedrooms', 'population', 'households', 'median_income', 'ocean_proximity']\n",
      "\n",
      "Validation accuracy score with 9 features: 0.8359980620155039\n",
      "Validation DIFF accuracy score with 9 features: -0.0002422480620154488\n",
      "\n",
      "----------\n",
      "['latitude', 'longitude', 'housing_median_age', 'total_rooms', 'total_bedrooms', 'population', 'households', 'median_income']\n",
      "\n",
      "Validation accuracy score with 8 features: 0.8187984496124031\n",
      "Validation DIFF accuracy score with 8 features: 0.0169573643410853\n",
      "\n",
      "----------\n",
      "['latitude', 'longitude', 'housing_median_age', 'total_rooms', 'total_bedrooms', 'population', 'households']\n",
      "\n",
      "Validation accuracy score with 7 features: 0.7398255813953488\n",
      "Validation DIFF accuracy score with 7 features: 0.0959302325581396\n",
      "\n",
      "----------\n",
      "['latitude', 'longitude', 'housing_median_age', 'total_rooms', 'total_bedrooms', 'population']\n",
      "\n",
      "Validation accuracy score with 6 features: 0.7143895348837209\n",
      "Validation DIFF accuracy score with 6 features: 0.12136627906976749\n",
      "\n",
      "----------\n",
      "['latitude', 'longitude', 'housing_median_age', 'total_rooms', 'total_bedrooms']\n",
      "\n",
      "Validation accuracy score with 5 features: 0.6770833333333334\n",
      "Validation DIFF accuracy score with 5 features: 0.15867248062015504\n",
      "\n",
      "----------\n",
      "['latitude', 'longitude', 'housing_median_age', 'total_rooms']\n",
      "\n",
      "Validation accuracy score with 4 features: 0.6150678294573644\n",
      "Validation DIFF accuracy score with 4 features: 0.22068798449612403\n",
      "\n",
      "----------\n",
      "['latitude', 'longitude', 'housing_median_age']\n",
      "\n",
      "Validation accuracy score with 3 features: 0.5906007751937985\n",
      "Validation DIFF accuracy score with 3 features: 0.2451550387596899\n",
      "\n",
      "----------\n",
      "['latitude', 'longitude']\n",
      "\n",
      "Validation accuracy score with 2 features: 0.5801841085271318\n",
      "Validation DIFF accuracy score with 2 features: 0.25557170542635665\n",
      "\n",
      "----------\n",
      "['latitude']\n",
      "\n",
      "Validation accuracy score with 1 features: 0.5920542635658915\n",
      "Validation DIFF accuracy score with 1 features: 0.2437015503875969\n",
      "\n",
      "----------\n"
     ]
    }
   ],
   "source": [
    "count = num_features\n",
    "\n",
    "val_score_dict = {}\n",
    "val_scores_diff_dict = {}\n",
    "\n",
    "while count >= 1:\n",
    "    features_used = features_lst[: count]\n",
    "    print(features_used)\n",
    "    print()\n",
    "    \n",
    "    dv = DictVectorizer(sparse=False)\n",
    "    train_dicts = train_df[features_used].to_dict(orient='records')\n",
    "    X_train = dv.fit_transform(train_dicts)\n",
    "\n",
    "    val_dicts = val_df[features_used].to_dict(orient='records')\n",
    "    X_val = dv.transform(val_dicts)\n",
    "    \n",
    "    model = LogisticRegression(solver=\"liblinear\", C=1.0, max_iter=1000, random_state=42)\n",
    "    model.fit(X_train, above_average)\n",
    "    \n",
    "    y_pred = model.predict_proba(X_val)[:, 1]\n",
    "    price_decision = (y_pred >= 0.5).astype('int')\n",
    "    \n",
    "    val_above_average = (y_val >= train_mean).astype('int')\n",
    "\n",
    "    val_score = accuracy_score(val_above_average, price_decision)\n",
    "    val_score_dict.update({count: (features_used, val_score)})\n",
    "    print(f'Validation accuracy score with {count} features: {val_score}')\n",
    "    \n",
    "    val_score_diff = val_score_base - val_score\n",
    "    val_scores_diff_dict.update({count: val_score_diff})\n",
    "    print(f'Validation DIFF accuracy score with {count} features: {val_score_diff}')\n",
    "    \n",
    "    print()\n",
    "    print('----------')\n",
    "    \n",
    "    count = count - 1"
   ]
  },
  {
   "cell_type": "code",
   "execution_count": 147,
   "id": "bbb77993-6579-479e-9f10-ec1cfc31c2d5",
   "metadata": {},
   "outputs": [
    {
     "name": "stdout",
     "output_type": "stream",
     "text": [
      "latitude\n",
      "\n",
      "Validation accuracy score: 0.5920542635658915\n",
      "Validation DIFF accuracy score: 0.2437015503875969\n",
      "\n",
      "----------\n",
      "longitude\n",
      "\n",
      "Validation accuracy score: 0.5920542635658915\n",
      "Validation DIFF accuracy score: 0.2437015503875969\n",
      "\n",
      "----------\n",
      "housing_median_age\n",
      "\n",
      "Validation accuracy score: 0.5920542635658915\n",
      "Validation DIFF accuracy score: 0.2437015503875969\n",
      "\n",
      "----------\n",
      "total_rooms\n",
      "\n",
      "Validation accuracy score: 0.592296511627907\n",
      "Validation DIFF accuracy score: 0.24345930232558144\n",
      "\n",
      "----------\n",
      "total_bedrooms\n",
      "\n",
      "Validation accuracy score: 0.5949612403100775\n",
      "Validation DIFF accuracy score: 0.24079457364341095\n",
      "\n",
      "----------\n",
      "population\n",
      "\n",
      "Validation accuracy score: 0.5920542635658915\n",
      "Validation DIFF accuracy score: 0.2437015503875969\n",
      "\n",
      "----------\n",
      "households\n",
      "\n",
      "Validation accuracy score: 0.596656976744186\n",
      "Validation DIFF accuracy score: 0.23909883720930236\n",
      "\n",
      "----------\n",
      "median_income\n",
      "\n",
      "Validation accuracy score: 0.7693798449612403\n",
      "Validation DIFF accuracy score: 0.06637596899224807\n",
      "\n",
      "----------\n",
      "ocean_proximity\n",
      "\n",
      "Validation accuracy score: 0.6574612403100775\n",
      "Validation DIFF accuracy score: 0.17829457364341095\n",
      "\n",
      "----------\n",
      "rooms_per_household\n",
      "\n",
      "Validation accuracy score: 0.6167635658914729\n",
      "Validation DIFF accuracy score: 0.21899224806201556\n",
      "\n",
      "----------\n",
      "bedrooms_per_room\n",
      "\n",
      "Validation accuracy score: 0.689437984496124\n",
      "Validation DIFF accuracy score: 0.14631782945736438\n",
      "\n",
      "----------\n",
      "population_per_household\n",
      "\n",
      "Validation accuracy score: 0.6061046511627907\n",
      "Validation DIFF accuracy score: 0.22965116279069775\n",
      "\n",
      "----------\n"
     ]
    }
   ],
   "source": [
    "val_score_dict = {}\n",
    "val_scores_diff_dict = {}\n",
    "\n",
    "for feature in features_lst:\n",
    "    print(feature)\n",
    "    print()\n",
    "    \n",
    "    dv = DictVectorizer(sparse=False)\n",
    "    train_dicts = train_df[[feature]].to_dict(orient='records')\n",
    "    X_train = dv.fit_transform(train_dicts)\n",
    "\n",
    "    val_dicts = val_df[[feature]].to_dict(orient='records')\n",
    "    X_val = dv.transform(val_dicts)\n",
    "    \n",
    "    model = LogisticRegression(solver=\"liblinear\", C=1.0, max_iter=1000, random_state=42)\n",
    "    model.fit(X_train, above_average)\n",
    "    \n",
    "    y_pred = model.predict_proba(X_val)[:, 1]\n",
    "    price_decision = (y_pred >= 0.5).astype('int')\n",
    "    \n",
    "    val_above_average = (y_val >= train_mean).astype('int')\n",
    "\n",
    "    val_score = accuracy_score(val_above_average, price_decision)\n",
    "    val_score_dict.update({feature: val_score})\n",
    "    print(f'Validation accuracy score: {val_score}')\n",
    "    \n",
    "    val_score_diff = val_score_base - val_score\n",
    "    val_scores_diff_dict.update({feature: val_score_diff})\n",
    "    print(f'Validation DIFF accuracy score: {val_score_diff}')\n",
    "    \n",
    "    print()\n",
    "    print('----------')\n",
    "    "
   ]
  },
  {
   "cell_type": "code",
   "execution_count": 153,
   "id": "9f66478c-a1aa-4432-9b84-489add578ee1",
   "metadata": {},
   "outputs": [
    {
     "data": {
      "text/plain": [
       "[('latitude', 0.2437015503875969),\n",
       " ('longitude', 0.2437015503875969),\n",
       " ('housing_median_age', 0.2437015503875969),\n",
       " ('total_rooms', 0.24345930232558144),\n",
       " ('total_bedrooms', 0.24079457364341095),\n",
       " ('population', 0.2437015503875969),\n",
       " ('households', 0.23909883720930236),\n",
       " ('median_income', 0.06637596899224807),\n",
       " ('ocean_proximity', 0.17829457364341095),\n",
       " ('rooms_per_household', 0.21899224806201556),\n",
       " ('bedrooms_per_room', 0.14631782945736438),\n",
       " ('population_per_household', 0.22965116279069775)]"
      ]
     },
     "execution_count": 153,
     "metadata": {},
     "output_type": "execute_result"
    }
   ],
   "source": [
    "list(val_scores_diff_dict.items())"
   ]
  },
  {
   "cell_type": "markdown",
   "id": "98f53846-5e81-4e61-8844-d0afa915d0e1",
   "metadata": {},
   "source": [
    "#### Question 5\n",
    "Which of following feature has the smallest difference?\n",
    "\n",
    "    households\n"
   ]
  },
  {
   "cell_type": "code",
   "execution_count": 155,
   "id": "90d03e32-6d9a-4b92-957f-08c7ba62dbb3",
   "metadata": {},
   "outputs": [
    {
     "data": {
      "text/plain": [
       "(0.24345930232558144,\n",
       " 0.24079457364341095,\n",
       " 0.2437015503875969,\n",
       " 0.23909883720930236)"
      ]
     },
     "execution_count": 155,
     "metadata": {},
     "output_type": "execute_result"
    }
   ],
   "source": [
    "val_scores_diff_dict['total_rooms'], val_scores_diff_dict['total_bedrooms'], val_scores_diff_dict['population'], val_scores_diff_dict['households']"
   ]
  },
  {
   "cell_type": "markdown",
   "id": "81a15ba1-d0a7-4272-b9d7-5ac432c4030a",
   "metadata": {},
   "source": [
    "## Using Linear Regression with sklearn"
   ]
  },
  {
   "cell_type": "code",
   "execution_count": 156,
   "id": "e19801b7-ab9b-4e50-ad91-27714c79e6e3",
   "metadata": {},
   "outputs": [
    {
     "data": {
      "text/html": [
       "<div>\n",
       "<style scoped>\n",
       "    .dataframe tbody tr th:only-of-type {\n",
       "        vertical-align: middle;\n",
       "    }\n",
       "\n",
       "    .dataframe tbody tr th {\n",
       "        vertical-align: top;\n",
       "    }\n",
       "\n",
       "    .dataframe thead th {\n",
       "        text-align: right;\n",
       "    }\n",
       "</style>\n",
       "<table border=\"1\" class=\"dataframe\">\n",
       "  <thead>\n",
       "    <tr style=\"text-align: right;\">\n",
       "      <th></th>\n",
       "      <th>latitude</th>\n",
       "      <th>longitude</th>\n",
       "      <th>housing_median_age</th>\n",
       "      <th>total_rooms</th>\n",
       "      <th>total_bedrooms</th>\n",
       "      <th>population</th>\n",
       "      <th>households</th>\n",
       "      <th>median_income</th>\n",
       "      <th>ocean_proximity</th>\n",
       "      <th>rooms_per_household</th>\n",
       "      <th>bedrooms_per_room</th>\n",
       "      <th>population_per_household</th>\n",
       "    </tr>\n",
       "  </thead>\n",
       "  <tbody>\n",
       "    <tr>\n",
       "      <th>0</th>\n",
       "      <td>34.43</td>\n",
       "      <td>-119.67</td>\n",
       "      <td>39.0</td>\n",
       "      <td>1467.0</td>\n",
       "      <td>381.0</td>\n",
       "      <td>1404.0</td>\n",
       "      <td>374.0</td>\n",
       "      <td>2.3681</td>\n",
       "      <td>&lt;1H OCEAN</td>\n",
       "      <td>3.922460</td>\n",
       "      <td>0.259714</td>\n",
       "      <td>3.754011</td>\n",
       "    </tr>\n",
       "    <tr>\n",
       "      <th>1</th>\n",
       "      <td>33.74</td>\n",
       "      <td>-118.32</td>\n",
       "      <td>24.0</td>\n",
       "      <td>6097.0</td>\n",
       "      <td>794.0</td>\n",
       "      <td>2248.0</td>\n",
       "      <td>806.0</td>\n",
       "      <td>10.1357</td>\n",
       "      <td>NEAR OCEAN</td>\n",
       "      <td>7.564516</td>\n",
       "      <td>0.130228</td>\n",
       "      <td>2.789082</td>\n",
       "    </tr>\n",
       "    <tr>\n",
       "      <th>2</th>\n",
       "      <td>39.13</td>\n",
       "      <td>-121.62</td>\n",
       "      <td>41.0</td>\n",
       "      <td>1317.0</td>\n",
       "      <td>309.0</td>\n",
       "      <td>856.0</td>\n",
       "      <td>337.0</td>\n",
       "      <td>1.6719</td>\n",
       "      <td>INLAND</td>\n",
       "      <td>3.908012</td>\n",
       "      <td>0.234624</td>\n",
       "      <td>2.540059</td>\n",
       "    </tr>\n",
       "    <tr>\n",
       "      <th>3</th>\n",
       "      <td>34.24</td>\n",
       "      <td>-118.63</td>\n",
       "      <td>9.0</td>\n",
       "      <td>4759.0</td>\n",
       "      <td>924.0</td>\n",
       "      <td>1884.0</td>\n",
       "      <td>915.0</td>\n",
       "      <td>4.8333</td>\n",
       "      <td>&lt;1H OCEAN</td>\n",
       "      <td>5.201093</td>\n",
       "      <td>0.194158</td>\n",
       "      <td>2.059016</td>\n",
       "    </tr>\n",
       "    <tr>\n",
       "      <th>4</th>\n",
       "      <td>37.52</td>\n",
       "      <td>-122.30</td>\n",
       "      <td>38.0</td>\n",
       "      <td>2769.0</td>\n",
       "      <td>387.0</td>\n",
       "      <td>994.0</td>\n",
       "      <td>395.0</td>\n",
       "      <td>5.5902</td>\n",
       "      <td>NEAR OCEAN</td>\n",
       "      <td>7.010127</td>\n",
       "      <td>0.139762</td>\n",
       "      <td>2.516456</td>\n",
       "    </tr>\n",
       "  </tbody>\n",
       "</table>\n",
       "</div>"
      ],
      "text/plain": [
       "   latitude  longitude  housing_median_age  total_rooms  total_bedrooms  \\\n",
       "0     34.43    -119.67                39.0       1467.0           381.0   \n",
       "1     33.74    -118.32                24.0       6097.0           794.0   \n",
       "2     39.13    -121.62                41.0       1317.0           309.0   \n",
       "3     34.24    -118.63                 9.0       4759.0           924.0   \n",
       "4     37.52    -122.30                38.0       2769.0           387.0   \n",
       "\n",
       "   population  households  median_income ocean_proximity  rooms_per_household  \\\n",
       "0      1404.0       374.0         2.3681       <1H OCEAN             3.922460   \n",
       "1      2248.0       806.0        10.1357      NEAR OCEAN             7.564516   \n",
       "2       856.0       337.0         1.6719          INLAND             3.908012   \n",
       "3      1884.0       915.0         4.8333       <1H OCEAN             5.201093   \n",
       "4       994.0       395.0         5.5902      NEAR OCEAN             7.010127   \n",
       "\n",
       "   bedrooms_per_room  population_per_household  \n",
       "0           0.259714                  3.754011  \n",
       "1           0.130228                  2.789082  \n",
       "2           0.234624                  2.540059  \n",
       "3           0.194158                  2.059016  \n",
       "4           0.139762                  2.516456  "
      ]
     },
     "execution_count": 156,
     "metadata": {},
     "output_type": "execute_result"
    }
   ],
   "source": [
    "train_df.head()"
   ]
  },
  {
   "cell_type": "code",
   "execution_count": 158,
   "id": "b5207797-8b67-41db-94bc-fafd9000d4db",
   "metadata": {},
   "outputs": [
    {
     "data": {
      "text/plain": [
       "array([241400., 500001.,  64100., 277200., 417000.])"
      ]
     },
     "execution_count": 158,
     "metadata": {},
     "output_type": "execute_result"
    }
   ],
   "source": [
    "y_train[:5]"
   ]
  },
  {
   "cell_type": "code",
   "execution_count": 157,
   "id": "2ba5fc96-ab22-4572-8293-984342c4045d",
   "metadata": {},
   "outputs": [
    {
     "data": {
      "text/html": [
       "<div>\n",
       "<style scoped>\n",
       "    .dataframe tbody tr th:only-of-type {\n",
       "        vertical-align: middle;\n",
       "    }\n",
       "\n",
       "    .dataframe tbody tr th {\n",
       "        vertical-align: top;\n",
       "    }\n",
       "\n",
       "    .dataframe thead th {\n",
       "        text-align: right;\n",
       "    }\n",
       "</style>\n",
       "<table border=\"1\" class=\"dataframe\">\n",
       "  <thead>\n",
       "    <tr style=\"text-align: right;\">\n",
       "      <th></th>\n",
       "      <th>latitude</th>\n",
       "      <th>longitude</th>\n",
       "      <th>housing_median_age</th>\n",
       "      <th>total_rooms</th>\n",
       "      <th>total_bedrooms</th>\n",
       "      <th>population</th>\n",
       "      <th>households</th>\n",
       "      <th>median_income</th>\n",
       "      <th>ocean_proximity</th>\n",
       "      <th>rooms_per_household</th>\n",
       "      <th>bedrooms_per_room</th>\n",
       "      <th>population_per_household</th>\n",
       "    </tr>\n",
       "  </thead>\n",
       "  <tbody>\n",
       "    <tr>\n",
       "      <th>0</th>\n",
       "      <td>36.74</td>\n",
       "      <td>-119.85</td>\n",
       "      <td>35.0</td>\n",
       "      <td>1191.0</td>\n",
       "      <td>190.0</td>\n",
       "      <td>537.0</td>\n",
       "      <td>182.0</td>\n",
       "      <td>3.5375</td>\n",
       "      <td>INLAND</td>\n",
       "      <td>6.543956</td>\n",
       "      <td>0.159530</td>\n",
       "      <td>2.950549</td>\n",
       "    </tr>\n",
       "    <tr>\n",
       "      <th>1</th>\n",
       "      <td>41.02</td>\n",
       "      <td>-124.16</td>\n",
       "      <td>23.0</td>\n",
       "      <td>1672.0</td>\n",
       "      <td>385.0</td>\n",
       "      <td>1060.0</td>\n",
       "      <td>390.0</td>\n",
       "      <td>2.1726</td>\n",
       "      <td>NEAR OCEAN</td>\n",
       "      <td>4.287179</td>\n",
       "      <td>0.230263</td>\n",
       "      <td>2.717949</td>\n",
       "    </tr>\n",
       "    <tr>\n",
       "      <th>2</th>\n",
       "      <td>33.67</td>\n",
       "      <td>-117.92</td>\n",
       "      <td>14.0</td>\n",
       "      <td>6224.0</td>\n",
       "      <td>1679.0</td>\n",
       "      <td>3148.0</td>\n",
       "      <td>1589.0</td>\n",
       "      <td>4.2071</td>\n",
       "      <td>&lt;1H OCEAN</td>\n",
       "      <td>3.916929</td>\n",
       "      <td>0.269762</td>\n",
       "      <td>1.981120</td>\n",
       "    </tr>\n",
       "    <tr>\n",
       "      <th>3</th>\n",
       "      <td>34.15</td>\n",
       "      <td>-118.45</td>\n",
       "      <td>10.0</td>\n",
       "      <td>1091.0</td>\n",
       "      <td>260.0</td>\n",
       "      <td>517.0</td>\n",
       "      <td>266.0</td>\n",
       "      <td>4.1727</td>\n",
       "      <td>&lt;1H OCEAN</td>\n",
       "      <td>4.101504</td>\n",
       "      <td>0.238313</td>\n",
       "      <td>1.943609</td>\n",
       "    </tr>\n",
       "    <tr>\n",
       "      <th>4</th>\n",
       "      <td>33.63</td>\n",
       "      <td>-117.90</td>\n",
       "      <td>28.0</td>\n",
       "      <td>2370.0</td>\n",
       "      <td>352.0</td>\n",
       "      <td>832.0</td>\n",
       "      <td>347.0</td>\n",
       "      <td>7.1148</td>\n",
       "      <td>&lt;1H OCEAN</td>\n",
       "      <td>6.829971</td>\n",
       "      <td>0.148523</td>\n",
       "      <td>2.397695</td>\n",
       "    </tr>\n",
       "  </tbody>\n",
       "</table>\n",
       "</div>"
      ],
      "text/plain": [
       "   latitude  longitude  housing_median_age  total_rooms  total_bedrooms  \\\n",
       "0     36.74    -119.85                35.0       1191.0           190.0   \n",
       "1     41.02    -124.16                23.0       1672.0           385.0   \n",
       "2     33.67    -117.92                14.0       6224.0          1679.0   \n",
       "3     34.15    -118.45                10.0       1091.0           260.0   \n",
       "4     33.63    -117.90                28.0       2370.0           352.0   \n",
       "\n",
       "   population  households  median_income ocean_proximity  rooms_per_household  \\\n",
       "0       537.0       182.0         3.5375          INLAND             6.543956   \n",
       "1      1060.0       390.0         2.1726      NEAR OCEAN             4.287179   \n",
       "2      3148.0      1589.0         4.2071       <1H OCEAN             3.916929   \n",
       "3       517.0       266.0         4.1727       <1H OCEAN             4.101504   \n",
       "4       832.0       347.0         7.1148       <1H OCEAN             6.829971   \n",
       "\n",
       "   bedrooms_per_room  population_per_household  \n",
       "0           0.159530                  2.950549  \n",
       "1           0.230263                  2.717949  \n",
       "2           0.269762                  1.981120  \n",
       "3           0.238313                  1.943609  \n",
       "4           0.148523                  2.397695  "
      ]
     },
     "execution_count": 157,
     "metadata": {},
     "output_type": "execute_result"
    }
   ],
   "source": [
    "val_df.head()"
   ]
  },
  {
   "cell_type": "code",
   "execution_count": 159,
   "id": "ef43f660-d9fc-4fcf-8c54-3c05ad220b84",
   "metadata": {},
   "outputs": [
    {
     "data": {
      "text/plain": [
       "array([ 96700.,  75500., 430900., 332600., 500001.])"
      ]
     },
     "execution_count": 159,
     "metadata": {},
     "output_type": "execute_result"
    }
   ],
   "source": [
    "y_val[:5]"
   ]
  },
  {
   "cell_type": "code",
   "execution_count": 161,
   "id": "f64f5a06-13d8-4a80-8367-e63afdb27a37",
   "metadata": {},
   "outputs": [
    {
     "data": {
      "text/html": [
       "<div>\n",
       "<style scoped>\n",
       "    .dataframe tbody tr th:only-of-type {\n",
       "        vertical-align: middle;\n",
       "    }\n",
       "\n",
       "    .dataframe tbody tr th {\n",
       "        vertical-align: top;\n",
       "    }\n",
       "\n",
       "    .dataframe thead th {\n",
       "        text-align: right;\n",
       "    }\n",
       "</style>\n",
       "<table border=\"1\" class=\"dataframe\">\n",
       "  <thead>\n",
       "    <tr style=\"text-align: right;\">\n",
       "      <th></th>\n",
       "      <th>latitude</th>\n",
       "      <th>longitude</th>\n",
       "      <th>housing_median_age</th>\n",
       "      <th>total_rooms</th>\n",
       "      <th>total_bedrooms</th>\n",
       "      <th>population</th>\n",
       "      <th>households</th>\n",
       "      <th>median_income</th>\n",
       "      <th>ocean_proximity</th>\n",
       "      <th>rooms_per_household</th>\n",
       "      <th>bedrooms_per_room</th>\n",
       "      <th>population_per_household</th>\n",
       "    </tr>\n",
       "  </thead>\n",
       "  <tbody>\n",
       "    <tr>\n",
       "      <th>0</th>\n",
       "      <td>36.06</td>\n",
       "      <td>-119.01</td>\n",
       "      <td>25.0</td>\n",
       "      <td>1505.0</td>\n",
       "      <td>0.0</td>\n",
       "      <td>1392.0</td>\n",
       "      <td>359.0</td>\n",
       "      <td>1.6812</td>\n",
       "      <td>INLAND</td>\n",
       "      <td>4.192201</td>\n",
       "      <td>0.0</td>\n",
       "      <td>3.877437</td>\n",
       "    </tr>\n",
       "    <tr>\n",
       "      <th>1</th>\n",
       "      <td>35.14</td>\n",
       "      <td>-119.46</td>\n",
       "      <td>30.0</td>\n",
       "      <td>2943.0</td>\n",
       "      <td>0.0</td>\n",
       "      <td>1565.0</td>\n",
       "      <td>584.0</td>\n",
       "      <td>2.5313</td>\n",
       "      <td>INLAND</td>\n",
       "      <td>5.039384</td>\n",
       "      <td>0.0</td>\n",
       "      <td>2.679795</td>\n",
       "    </tr>\n",
       "    <tr>\n",
       "      <th>2</th>\n",
       "      <td>37.80</td>\n",
       "      <td>-122.44</td>\n",
       "      <td>52.0</td>\n",
       "      <td>3830.0</td>\n",
       "      <td>0.0</td>\n",
       "      <td>1310.0</td>\n",
       "      <td>963.0</td>\n",
       "      <td>3.4801</td>\n",
       "      <td>NEAR BAY</td>\n",
       "      <td>3.977155</td>\n",
       "      <td>0.0</td>\n",
       "      <td>1.360332</td>\n",
       "    </tr>\n",
       "    <tr>\n",
       "      <th>3</th>\n",
       "      <td>34.28</td>\n",
       "      <td>-118.72</td>\n",
       "      <td>17.0</td>\n",
       "      <td>3051.0</td>\n",
       "      <td>0.0</td>\n",
       "      <td>1705.0</td>\n",
       "      <td>495.0</td>\n",
       "      <td>5.7376</td>\n",
       "      <td>&lt;1H OCEAN</td>\n",
       "      <td>6.163636</td>\n",
       "      <td>0.0</td>\n",
       "      <td>3.444444</td>\n",
       "    </tr>\n",
       "    <tr>\n",
       "      <th>4</th>\n",
       "      <td>36.62</td>\n",
       "      <td>-121.93</td>\n",
       "      <td>34.0</td>\n",
       "      <td>2351.0</td>\n",
       "      <td>0.0</td>\n",
       "      <td>1063.0</td>\n",
       "      <td>428.0</td>\n",
       "      <td>3.7250</td>\n",
       "      <td>NEAR OCEAN</td>\n",
       "      <td>5.492991</td>\n",
       "      <td>0.0</td>\n",
       "      <td>2.483645</td>\n",
       "    </tr>\n",
       "  </tbody>\n",
       "</table>\n",
       "</div>"
      ],
      "text/plain": [
       "   latitude  longitude  housing_median_age  total_rooms  total_bedrooms  \\\n",
       "0     36.06    -119.01                25.0       1505.0             0.0   \n",
       "1     35.14    -119.46                30.0       2943.0             0.0   \n",
       "2     37.80    -122.44                52.0       3830.0             0.0   \n",
       "3     34.28    -118.72                17.0       3051.0             0.0   \n",
       "4     36.62    -121.93                34.0       2351.0             0.0   \n",
       "\n",
       "   population  households  median_income ocean_proximity  rooms_per_household  \\\n",
       "0      1392.0       359.0         1.6812          INLAND             4.192201   \n",
       "1      1565.0       584.0         2.5313          INLAND             5.039384   \n",
       "2      1310.0       963.0         3.4801        NEAR BAY             3.977155   \n",
       "3      1705.0       495.0         5.7376       <1H OCEAN             6.163636   \n",
       "4      1063.0       428.0         3.7250      NEAR OCEAN             5.492991   \n",
       "\n",
       "   bedrooms_per_room  population_per_household  \n",
       "0                0.0                  3.877437  \n",
       "1                0.0                  2.679795  \n",
       "2                0.0                  1.360332  \n",
       "3                0.0                  3.444444  \n",
       "4                0.0                  2.483645  "
      ]
     },
     "execution_count": 161,
     "metadata": {},
     "output_type": "execute_result"
    }
   ],
   "source": [
    "test_df.head()"
   ]
  },
  {
   "cell_type": "code",
   "execution_count": 162,
   "id": "525631d5-36c8-496c-bc39-02992f4cc27e",
   "metadata": {},
   "outputs": [
    {
     "data": {
      "text/plain": [
       "array([ 47700.,  45800., 500001., 218600., 278000.])"
      ]
     },
     "execution_count": 162,
     "metadata": {},
     "output_type": "execute_result"
    }
   ],
   "source": [
    "y_test[:5]"
   ]
  },
  {
   "cell_type": "code",
   "execution_count": 164,
   "id": "2aa2e31c-6628-4ca4-adec-ee6ec7ace546",
   "metadata": {},
   "outputs": [],
   "source": [
    "y_train_log = np.log1p(y_train)\n",
    "y_val_log = np.log1p(y_val)\n",
    "y_test_log = np.log1p(y_test)"
   ]
  },
  {
   "cell_type": "code",
   "execution_count": 167,
   "id": "8c0b660c-094f-4204-8d14-01a5dcbf3a8e",
   "metadata": {},
   "outputs": [],
   "source": [
    "# distribution of price\n",
    "import matplotlib.pyplot as plt\n",
    "import seaborn as sns\n",
    "\n",
    "%matplotlib inline"
   ]
  },
  {
   "cell_type": "code",
   "execution_count": 170,
   "id": "0c58fd5f-888c-4f26-a058-c346ed890730",
   "metadata": {},
   "outputs": [
    {
     "data": {
      "image/png": "[encoded data removed]",
      "text/plain": [
       "<Figure size 432x288 with 1 Axes>"
      ]
     },
     "metadata": {
      "needs_background": "light"
     },
     "output_type": "display_data"
    }
   ],
   "source": [
    "sns.histplot(y_train, bins=50) \n",
    "plt.show()"
   ]
  },
  {
   "cell_type": "code",
   "execution_count": 169,
   "id": "eff20fad-acde-4b7b-890f-a48aef4fa994",
   "metadata": {},
   "outputs": [
    {
     "data": {
      "image/png": "[encoded data removed]",
      "text/plain": [
       "<Figure size 432x288 with 1 Axes>"
      ]
     },
     "metadata": {
      "needs_background": "light"
     },
     "output_type": "display_data"
    }
   ],
   "source": [
    "sns.histplot(y_train_log, bins=50) \n",
    "plt.show()"
   ]
  },
  {
   "cell_type": "markdown",
   "id": "6f94ff33-52fe-4525-93c9-05622ccbe2da",
   "metadata": {},
   "source": [
    "#### Question 6\n",
    "This model has a parameter alpha. Let's try the following values: $[0, 0.01, 0.1, 1, 10]$\n",
    "Which of these alphas leads to the best RMSE on the validation set? Round your RMSE scores to 3 decimal digits.\n",
    "\n",
    "    (0, 0.524063570701514)"
   ]
  },
  {
   "cell_type": "code",
   "execution_count": 173,
   "id": "69cdf3e6-3bcf-4439-a3bc-cb192ababde9",
   "metadata": {},
   "outputs": [],
   "source": [
    "from sklearn.linear_model import Ridge # Linear least squares with l2 regularization\n",
    "\n",
    "from sklearn.metrics import mean_squared_error as mse"
   ]
  },
  {
   "cell_type": "code",
   "execution_count": 177,
   "id": "adbb3fe5-19eb-4a61-a858-e493b2190d2c",
   "metadata": {},
   "outputs": [
    {
     "name": "stdout",
     "output_type": "stream",
     "text": [
      "a = 0\n",
      "RMSE on validation dataset: 0.524\n",
      "\n",
      "a = 0.01\n",
      "RMSE on validation dataset: 0.524\n",
      "\n",
      "a = 0.1\n",
      "RMSE on validation dataset: 0.524\n",
      "\n",
      "a = 1\n",
      "RMSE on validation dataset: 0.524\n",
      "\n",
      "a = 10\n",
      "RMSE on validation dataset: 0.524\n",
      "\n"
     ]
    }
   ],
   "source": [
    "rmse_lst = []\n",
    "\n",
    "for a in [0, 0.01, 0.1, 1, 10]:\n",
    "\n",
    "    dv = DictVectorizer(sparse=False)\n",
    "    train_dicts = train_df[numerical + ['ocean_proximity']].to_dict(orient='records')\n",
    "    X_train = dv.fit_transform(train_dicts)\n",
    "\n",
    "    val_dicts = val_df[numerical + ['ocean_proximity']].to_dict(orient='records')  \n",
    "    X_val = dv.transform(val_dicts)\n",
    "    \n",
    "    model = Ridge(alpha=a, solver=\"sag\", random_state=42)\n",
    "    model.fit(X_train, y_train_log)\n",
    "    \n",
    "    y_predict = model.predict(X_val)\n",
    "    \n",
    "    rmse = np.sqrt(mse(y_val_log, y_predict))\n",
    "    \n",
    "    rmse_lst.append((a, rmse))\n",
    "    print(f'a = {a}')\n",
    "    print(f'RMSE on validation dataset: {rmse.round(3)}')\n",
    "    print()"
   ]
  },
  {
   "cell_type": "code",
   "execution_count": 185,
   "id": "ff184839-cbb9-4b04-9151-f0be68200684",
   "metadata": {},
   "outputs": [
    {
     "data": {
      "text/plain": [
       "(0, 0.524063570701514)"
      ]
     },
     "execution_count": 185,
     "metadata": {},
     "output_type": "execute_result"
    }
   ],
   "source": [
    "min(rmse_lst, key=lambda x: x[1])"
   ]
  },
  {
   "cell_type": "code",
   "execution_count": null,
   "id": "ef589c8b-aa87-464f-b001-a5e50d231cbb",
   "metadata": {},
   "outputs": [],
   "source": []
  }
 ],
 "metadata": {
  "kernelspec": {
   "display_name": "Python 3 (ipykernel)",
   "language": "python",
   "name": "python3"
  },
  "language_info": {
   "codemirror_mode": {
    "name": "ipython",
    "version": 3
   },
   "file_extension": ".py",
   "mimetype": "text/x-python",
   "name": "python",
   "nbconvert_exporter": "python",
   "pygments_lexer": "ipython3",
   "version": "3.9.7"
  }
 },
 "nbformat": 4,
 "nbformat_minor": 5
}
