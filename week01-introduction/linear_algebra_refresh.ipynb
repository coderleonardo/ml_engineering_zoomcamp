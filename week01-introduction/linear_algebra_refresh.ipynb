{
 "cells": [
  {
   "cell_type": "code",
   "execution_count": 1,
   "id": "0383ab35-9ad2-44a7-83ba-ffe2089355fb",
   "metadata": {},
   "outputs": [],
   "source": [
    "import numpy as np"
   ]
  },
  {
   "cell_type": "code",
   "execution_count": 2,
   "id": "a671546f-94b6-4c7e-9e5f-cd81732b736f",
   "metadata": {},
   "outputs": [],
   "source": [
    "u = np.array([2, 4, 5, 6])\n",
    "v = np.array([1, 0, 0, 2])"
   ]
  },
  {
   "cell_type": "code",
   "execution_count": 3,
   "id": "4b2f2b2c-615e-421f-a2e9-90b9fcd7a0aa",
   "metadata": {},
   "outputs": [
    {
     "data": {
      "text/plain": [
       "array([ 2,  0,  0, 12])"
      ]
     },
     "execution_count": 3,
     "metadata": {},
     "output_type": "execute_result"
    }
   ],
   "source": [
    "# element-wise multiplication\n",
    "u * v"
   ]
  },
  {
   "cell_type": "code",
   "execution_count": 4,
   "id": "10bb9185-09df-44c7-b93e-8655d9b6b3b2",
   "metadata": {},
   "outputs": [
    {
     "data": {
      "text/plain": [
       "array([ 4,  8, 10, 12])"
      ]
     },
     "execution_count": 4,
     "metadata": {},
     "output_type": "execute_result"
    }
   ],
   "source": [
    "u * 2"
   ]
  },
  {
   "cell_type": "markdown",
   "id": "83a73942-ec5e-4272-81e8-e513a3f18118",
   "metadata": {},
   "source": [
    "**dot product**\n",
    "$$ \\sum_{i=0}^{n-1} u_iv_i $$"
   ]
  },
  {
   "cell_type": "code",
   "execution_count": 5,
   "id": "f5c8d50d-efd8-4d69-b4fa-f10cf652ef2a",
   "metadata": {},
   "outputs": [],
   "source": [
    "# dot product\n",
    "def dot_product(u, v):\n",
    "    assert u.shape[0] == v.shape[0]\n",
    "    \n",
    "    n = u.shape[0]\n",
    "    \n",
    "    result = 0.0\n",
    "    for i in range(n):\n",
    "        result = result + u[i] * v[i]\n",
    "    \n",
    "    return result"
   ]
  },
  {
   "cell_type": "code",
   "execution_count": 6,
   "id": "9419e095-97b7-4951-a39d-b1bb870636d5",
   "metadata": {},
   "outputs": [
    {
     "data": {
      "text/plain": [
       "14.0"
      ]
     },
     "execution_count": 6,
     "metadata": {},
     "output_type": "execute_result"
    }
   ],
   "source": [
    "dot_product(u, v)"
   ]
  },
  {
   "cell_type": "code",
   "execution_count": 7,
   "id": "dce2ae36-f7ef-4e62-802d-71b52153f649",
   "metadata": {},
   "outputs": [
    {
     "data": {
      "text/plain": [
       "14"
      ]
     },
     "execution_count": 7,
     "metadata": {},
     "output_type": "execute_result"
    }
   ],
   "source": [
    "u.dot(v)"
   ]
  },
  {
   "cell_type": "code",
   "execution_count": 8,
   "id": "658bf13d-40e6-412f-b8f7-c0d68a3d3219",
   "metadata": {},
   "outputs": [],
   "source": [
    "U = np.array([\n",
    "    [2, 4, 5, 6],\n",
    "    [1, 2, 1, 2],\n",
    "    [3, 1, 2, 1]])"
   ]
  },
  {
   "cell_type": "code",
   "execution_count": 10,
   "id": "9d02c8f0-241f-46e8-889b-54c1632aced8",
   "metadata": {},
   "outputs": [
    {
     "data": {
      "text/plain": [
       "4"
      ]
     },
     "execution_count": 10,
     "metadata": {},
     "output_type": "execute_result"
    }
   ],
   "source": [
    "U.shape[1] "
   ]
  },
  {
   "cell_type": "code",
   "execution_count": 9,
   "id": "2cf2fc60-b7ea-4497-9601-95bb8a3aaf62",
   "metadata": {},
   "outputs": [],
   "source": [
    "v = np.array([1, 0.5, 2, 1])"
   ]
  },
  {
   "cell_type": "code",
   "execution_count": 11,
   "id": "1ac45529-c27b-422f-a7eb-9a7b88582c3c",
   "metadata": {},
   "outputs": [
    {
     "data": {
      "text/plain": [
       "4"
      ]
     },
     "execution_count": 11,
     "metadata": {},
     "output_type": "execute_result"
    }
   ],
   "source": [
    "v.shape[0]"
   ]
  },
  {
   "cell_type": "code",
   "execution_count": 14,
   "id": "be195844-fdda-436d-8a85-9f0d24dd5ce6",
   "metadata": {},
   "outputs": [],
   "source": [
    "# U_34 x v_41 -> Uv_31\n",
    "def matrix_vec_multi(U, v):\n",
    "    assert U.shape[1] == v.shape[0]\n",
    "    \n",
    "    n_rows = U.shape[0]\n",
    "    \n",
    "    result = np.zeros(n_rows)\n",
    "    \n",
    "    for i in range(n_rows):\n",
    "        result[i] = U[i].dot(v)\n",
    "        \n",
    "    return result"
   ]
  },
  {
   "cell_type": "code",
   "execution_count": 15,
   "id": "cda8cdc7-2551-4a59-a734-0e900c288789",
   "metadata": {},
   "outputs": [
    {
     "data": {
      "text/plain": [
       "array([20. ,  6. ,  8.5])"
      ]
     },
     "execution_count": 15,
     "metadata": {},
     "output_type": "execute_result"
    }
   ],
   "source": [
    "matrix_vec_multi(U, v)"
   ]
  },
  {
   "cell_type": "code",
   "execution_count": 16,
   "id": "226ac9d5-1174-476f-af34-0e504ed36bc7",
   "metadata": {},
   "outputs": [],
   "source": [
    "# matrix multiplication\n",
    "V = np.array([\n",
    "    [1, 1, 2],\n",
    "    [0, 0.5, 1],\n",
    "    [0, 2, 1],\n",
    "    [2, 1, 0]])"
   ]
  },
  {
   "cell_type": "code",
   "execution_count": 23,
   "id": "f2f872a4-381a-4982-9540-9bc6e49f2904",
   "metadata": {},
   "outputs": [
    {
     "data": {
      "text/plain": [
       "4"
      ]
     },
     "execution_count": 23,
     "metadata": {},
     "output_type": "execute_result"
    }
   ],
   "source": [
    "V.shape[0]"
   ]
  },
  {
   "cell_type": "code",
   "execution_count": 24,
   "id": "173d1efa-2744-40d2-b262-0dacca48ed83",
   "metadata": {},
   "outputs": [
    {
     "name": "stdout",
     "output_type": "stream",
     "text": [
      "(3,)\n",
      "(3,)\n",
      "(3,)\n"
     ]
    }
   ],
   "source": [
    "for i in range(V.shape[1]):\n",
    "    print(U[:, i].shape)"
   ]
  },
  {
   "cell_type": "code",
   "execution_count": 20,
   "id": "f69364a5-6327-4f16-9586-412a5be7210f",
   "metadata": {},
   "outputs": [],
   "source": [
    "def matrix_multi(U, V):\n",
    "    assert U.shape[1] == V.shape[0]\n",
    "    \n",
    "    n_rows = U.shape[0]\n",
    "    n_cols = V.shape[1]\n",
    "    \n",
    "    result = np.zeros((n_rows, n_cols))\n",
    "    \n",
    "    for i in range(n_cols):\n",
    "        vi = U[:, i]\n",
    "        Uvi = matrix_vec_multi(U, vi)\n",
    "        result[:, i] = Uvi\n",
    "        \n",
    "    return result"
   ]
  },
  {
   "cell_type": "code",
   "execution_count": null,
   "id": "f8f4d424-7ee6-4f31-8f40-6baed58433e3",
   "metadata": {},
   "outputs": [],
   "source": [
    "matrix_multi(U, V)"
   ]
  },
  {
   "cell_type": "code",
   "execution_count": 27,
   "id": "8b66d2b4-176d-40cb-99c9-bc270ab800ce",
   "metadata": {},
   "outputs": [
    {
     "data": {
      "text/plain": [
       "array([[1., 0., 0., 0., 0.],\n",
       "       [0., 1., 0., 0., 0.],\n",
       "       [0., 0., 1., 0., 0.],\n",
       "       [0., 0., 0., 1., 0.],\n",
       "       [0., 0., 0., 0., 1.]])"
      ]
     },
     "execution_count": 27,
     "metadata": {},
     "output_type": "execute_result"
    }
   ],
   "source": [
    "# identity matrix: diagonal has 1's and zeros everywhere\n",
    "n = 5\n",
    "I = np.eye(n)\n",
    "I"
   ]
  },
  {
   "cell_type": "code",
   "execution_count": 30,
   "id": "82cbc9f3-5a82-4f30-905d-6f16e131090d",
   "metadata": {},
   "outputs": [
    {
     "data": {
      "text/plain": [
       "array([[1. , 1. , 2. ],\n",
       "       [0. , 0.5, 1. ],\n",
       "       [0. , 2. , 1. ]])"
      ]
     },
     "execution_count": 30,
     "metadata": {},
     "output_type": "execute_result"
    }
   ],
   "source": [
    "Vs = V[:3, :]\n",
    "Vs"
   ]
  },
  {
   "cell_type": "code",
   "execution_count": 32,
   "id": "b6e34510-d2c0-4c2c-af1d-768375816f3c",
   "metadata": {},
   "outputs": [
    {
     "data": {
      "text/plain": [
       "array([[ 1.        , -0.66666667, -1.33333333],\n",
       "       [ 0.        ,  1.33333333, -0.66666667],\n",
       "       [ 0.        , -1.33333333,  1.        ]])"
      ]
     },
     "execution_count": 32,
     "metadata": {},
     "output_type": "execute_result"
    }
   ],
   "source": [
    "# inverse matrix\n",
    "matrix_multi(np.linalg.inv(Vs), Vs)"
   ]
  },
  {
   "cell_type": "code",
   "execution_count": null,
   "id": "31881d25-5909-470b-93aa-3f0385666b93",
   "metadata": {},
   "outputs": [],
   "source": []
  }
 ],
 "metadata": {
  "kernelspec": {
   "display_name": "Python 3 (ipykernel)",
   "language": "python",
   "name": "python3"
  },
  "language_info": {
   "codemirror_mode": {
    "name": "ipython",
    "version": 3
   },
   "file_extension": ".py",
   "mimetype": "text/x-python",
   "name": "python",
   "nbconvert_exporter": "python",
   "pygments_lexer": "ipython3",
   "version": "3.9.7"
  }
 },
 "nbformat": 4,
 "nbformat_minor": 5
}
